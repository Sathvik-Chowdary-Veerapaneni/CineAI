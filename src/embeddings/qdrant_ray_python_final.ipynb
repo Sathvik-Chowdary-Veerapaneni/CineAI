{
 "cells": [
  {
   "cell_type": "markdown",
   "metadata": {},
   "source": [
    "Dataset Loading"
   ]
  },
  {
   "cell_type": "code",
   "execution_count": 5,
   "metadata": {},
   "outputs": [
    {
     "data": {
      "text/html": [
       "<div>\n",
       "<style scoped>\n",
       "    .dataframe tbody tr th:only-of-type {\n",
       "        vertical-align: middle;\n",
       "    }\n",
       "\n",
       "    .dataframe tbody tr th {\n",
       "        vertical-align: top;\n",
       "    }\n",
       "\n",
       "    .dataframe thead th {\n",
       "        text-align: right;\n",
       "    }\n",
       "</style>\n",
       "<table border=\"1\" class=\"dataframe\">\n",
       "  <thead>\n",
       "    <tr style=\"text-align: right;\">\n",
       "      <th></th>\n",
       "      <th>movie_id</th>\n",
       "      <th>title</th>\n",
       "      <th>overview</th>\n",
       "      <th>release_date</th>\n",
       "      <th>runtime</th>\n",
       "      <th>original_language</th>\n",
       "      <th>popularity</th>\n",
       "      <th>genres_str</th>\n",
       "    </tr>\n",
       "  </thead>\n",
       "  <tbody>\n",
       "    <tr>\n",
       "      <th>0</th>\n",
       "      <td>98.0</td>\n",
       "      <td>Gladiator</td>\n",
       "      <td>In the year 180, the death of Emperor Marcus A...</td>\n",
       "      <td>2000-05-04</td>\n",
       "      <td>155.0</td>\n",
       "      <td>en</td>\n",
       "      <td>497.649</td>\n",
       "      <td>['Action' 'Drama' 'Adventure']</td>\n",
       "    </tr>\n",
       "    <tr>\n",
       "      <th>1</th>\n",
       "      <td>8871.0</td>\n",
       "      <td>How the Grinch Stole Christmas</td>\n",
       "      <td>The Grinch decides to rob Whoville of Christma...</td>\n",
       "      <td>2000-11-17</td>\n",
       "      <td>104.0</td>\n",
       "      <td>en</td>\n",
       "      <td>177.539</td>\n",
       "      <td>['Family' 'Comedy' 'Fantasy']</td>\n",
       "    </tr>\n",
       "    <tr>\n",
       "      <th>2</th>\n",
       "      <td>7443.0</td>\n",
       "      <td>Chicken Run</td>\n",
       "      <td>The creators of Wallace &amp; Gromit bring you an ...</td>\n",
       "      <td>2000-06-23</td>\n",
       "      <td>84.0</td>\n",
       "      <td>en</td>\n",
       "      <td>62.638</td>\n",
       "      <td>['Animation' 'Comedy' 'Family']</td>\n",
       "    </tr>\n",
       "    <tr>\n",
       "      <th>3</th>\n",
       "      <td>9532.0</td>\n",
       "      <td>Final Destination</td>\n",
       "      <td>After a teenager has a terrifying vision of hi...</td>\n",
       "      <td>2000-03-17</td>\n",
       "      <td>98.0</td>\n",
       "      <td>en</td>\n",
       "      <td>54.097</td>\n",
       "      <td>['Horror']</td>\n",
       "    </tr>\n",
       "    <tr>\n",
       "      <th>4</th>\n",
       "      <td>77.0</td>\n",
       "      <td>Memento</td>\n",
       "      <td>Leonard Shelby is tracking down the man who ra...</td>\n",
       "      <td>2000-10-11</td>\n",
       "      <td>113.0</td>\n",
       "      <td>en</td>\n",
       "      <td>95.374</td>\n",
       "      <td>['Mystery' 'Thriller']</td>\n",
       "    </tr>\n",
       "  </tbody>\n",
       "</table>\n",
       "</div>"
      ],
      "text/plain": [
       "   movie_id                           title  \\\n",
       "0      98.0                       Gladiator   \n",
       "1    8871.0  How the Grinch Stole Christmas   \n",
       "2    7443.0                     Chicken Run   \n",
       "3    9532.0               Final Destination   \n",
       "4      77.0                         Memento   \n",
       "\n",
       "                                            overview release_date  runtime  \\\n",
       "0  In the year 180, the death of Emperor Marcus A...   2000-05-04    155.0   \n",
       "1  The Grinch decides to rob Whoville of Christma...   2000-11-17    104.0   \n",
       "2  The creators of Wallace & Gromit bring you an ...   2000-06-23     84.0   \n",
       "3  After a teenager has a terrifying vision of hi...   2000-03-17     98.0   \n",
       "4  Leonard Shelby is tracking down the man who ra...   2000-10-11    113.0   \n",
       "\n",
       "  original_language  popularity                       genres_str  \n",
       "0                en     497.649   ['Action' 'Drama' 'Adventure']  \n",
       "1                en     177.539    ['Family' 'Comedy' 'Fantasy']  \n",
       "2                en      62.638  ['Animation' 'Comedy' 'Family']  \n",
       "3                en      54.097                       ['Horror']  \n",
       "4                en      95.374           ['Mystery' 'Thriller']  "
      ]
     },
     "execution_count": 5,
     "metadata": {},
     "output_type": "execute_result"
    }
   ],
   "source": [
    "from datasets import load_dataset\n",
    "\n",
    "# Load the Parquet file from Hugging Face\n",
    "dataset = load_dataset(\n",
    "    \"parquet\",\n",
    "    data_files={\n",
    "        \"train\": \"https://huggingface.co/datasets/SathvikVeerapaneni7/CineAI_Dataset/resolve/main/parquet_files/details_df_clean.parquet\"\n",
    "    },\n",
    "    split=\"train\"\n",
    ")\n",
    "\n",
    "# Convert to a Pandas DataFrame\n",
    "df_details = dataset.to_pandas()\n",
    "df_details.head()\n"
   ]
  },
  {
   "cell_type": "code",
   "execution_count": 6,
   "metadata": {},
   "outputs": [
    {
     "name": "stdout",
     "output_type": "stream",
     "text": [
      "Gladiator. In the year 180, the death of Emperor Marcus Aurelius throws the Roman Empire into chaos. Maximus is one of the Roman army's most capable and trusted generals, as well as a key advisor to the emperor. As Marcus' devious son Commodus ascends to the throne, Maximus is sentenced to execution. He escapes but is captured by slave traders. Renamed \"Spaniard\" and forced to become a gladiator, Maximus must battle to the death against other men for the amusement of paying audiences.. Genres: ['Action' 'Drama' 'Adventure']\n"
     ]
    }
   ],
   "source": [
    "#combining title,overview,genres_str into a single text\n",
    "\n",
    "first_title = df_details.loc[0, \"title\"]\n",
    "first_overview = df_details.loc[0, \"overview\"]\n",
    "first_genres = df_details.loc[0, \"genres_str\"]\n",
    "\n",
    "combined_text = f\"{first_title}. {first_overview}. Genres: {first_genres}\"\n",
    "print(combined_text)"
   ]
  },
  {
   "cell_type": "code",
   "execution_count": 7,
   "metadata": {},
   "outputs": [
    {
     "data": {
      "text/plain": [
       "Index(['movie_id', 'title', 'overview', 'release_date', 'runtime',\n",
       "       'original_language', 'popularity', 'genres_str'],\n",
       "      dtype='object')"
      ]
     },
     "execution_count": 7,
     "metadata": {},
     "output_type": "execute_result"
    }
   ],
   "source": [
    "df_details.columns"
   ]
  },
  {
   "cell_type": "markdown",
   "metadata": {},
   "source": [
    "New data frame 'df_combined' after filtering"
   ]
  },
  {
   "cell_type": "code",
   "execution_count": 35,
   "metadata": {},
   "outputs": [],
   "source": [
    "import re\n",
    "import pandas as pd\n",
    "\n",
    "def clean_genres(raw_genres: str) -> str:\n",
    "    \"\"\"\n",
    "    Removes brackets, quotes, and splits on whitespace to produce\n",
    "    a comma-separated string of genres.\n",
    "    Example: \"['Animation' 'Comedy' 'Family']\" -> \"Animation, Comedy, Family\"\n",
    "    \"\"\"\n",
    "    # 1) Strip leading/trailing square brackets [ ], and remove ' or \"\n",
    "    cleaned = raw_genres.strip(\"[]\").replace(\"'\", \"\").replace('\"', \"\")\n",
    "    # 2) Split on any whitespace -> list of genres\n",
    "    genres_list = re.split(r\"\\s+\", cleaned.strip())\n",
    "    # 3) Join them with \", \" -> \"Animation, Comedy, Family\"\n",
    "    genres_str = \", \".join(genres_list)\n",
    "    return genres_str\n",
    "\n",
    "def build_combined_text(row):\n",
    "    \"\"\"\n",
    "    Builds a descriptive string using title, overview, and cleaned genres.\n",
    "    Example outcome:\n",
    "    \"Movie name is <title>. Its description is <overview>. Movie genres are <genre_1, genre_2, ...>\"\n",
    "    \"\"\"\n",
    "    title = row[\"title\"]\n",
    "    overview = row[\"overview\"]\n",
    "    genres_str = clean_genres(row[\"genres_str\"])\n",
    "    \n",
    "    return (\n",
    "        f\"Movie name is {title}. \"\n",
    "        f\"Its description is {overview}. \"\n",
    "        f\"Movie genres are {genres_str}\"\n",
    "    )\n",
    "\n",
    "# Create a new DataFrame (df_combined) with 'movie_id' and 'combined_text'\n",
    "df_combined = pd.DataFrame()\n",
    "df_combined[\"movie_id\"] = df_details[\"movie_id\"]\n",
    "df_combined[\"release_date\"] = df_details[\"release_date\"]\n",
    "df_combined[\"runtime\"] = df_details[\"runtime\"]\n",
    "df_combined[\"combined_text\"] = df_details.apply(build_combined_text, axis=1)\n"
   ]
  },
  {
   "cell_type": "code",
   "execution_count": 37,
   "metadata": {},
   "outputs": [
    {
     "name": "stdout",
     "output_type": "stream",
     "text": [
      "   movie_id release_date  runtime                                                                                                                                                                                                                                                                                                                                                                                                                                                                                                                                                                          combined_text\n",
      "0      98.0   2000-05-04    155.0  Movie name is Gladiator. Its description is In the year 180, the death of Emperor Marcus Aurelius throws the Roman Empire into chaos. Maximus is one of the Roman army's most capable and trusted generals, as well as a key advisor to the emperor. As Marcus' devious son Commodus ascends to the throne, Maximus is sentenced to execution. He escapes but is captured by slave traders. Renamed \"Spaniard\" and forced to become a gladiator, Maximus must battle to the death against other men for the amusement of paying audiences.. Movie genres are Action, Drama, Adventure\n",
      "1    8871.0   2000-11-17    104.0                                                                                                                                                                                                                                                                                                                        Movie name is How the Grinch Stole Christmas. Its description is The Grinch decides to rob Whoville of Christmas - but a dash of kindness from little Cindy Lou Who and her family may be enough to melt his heart.... Movie genres are Family, Comedy, Fantasy\n",
      "2    7443.0   2000-06-23     84.0                                                                                           Movie name is Chicken Run. Its description is The creators of Wallace & Gromit bring you an exciting and original story about a group of chickens determined to fly the coop–even if they can’t fly! It’s hardly poultry in motion when Rocky attempts to teach Ginger and her feathered friends to fly…but, with teamwork, determination and a little bit o’ cluck, the fearless flock plots one last attempt in a spectacular bid for freedom.. Movie genres are Animation, Comedy, Family\n"
     ]
    }
   ],
   "source": [
    "print(df_combined.head(3))"
   ]
  },
  {
   "cell_type": "code",
   "execution_count": 40,
   "metadata": {},
   "outputs": [
    {
     "data": {
      "text/plain": [
       "(230586, 4)"
      ]
     },
     "execution_count": 40,
     "metadata": {},
     "output_type": "execute_result"
    }
   ],
   "source": [
    "df_combined.shape"
   ]
  },
  {
   "cell_type": "code",
   "execution_count": null,
   "metadata": {},
   "outputs": [],
   "source": [
    "# pd.to_datetime(df_combined['release_date'], errors='raise')"
   ]
  },
  {
   "cell_type": "code",
   "execution_count": 84,
   "metadata": {},
   "outputs": [],
   "source": [
    "#Increase the output cell sizes\n",
    "\n",
    "import pandas as pd\n",
    "\n",
    "\n",
    "pd.set_option('display.max_columns', 40)\n",
    "pd.set_option('display.max_rows', 40)\n",
    "pd.set_option('display.max_colwidth', 40)\n",
    "pd.set_option('display.width', 40)"
   ]
  },
  {
   "cell_type": "code",
   "execution_count": 45,
   "metadata": {},
   "outputs": [],
   "source": [
    "# df_combined[df_combined['movie_id']==7290.0]"
   ]
  },
  {
   "cell_type": "markdown",
   "metadata": {},
   "source": [
    "movie_collection_test_sample_1  - 1st sample of the movie collection dataset with payload"
   ]
  },
  {
   "cell_type": "markdown",
   "metadata": {},
   "source": [
    "Qdrant Collection"
   ]
  },
  {
   "cell_type": "code",
   "execution_count": null,
   "metadata": {},
   "outputs": [
    {
     "name": "stdout",
     "output_type": "stream",
     "text": [
      "Collection 'movie_collection_test_sample_1' ready for 384-dim embeddings.\n"
     ]
    },
    {
     "name": "stderr",
     "output_type": "stream",
     "text": [
      "/var/folders/pd/38jn5w_51k92jyv8dvk65ggm0000gn/T/ipykernel_3134/1883891153.py:13: DeprecationWarning: `recreate_collection` method is deprecated and will be removed in the future. Use `collection_exists` to check collection existence and `create_collection` instead.\n",
      "  qdrant_client.recreate_collection(collection_name=collection_name, vectors_config=VectorParams(size=384, distance=\"Cosine\"))\n"
     ]
    }
   ],
   "source": [
    "#Qdrant Testing\n",
    "\n",
    "from qdrant_client import QdrantClient\n",
    "from qdrant_client.http.models import VectorParams, Distance\n",
    "\n",
    "# Connect to Qdrant\n",
    "qdrant_client = QdrantClient(url=\"http://localhost:6333\")\n",
    "\n",
    "# Create or reset a test collection\n",
    "collection_name = \"movie_collection_test_sample_1\"\n",
    "\n",
    "\n",
    "qdrant_client.recreate_collection(\n",
    "    collection_name=collection_name, \n",
    "    vectors_config=VectorParams(size=384, distance=\"Cosine\"\n",
    "    ))\n",
    "\n",
    "print(f\"Collection '{collection_name}' ready for 384-dim embeddings.\")\n"
   ]
  },
  {
   "cell_type": "markdown",
   "metadata": {},
   "source": [
    "Ray Franework"
   ]
  },
  {
   "cell_type": "code",
   "execution_count": 14,
   "metadata": {},
   "outputs": [],
   "source": [
    "import ray\n",
    "import torch\n",
    "from sentence_transformers import SentenceTransformer"
   ]
  },
  {
   "cell_type": "code",
   "execution_count": 15,
   "metadata": {},
   "outputs": [
    {
     "name": "stderr",
     "output_type": "stream",
     "text": [
      "2024-12-27 11:56:18,786\tINFO worker.py:1812 -- Started a local Ray instance. View the dashboard at \u001b[1m\u001b[32m127.0.0.1:8265 \u001b[39m\u001b[22m\n"
     ]
    },
    {
     "data": {
      "application/vnd.jupyter.widget-view+json": {
       "model_id": "5467e0150f9e4534832296d96653730b",
       "version_major": 2,
       "version_minor": 0
      },
      "text/html": [
       "<div class=\"lm-Widget p-Widget lm-Panel p-Panel jp-Cell-outputWrapper\">\n",
       "    <div style=\"margin-left: 50px;display: flex;flex-direction: row;align-items: center\">\n",
       "        <div class=\"jp-RenderedHTMLCommon\" style=\"display: flex; flex-direction: row;\">\n",
       "  <svg viewBox=\"0 0 567 224\" fill=\"none\" xmlns=\"http://www.w3.org/2000/svg\" style=\"height: 3em;\">\n",
       "    <g clip-path=\"url(#clip0_4338_178347)\">\n",
       "        <path d=\"M341.29 165.561H355.29L330.13 129.051C345.63 123.991 354.21 112.051 354.21 94.2307C354.21 71.3707 338.72 58.1807 311.88 58.1807H271V165.561H283.27V131.661H311.8C314.25 131.661 316.71 131.501 319.01 131.351L341.25 165.561H341.29ZM283.29 119.851V70.0007H311.82C331.3 70.0007 342.34 78.2907 342.34 94.5507C342.34 111.271 331.34 119.861 311.82 119.861L283.29 119.851ZM451.4 138.411L463.4 165.561H476.74L428.74 58.1807H416L367.83 165.561H380.83L392.83 138.411H451.4ZM446.19 126.601H398L422 72.1407L446.24 126.601H446.19ZM526.11 128.741L566.91 58.1807H554.35L519.99 114.181L485.17 58.1807H472.44L514.01 129.181V165.541H526.13V128.741H526.11Z\" fill=\"var(--jp-ui-font-color0)\"/>\n",
       "        <path d=\"M82.35 104.44C84.0187 97.8827 87.8248 92.0678 93.1671 87.9146C98.5094 83.7614 105.083 81.5067 111.85 81.5067C118.617 81.5067 125.191 83.7614 130.533 87.9146C135.875 92.0678 139.681 97.8827 141.35 104.44H163.75C164.476 101.562 165.622 98.8057 167.15 96.2605L127.45 56.5605C121.071 60.3522 113.526 61.6823 106.235 60.3005C98.9443 58.9187 92.4094 54.9203 87.8602 49.0574C83.3109 43.1946 81.0609 35.8714 81.5332 28.4656C82.0056 21.0599 85.1679 14.0819 90.4252 8.8446C95.6824 3.60726 102.672 0.471508 110.08 0.0272655C117.487 -0.416977 124.802 1.86091 130.647 6.4324C136.493 11.0039 140.467 17.5539 141.821 24.8501C143.175 32.1463 141.816 39.6859 138 46.0505L177.69 85.7505C182.31 82.9877 187.58 81.4995 192.962 81.4375C198.345 81.3755 203.648 82.742 208.33 85.3976C213.012 88.0532 216.907 91.9029 219.616 96.5544C222.326 101.206 223.753 106.492 223.753 111.875C223.753 117.258 222.326 122.545 219.616 127.197C216.907 131.848 213.012 135.698 208.33 138.353C203.648 141.009 198.345 142.375 192.962 142.313C187.58 142.251 182.31 140.763 177.69 138L138 177.7C141.808 184.071 143.155 191.614 141.79 198.91C140.424 206.205 136.44 212.75 130.585 217.313C124.731 221.875 117.412 224.141 110.004 223.683C102.596 223.226 95.6103 220.077 90.3621 214.828C85.1139 209.58 81.9647 202.595 81.5072 195.187C81.0497 187.779 83.3154 180.459 87.878 174.605C92.4405 168.751 98.9853 164.766 106.281 163.401C113.576 162.035 121.119 163.383 127.49 167.19L167.19 127.49C165.664 124.941 164.518 122.182 163.79 119.3H141.39C139.721 125.858 135.915 131.673 130.573 135.826C125.231 139.98 118.657 142.234 111.89 142.234C105.123 142.234 98.5494 139.98 93.2071 135.826C87.8648 131.673 84.0587 125.858 82.39 119.3H60C58.1878 126.495 53.8086 132.78 47.6863 136.971C41.5641 141.163 34.1211 142.972 26.7579 142.059C19.3947 141.146 12.6191 137.574 7.70605 132.014C2.79302 126.454 0.0813599 119.29 0.0813599 111.87C0.0813599 104.451 2.79302 97.2871 7.70605 91.7272C12.6191 86.1673 19.3947 82.5947 26.7579 81.6817C34.1211 80.7686 41.5641 82.5781 47.6863 86.7696C53.8086 90.9611 58.1878 97.2456 60 104.44H82.35ZM100.86 204.32C103.407 206.868 106.759 208.453 110.345 208.806C113.93 209.159 117.527 208.258 120.522 206.256C123.517 204.254 125.725 201.276 126.771 197.828C127.816 194.38 127.633 190.677 126.253 187.349C124.874 184.021 122.383 181.274 119.205 179.577C116.027 177.88 112.359 177.337 108.826 178.042C105.293 178.746 102.113 180.654 99.8291 183.44C97.5451 186.226 96.2979 189.718 96.3 193.32C96.2985 195.364 96.7006 197.388 97.4831 199.275C98.2656 201.163 99.4132 202.877 100.86 204.32ZM204.32 122.88C206.868 120.333 208.453 116.981 208.806 113.396C209.159 109.811 208.258 106.214 206.256 103.219C204.254 100.223 201.275 98.0151 197.827 96.97C194.38 95.9249 190.676 96.1077 187.348 97.4873C184.02 98.8669 181.274 101.358 179.577 104.536C177.879 107.714 177.337 111.382 178.041 114.915C178.746 118.448 180.653 121.627 183.439 123.911C186.226 126.195 189.717 127.443 193.32 127.44C195.364 127.443 197.388 127.042 199.275 126.259C201.163 125.476 202.878 124.328 204.32 122.88ZM122.88 19.4205C120.333 16.8729 116.981 15.2876 113.395 14.9347C109.81 14.5817 106.213 15.483 103.218 17.4849C100.223 19.4868 98.0146 22.4654 96.9696 25.9131C95.9245 29.3608 96.1073 33.0642 97.4869 36.3922C98.8665 39.7202 101.358 42.4668 104.535 44.1639C107.713 45.861 111.381 46.4036 114.914 45.6992C118.447 44.9949 121.627 43.0871 123.911 40.301C126.195 37.515 127.442 34.0231 127.44 30.4205C127.44 28.3772 127.038 26.3539 126.255 24.4664C125.473 22.5788 124.326 20.8642 122.88 19.4205ZM19.42 100.86C16.8725 103.408 15.2872 106.76 14.9342 110.345C14.5813 113.93 15.4826 117.527 17.4844 120.522C19.4863 123.518 22.4649 125.726 25.9127 126.771C29.3604 127.816 33.0638 127.633 36.3918 126.254C39.7198 124.874 42.4664 122.383 44.1635 119.205C45.8606 116.027 46.4032 112.359 45.6988 108.826C44.9944 105.293 43.0866 102.114 40.3006 99.8296C37.5145 97.5455 34.0227 96.2983 30.42 96.3005C26.2938 96.3018 22.337 97.9421 19.42 100.86ZM100.86 100.86C98.3125 103.408 96.7272 106.76 96.3742 110.345C96.0213 113.93 96.9226 117.527 98.9244 120.522C100.926 123.518 103.905 125.726 107.353 126.771C110.8 127.816 114.504 127.633 117.832 126.254C121.16 124.874 123.906 122.383 125.604 119.205C127.301 116.027 127.843 112.359 127.139 108.826C126.434 105.293 124.527 102.114 121.741 99.8296C118.955 97.5455 115.463 96.2983 111.86 96.3005C109.817 96.299 107.793 96.701 105.905 97.4835C104.018 98.2661 102.303 99.4136 100.86 100.86Z\" fill=\"#00AEEF\"/>\n",
       "    </g>\n",
       "    <defs>\n",
       "        <clipPath id=\"clip0_4338_178347\">\n",
       "            <rect width=\"566.93\" height=\"223.75\" fill=\"white\"/>\n",
       "        </clipPath>\n",
       "    </defs>\n",
       "  </svg>\n",
       "</div>\n",
       "\n",
       "        <table class=\"jp-RenderedHTMLCommon\" style=\"border-collapse: collapse;color: var(--jp-ui-font-color1);font-size: var(--jp-ui-font-size1);\">\n",
       "    <tr>\n",
       "        <td style=\"text-align: left\"><b>Python version:</b></td>\n",
       "        <td style=\"text-align: left\"><b>3.10.4</b></td>\n",
       "    </tr>\n",
       "    <tr>\n",
       "        <td style=\"text-align: left\"><b>Ray version:</b></td>\n",
       "        <td style=\"text-align: left\"><b>2.40.0</b></td>\n",
       "    </tr>\n",
       "    <tr>\n",
       "    <td style=\"text-align: left\"><b>Dashboard:</b></td>\n",
       "    <td style=\"text-align: left\"><b><a href=\"http://127.0.0.1:8265\" target=\"_blank\">http://127.0.0.1:8265</a></b></td>\n",
       "</tr>\n",
       "\n",
       "</table>\n",
       "\n",
       "    </div>\n",
       "</div>\n"
      ],
      "text/plain": [
       "RayContext(dashboard_url='127.0.0.1:8265', python_version='3.10.4', ray_version='2.40.0', ray_commit='22541c38dbef25286cd6d19f1c151bf4fd62f2ed')"
      ]
     },
     "execution_count": 15,
     "metadata": {},
     "output_type": "execute_result"
    }
   ],
   "source": [
    "# Shut down any existing Ray session\n",
    "ray.shutdown()\n",
    "\n",
    "# Start Ray (optionally with a dashboard)\n",
    "ray.init(include_dashboard=True)"
   ]
  },
  {
   "cell_type": "code",
   "execution_count": 16,
   "metadata": {},
   "outputs": [],
   "source": [
    "device = torch.device(\"mps\")"
   ]
  },
  {
   "cell_type": "code",
   "execution_count": 19,
   "metadata": {},
   "outputs": [],
   "source": [
    "@ray.remote\n",
    "class EmbeddingActor:\n",
    "    def __init__(self, model_name=\"all-MiniLM-L6-v2\"):\n",
    "        # Load the SentenceTransformer on MPS\n",
    "        self.model = SentenceTransformer(model_name, device=\"mps\")\n",
    "\n",
    "    def embed_texts(self, texts):\n",
    "        # Return Python list of lists for Qdrant\n",
    "        embeddings = self.model.encode(\n",
    "            texts, \n",
    "            convert_to_numpy=True,  # -> NumPy array\n",
    "            show_progress_bar=False\n",
    "        )\n",
    "        # Convert to list of floats per row\n",
    "        return [emb.tolist() for emb in embeddings]"
   ]
  },
  {
   "cell_type": "code",
   "execution_count": 94,
   "metadata": {},
   "outputs": [
    {
     "data": {
      "text/html": [
       "<div>\n",
       "<style scoped>\n",
       "    .dataframe tbody tr th:only-of-type {\n",
       "        vertical-align: middle;\n",
       "    }\n",
       "\n",
       "    .dataframe tbody tr th {\n",
       "        vertical-align: top;\n",
       "    }\n",
       "\n",
       "    .dataframe thead th {\n",
       "        text-align: right;\n",
       "    }\n",
       "</style>\n",
       "<table border=\"1\" class=\"dataframe\">\n",
       "  <thead>\n",
       "    <tr style=\"text-align: right;\">\n",
       "      <th></th>\n",
       "      <th>movie_id</th>\n",
       "      <th>release_date</th>\n",
       "      <th>runtime</th>\n",
       "      <th>combined_text</th>\n",
       "    </tr>\n",
       "  </thead>\n",
       "  <tbody>\n",
       "    <tr>\n",
       "      <th>20</th>\n",
       "      <td>10637.0</td>\n",
       "      <td>2000-09-29</td>\n",
       "      <td>113.0</td>\n",
       "      <td>Movie name is Remember the Titans. I...</td>\n",
       "    </tr>\n",
       "  </tbody>\n",
       "</table>\n",
       "</div>"
      ],
      "text/plain": [
       "    movie_id release_date  runtime  \\\n",
       "20   10637.0   2000-09-29    113.0   \n",
       "\n",
       "                              combined_text  \n",
       "20  Movie name is Remember the Titans. I...  "
      ]
     },
     "execution_count": 94,
     "metadata": {},
     "output_type": "execute_result"
    }
   ],
   "source": [
    "df_combined[df_combined['movie_id']==10637.0]"
   ]
  },
  {
   "cell_type": "code",
   "execution_count": 93,
   "metadata": {},
   "outputs": [
    {
     "data": {
      "text/plain": [
       "movie_id                                         10637.0\n",
       "release_date                         2000-09-29 00:00:00\n",
       "runtime                                            113.0\n",
       "combined_text    Movie name is Remember the Titans. I...\n",
       "Name: 20, dtype: object"
      ]
     },
     "execution_count": 93,
     "metadata": {},
     "output_type": "execute_result"
    }
   ],
   "source": [
    "row"
   ]
  },
  {
   "cell_type": "code",
   "execution_count": 97,
   "metadata": {},
   "outputs": [
    {
     "name": "stdout",
     "output_type": "stream",
     "text": [
      "2000-09-29\n"
     ]
    }
   ],
   "source": [
    "df_test_2.iloc[20]['release_date']\n",
    "print(df_test_2.iloc[20]['release_date'].strftime('%Y-%m-%d'))"
   ]
  },
  {
   "cell_type": "code",
   "execution_count": 100,
   "metadata": {},
   "outputs": [],
   "source": [
    "row = df_test_2.iloc[10]\n",
    "text_list = [row['combined_text']]\n",
    "\n",
    "emb_ref=embed_actor.embed_texts.remote(text_list)\n",
    "final_emb_test=ray.get(emb_ref)"
   ]
  },
  {
   "cell_type": "markdown",
   "metadata": {},
   "source": [
    "Single Vector"
   ]
  },
  {
   "cell_type": "code",
   "execution_count": 65,
   "metadata": {},
   "outputs": [],
   "source": [
    "# final_emb_test[0]"
   ]
  },
  {
   "cell_type": "markdown",
   "metadata": {},
   "source": [
    "Single User with payload to qdrant with other metadata\n",
    "\n",
    "\n",
    "such as, runtime of movie"
   ]
  },
  {
   "cell_type": "code",
   "execution_count": 101,
   "metadata": {},
   "outputs": [
    {
     "name": "stdout",
     "output_type": "stream",
     "text": [
      "b1a51e7b-0ed1-482c-9a08-8c32fa97c00d\n"
     ]
    }
   ],
   "source": [
    "# # testing with on upsert\n",
    "# import uuid\n",
    "# from qdrant_client.http.models import PointStruct\n",
    "\n",
    "# doc_id=str(uuid.uuid4())\n",
    "# # everytime it creates new string\n",
    "\n",
    "# print(doc_id)\n",
    "\n",
    "# points=[]\n",
    "\n",
    "# points.append(PointStruct(\n",
    "#             id=doc_id,                 # Must be a valid int or a UUID string\n",
    "#             vector=final_emb_test[0],\n",
    "#             payload={\n",
    "#                 \"movie_id\": row[\"movie_id\"],\n",
    "#                 \"runtime\": row[\"runtime\"],\n",
    "#                 \"release_date\": row[\"release_date\"].strftime('%Y-%m-%d'),\n",
    "#                 \"combined_text\": row[\"combined_text\"]\n",
    "#             }\n",
    "#         ))\n"
   ]
  },
  {
   "cell_type": "code",
   "execution_count": 102,
   "metadata": {},
   "outputs": [
    {
     "data": {
      "text/plain": [
       "UpdateResult(operation_id=5, status=<UpdateStatus.COMPLETED: 'completed'>)"
      ]
     },
     "execution_count": 102,
     "metadata": {},
     "output_type": "execute_result"
    }
   ],
   "source": [
    "# 4) Upsert into Qdrant\n",
    "qdrant_client.upsert(collection_name=\"movie_collection_test_2_with_metadata_payloads\", points=points)"
   ]
  },
  {
   "cell_type": "code",
   "execution_count": 115,
   "metadata": {},
   "outputs": [],
   "source": [
    "# Rows upsert to Qdrant\n",
    "\n",
    "import uuid\n",
    "from qdrant_client.http.models import PointStruct\n",
    "\n",
    "def upsert_batch_in_chunks(df_subset, embed_actor, qdrant_client, collection_name, batch_size=100):\n",
    "    total_rows = len(df_subset)\n",
    "    for start_idx in range(0, total_rows, batch_size):\n",
    "        end_idx = min(start_idx + batch_size, total_rows)\n",
    "        batch_df = df_subset.iloc[start_idx:end_idx]\n",
    "\n",
    "        text_list = batch_df[\"combined_text\"].tolist()\n",
    "        embedding_ref = embed_actor.embed_texts.remote(text_list)\n",
    "        embeddings = ray.get(embedding_ref)\n",
    "\n",
    "        points = []\n",
    "        for i, row in batch_df.iterrows():\n",
    "            doc_id = str(uuid.uuid4())\n",
    "\n",
    "            # Handle NaT (missing dates)\n",
    "            if pd.notnull(row[\"release_date\"]):\n",
    "                release_date_str = row[\"release_date\"].strftime('%Y-%m-%d')\n",
    "            else:\n",
    "                release_date_str = None\n",
    "\n",
    "            points.append(PointStruct(\n",
    "                id=doc_id,\n",
    "                vector=embeddings[i - start_idx],\n",
    "                payload={\n",
    "                    \"movie_id\": row[\"movie_id\"],\n",
    "                    \"runtime\": row[\"runtime\"],\n",
    "                    \"release_date\": release_date_str,\n",
    "                    \"combined_text\": row[\"combined_text\"]\n",
    "                }\n",
    "            ))\n",
    "\n",
    "        qdrant_client.upsert(collection_name=collection_name, points=points)\n",
    "        print(f\"Upserted rows {start_idx + 1} to {end_idx} of {total_rows}.\")"
   ]
  },
  {
   "cell_type": "code",
   "execution_count": 116,
   "metadata": {},
   "outputs": [],
   "source": [
    "# df_test_2 = df_combined.head(100).copy()"
   ]
  },
  {
   "cell_type": "code",
   "execution_count": 117,
   "metadata": {},
   "outputs": [],
   "source": [
    "# df_test_2.head(5)"
   ]
  },
  {
   "cell_type": "code",
   "execution_count": null,
   "metadata": {},
   "outputs": [],
   "source": [
    "# Create the Ray actor\n",
    "embed_actor = EmbeddingActor.remote()\n",
    "\n",
    "\n",
    "# Upsert the test batch\n",
    "upsert_batch_in_chunks(\n",
    "    df_subset=df_combined,\n",
    "    embed_actor=embed_actor,\n",
    "    qdrant_client=qdrant_client,\n",
    "    collection_name=collection_name,\n",
    "    batch_size=100\n",
    ")"
   ]
  },
  {
   "cell_type": "markdown",
   "metadata": {},
   "source": [
    "Testing"
   ]
  },
  {
   "cell_type": "code",
   "execution_count": 121,
   "metadata": {},
   "outputs": [
    {
     "name": "stdout",
     "output_type": "stream",
     "text": [
      "Rank 1, Score: 0.6742587\n",
      "  ID: cecb522e-6dfd-462b-83da-0441de527f5c\n",
      "  Payload: {'movie_id': 383224.0, 'runtime': 0.0, 'release_date': '2011-08-23', 'combined_text': 'Movie name is 11 septembre 2001. Its description is . Movie genres are Documentary, History'}\n",
      "\n",
      "Rank 2, Score: 0.63421804\n",
      "  ID: 5e1e0c7e-ee35-4c53-acdc-f030209103f9\n",
      "  Payload: {'movie_id': 710172.0, 'runtime': 4.0, 'release_date': '2001-08-15', 'combined_text': 'Movie name is 2001. Its description is A short animation visualizing images of the year 2001.. Movie genres are Animation'}\n",
      "\n"
     ]
    }
   ],
   "source": [
    "# Query Test\n",
    "# Step 1: If using Ray actor, embed the query\n",
    "test_query = \"Movie released in the year 2001\"\n",
    "query_embedding_ref = embed_actor.embed_texts.remote([test_query])\n",
    "query_embedding = ray.get(query_embedding_ref)[0]\n",
    "\n",
    "# Step 2: Qdrant search\n",
    "results = qdrant_client.search(\n",
    "    collection_name=\"movie_collection_test_sample_1\",\n",
    "    query_vector=query_embedding,\n",
    "    limit=2\n",
    ")\n",
    "\n",
    "# Step 3: Display results\n",
    "for i, r in enumerate(results):\n",
    "    print(f\"Rank {i+1}, Score: {r.score}\")\n",
    "    print(f\"  ID: {r.id}\")\n",
    "    print(f\"  Payload: {r.payload}\")\n",
    "    print()\n"
   ]
  },
  {
   "cell_type": "markdown",
   "metadata": {},
   "source": [
    "Query Sample"
   ]
  },
  {
   "cell_type": "code",
   "execution_count": null,
   "metadata": {},
   "outputs": [],
   "source": [
    "from collections import defaultdict\n",
    "\n",
    "# 2) Example Query\n",
    "####################################################################################\n",
    "\n",
    "# Suppose we have some data upserted in Qdrant already (100 rows or more).\n",
    "# Let's do a simple query:\n",
    "query_text = \"Movies with more action\"\n",
    "\n",
    "# Embed the query using the actor\n",
    "query_embedding_ref = embed_actor.embed_texts.remote([query_text])\n",
    "query_embedding = ray.get(query_embedding_ref)[0]  # single vector\n",
    "\n",
    "\n",
    "# 3) Search Qdrant: chunk-level results\n",
    "####################################################################################\n",
    "\n",
    "# We retrieve top 50 chunk hits. Qdrant will return chunk-level results.\n",
    "search_results = qdrant_client.search(\n",
    "    collection_name=collection_name,\n",
    "    query_vector=query_embedding,\n",
    "    limit=50  # or some number\n",
    ")\n",
    "\n",
    "\n",
    "# Step A: Group all chunk hits by their movie_id\n",
    "aggregated = defaultdict(list)\n",
    "\n",
    "for r in search_results:\n",
    "    # Each r is a ScoredPoint\n",
    "    # We'll assume you stored \"movie_id\" in the payload\n",
    "    movie_id = r.payload[\"movie_id\"]\n",
    "    aggregated[movie_id].append(r)\n",
    "\n",
    "# Step B: For each movie, pick the chunk with the highest score\n",
    "final_movie_results = []\n",
    "for movie_id, chunk_list in aggregated.items():\n",
    "    # Sort chunk_list in descending order by score\n",
    "    chunk_list.sort(key=lambda x: x.score, reverse=True)\n",
    "    best_chunk = chunk_list[0]  # the single best chunk\n",
    "    final_movie_results.append(best_chunk)\n",
    "\n",
    "# Step C: Sort the final list of best-chunk-per-movie by score again\n",
    "final_movie_results.sort(key=lambda x: x.score, reverse=True)\n",
    "\n",
    "# 5) Display Aggregated Results\n",
    "####################################################################################\n",
    "\n",
    "for i, result in enumerate(final_movie_results[:10]):\n",
    "    # top 10 movie-level results\n",
    "    movie_id = result.payload[\"movie_id\"]\n",
    "    chunk_text = result.payload[\"chunk_text\"]\n",
    "    score = result.score\n",
    "\n",
    "    print(f\"Rank {i+1}, Movie ID: {movie_id}, Score: {score:.3f}\")\n",
    "    print(f\"  Chunk snippet: {chunk_text[:150]}...\")\n",
    "    print(\"-\" * 60)\n",
    "\n"
   ]
  },
  {
   "cell_type": "markdown",
   "metadata": {},
   "source": [
    "Qdrant"
   ]
  },
  {
   "cell_type": "code",
   "execution_count": 24,
   "metadata": {},
   "outputs": [],
   "source": [
    "# from qdrant_client import QdrantClient\n",
    "# from qdrant_client.http.models import VectorParams, Distance\n",
    "\n",
    "# def setup_collection(\n",
    "#     collection_name: str = \"movie_collection_semantic_retrieval\",\n",
    "#     vector_size: int = 768,  # match your embedding dimension\n",
    "#     distance: str = \"Cosine\"\n",
    "# ):\n",
    "#     \"\"\"\n",
    "#     Creates or recreates a Qdrant collection with the specified size and distance metric.\n",
    "#     \"\"\"\n",
    "#     client = QdrantClient(url=\"http://localhost:6333\")  # Qdrant is in Docker\n",
    "#     client.recreate_collection(\n",
    "#         collection_name=collection_name,\n",
    "#         vectors_config=VectorParams(size=vector_size, distance=distance)\n",
    "#     )\n",
    "#     print(f\"Collection '{collection_name}' created/reset.\")\n",
    "#     return client\n"
   ]
  },
  {
   "cell_type": "markdown",
   "metadata": {},
   "source": [
    "Main"
   ]
  }
 ],
 "metadata": {
  "kernelspec": {
   "display_name": "CineAI MPS Kernel",
   "language": "python",
   "name": "cineai_mps"
  },
  "language_info": {
   "codemirror_mode": {
    "name": "ipython",
    "version": 3
   },
   "file_extension": ".py",
   "mimetype": "text/x-python",
   "name": "python",
   "nbconvert_exporter": "python",
   "pygments_lexer": "ipython3",
   "version": "3.10.4"
  }
 },
 "nbformat": 4,
 "nbformat_minor": 2
}
