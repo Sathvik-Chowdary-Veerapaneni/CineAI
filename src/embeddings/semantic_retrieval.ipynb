{
 "cells": [
  {
   "cell_type": "code",
   "execution_count": 5,
   "metadata": {},
   "outputs": [],
   "source": [
    "# !pip install huggingface_hub"
   ]
  },
  {
   "cell_type": "code",
   "execution_count": 6,
   "metadata": {},
   "outputs": [],
   "source": [
    "# !pip install datasets"
   ]
  },
  {
   "cell_type": "code",
   "execution_count": 7,
   "metadata": {},
   "outputs": [],
   "source": [
    "import os\n",
    "import pandas as pd\n",
    "from sentence_transformers import SentenceTransformer\n",
    "import torch\n",
    "import chromadb"
   ]
  },
  {
   "cell_type": "code",
   "execution_count": 8,
   "metadata": {},
   "outputs": [
    {
     "name": "stdout",
     "output_type": "stream",
     "text": [
      "Using device: mps\n"
     ]
    }
   ],
   "source": [
    "# Checking MPS availability for Apple Silicon GPU acceleration\n",
    "mps_available = torch.backends.mps.is_built() and torch.backends.mps.is_available()\n",
    "device = \"mps\" if mps_available else \"cpu\"\n",
    "print(\"Using device:\", device)"
   ]
  },
  {
   "cell_type": "code",
   "execution_count": 9,
   "metadata": {},
   "outputs": [],
   "source": [
    "from huggingface_hub import HfApi\n",
    "\n",
    "dataset_url = \"SathvikVeerapaneni7/CineAI_Dataset\"\n",
    "api = HfApi()"
   ]
  },
  {
   "cell_type": "code",
   "execution_count": 10,
   "metadata": {},
   "outputs": [
    {
     "name": "stdout",
     "output_type": "stream",
     "text": [
      "Files in the Hugging Face dataset 'SathvikVeerapaneni7/CineAI_Dataset':\n",
      ".gitattributes\n",
      "README.md\n",
      "parquet_files/cast_df_clean.parquet\n",
      "parquet_files/crew_df_clean.parquet\n",
      "parquet_files/details_df_clean.parquet\n",
      "parquet_files/recommendations_df_clean.parquet\n",
      "parquet_files/watch_providers_df_clean.parquet\n"
     ]
    }
   ],
   "source": [
    "# List files in the dataset repository\n",
    "files = api.list_repo_files(repo_id=dataset_url, repo_type=\"dataset\")\n",
    "print(f\"Files in the Hugging Face dataset '{dataset_url}':\")\n",
    "for f in files:\n",
    "    print(f)"
   ]
  },
  {
   "cell_type": "markdown",
   "metadata": {},
   "source": [
    "### Sample Loading of details_df from hugging face parquet files"
   ]
  },
  {
   "cell_type": "code",
   "execution_count": 11,
   "metadata": {},
   "outputs": [],
   "source": [
    "from datasets import load_dataset\n",
    "\n",
    "# sample Loading a single Parquet file\n",
    "dataset = load_dataset(\n",
    "    \"parquet\",\n",
    "    data_files={\"train\": \"https://huggingface.co/datasets/SathvikVeerapaneni7/CineAI_Dataset/resolve/main/parquet_files/details_df_clean.parquet\"},\n",
    "    split=\"train\"\n",
    ")"
   ]
  },
  {
   "cell_type": "code",
   "execution_count": 12,
   "metadata": {},
   "outputs": [
    {
     "name": "stdout",
     "output_type": "stream",
     "text": [
      "Loaded details_df from HF: (230586, 8)\n"
     ]
    },
    {
     "data": {
      "text/html": [
       "<div>\n",
       "<style scoped>\n",
       "    .dataframe tbody tr th:only-of-type {\n",
       "        vertical-align: middle;\n",
       "    }\n",
       "\n",
       "    .dataframe tbody tr th {\n",
       "        vertical-align: top;\n",
       "    }\n",
       "\n",
       "    .dataframe thead th {\n",
       "        text-align: right;\n",
       "    }\n",
       "</style>\n",
       "<table border=\"1\" class=\"dataframe\">\n",
       "  <thead>\n",
       "    <tr style=\"text-align: right;\">\n",
       "      <th></th>\n",
       "      <th>movie_id</th>\n",
       "      <th>title</th>\n",
       "      <th>overview</th>\n",
       "      <th>release_date</th>\n",
       "      <th>runtime</th>\n",
       "      <th>original_language</th>\n",
       "      <th>popularity</th>\n",
       "      <th>genres_str</th>\n",
       "    </tr>\n",
       "  </thead>\n",
       "  <tbody>\n",
       "    <tr>\n",
       "      <th>0</th>\n",
       "      <td>98.0</td>\n",
       "      <td>Gladiator</td>\n",
       "      <td>In the year 180, the death of Emperor Marcus A...</td>\n",
       "      <td>2000-05-04</td>\n",
       "      <td>155.0</td>\n",
       "      <td>en</td>\n",
       "      <td>497.649</td>\n",
       "      <td>['Action' 'Drama' 'Adventure']</td>\n",
       "    </tr>\n",
       "    <tr>\n",
       "      <th>1</th>\n",
       "      <td>8871.0</td>\n",
       "      <td>How the Grinch Stole Christmas</td>\n",
       "      <td>The Grinch decides to rob Whoville of Christma...</td>\n",
       "      <td>2000-11-17</td>\n",
       "      <td>104.0</td>\n",
       "      <td>en</td>\n",
       "      <td>177.539</td>\n",
       "      <td>['Family' 'Comedy' 'Fantasy']</td>\n",
       "    </tr>\n",
       "    <tr>\n",
       "      <th>2</th>\n",
       "      <td>7443.0</td>\n",
       "      <td>Chicken Run</td>\n",
       "      <td>The creators of Wallace &amp; Gromit bring you an ...</td>\n",
       "      <td>2000-06-23</td>\n",
       "      <td>84.0</td>\n",
       "      <td>en</td>\n",
       "      <td>62.638</td>\n",
       "      <td>['Animation' 'Comedy' 'Family']</td>\n",
       "    </tr>\n",
       "    <tr>\n",
       "      <th>3</th>\n",
       "      <td>9532.0</td>\n",
       "      <td>Final Destination</td>\n",
       "      <td>After a teenager has a terrifying vision of hi...</td>\n",
       "      <td>2000-03-17</td>\n",
       "      <td>98.0</td>\n",
       "      <td>en</td>\n",
       "      <td>54.097</td>\n",
       "      <td>['Horror']</td>\n",
       "    </tr>\n",
       "    <tr>\n",
       "      <th>4</th>\n",
       "      <td>77.0</td>\n",
       "      <td>Memento</td>\n",
       "      <td>Leonard Shelby is tracking down the man who ra...</td>\n",
       "      <td>2000-10-11</td>\n",
       "      <td>113.0</td>\n",
       "      <td>en</td>\n",
       "      <td>95.374</td>\n",
       "      <td>['Mystery' 'Thriller']</td>\n",
       "    </tr>\n",
       "  </tbody>\n",
       "</table>\n",
       "</div>"
      ],
      "text/plain": [
       "   movie_id                           title  \\\n",
       "0      98.0                       Gladiator   \n",
       "1    8871.0  How the Grinch Stole Christmas   \n",
       "2    7443.0                     Chicken Run   \n",
       "3    9532.0               Final Destination   \n",
       "4      77.0                         Memento   \n",
       "\n",
       "                                            overview release_date  runtime  \\\n",
       "0  In the year 180, the death of Emperor Marcus A...   2000-05-04    155.0   \n",
       "1  The Grinch decides to rob Whoville of Christma...   2000-11-17    104.0   \n",
       "2  The creators of Wallace & Gromit bring you an ...   2000-06-23     84.0   \n",
       "3  After a teenager has a terrifying vision of hi...   2000-03-17     98.0   \n",
       "4  Leonard Shelby is tracking down the man who ra...   2000-10-11    113.0   \n",
       "\n",
       "  original_language  popularity                       genres_str  \n",
       "0                en     497.649   ['Action' 'Drama' 'Adventure']  \n",
       "1                en     177.539    ['Family' 'Comedy' 'Fantasy']  \n",
       "2                en      62.638  ['Animation' 'Comedy' 'Family']  \n",
       "3                en      54.097                       ['Horror']  \n",
       "4                en      95.374           ['Mystery' 'Thriller']  "
      ]
     },
     "execution_count": 12,
     "metadata": {},
     "output_type": "execute_result"
    }
   ],
   "source": [
    "details_df = pd.DataFrame(dataset)\n",
    "print(\"Loaded details_df from HF:\", details_df.shape)\n",
    "details_df.head()"
   ]
  },
  {
   "cell_type": "code",
   "execution_count": 13,
   "metadata": {},
   "outputs": [
    {
     "data": {
      "text/plain": [
       "(230586, 8)"
      ]
     },
     "execution_count": 13,
     "metadata": {},
     "output_type": "execute_result"
    }
   ],
   "source": [
    "details_df.shape"
   ]
  },
  {
   "cell_type": "markdown",
   "metadata": {},
   "source": [
    "# Semantic Retrieval Pipeline Overview\n",
    "\n",
    "Our goal is to build a Retrieval-Augmented Generation (RAG) component that allows quick, semantic-level access to movie data.  \n",
    "We expect the outcome to be a system that, given a natural language query, retrieves relevant movie entries narrative similarity.  \n",
    "\n",
    "\n",
    "Embed textual fields like `title`, `overview`, and optionally `genres` because they contain rich narrative and thematic information.  \n",
    "\n",
    "Not embedding purely numeric fields like `runtime` or `popularity` since they do not add semantic context. \n",
    "\n",
    "The final outcome should be a searchable index enabling users to discover related movies by concept rather than keyword.  \n",
    "This improves upon keyword search by returning results semantically aligned with the user’s intent.  \n",
    "\n",
    "\n",
    "Limitations include potential model bias if overviews are sparse or genres are missing.  \n",
    "High-level concepts are captured, but rare details may be overlooked.  \n",
    "\n",
    "\n",
    "Future improvements can involve more diverse embeddings or integrating metadata filters.  \n",
    "\n",
    "\n",
    "Overall, this pipeline lays the foundation for robust semantic retrieval within the CineAI ecosystem."
   ]
  },
  {
   "cell_type": "markdown",
   "metadata": {},
   "source": [
    "### Loading all the files in respective dataframes, df"
   ]
  },
  {
   "cell_type": "code",
   "execution_count": 14,
   "metadata": {},
   "outputs": [],
   "source": [
    "details_data_files = {\"train\": f\"https://huggingface.co/datasets/{dataset_url}/resolve/main/parquet_files/details_df_clean.parquet\"}\n",
    "details_dataset = load_dataset(\"parquet\", data_files=details_data_files, split='train')\n",
    "details_df = pd.DataFrame(details_dataset)\n"
   ]
  },
  {
   "cell_type": "code",
   "execution_count": 15,
   "metadata": {},
   "outputs": [],
   "source": [
    "details_data_files = {\"train\": f\"https://huggingface.co/datasets/{dataset_url}/resolve/main/parquet_files/cast_df_clean.parquet\"}\n",
    "cast_df_dataset = load_dataset(\"parquet\", data_files=details_data_files, split='train')\n",
    "cast_df = pd.DataFrame(cast_df_dataset)"
   ]
  },
  {
   "cell_type": "code",
   "execution_count": 16,
   "metadata": {},
   "outputs": [],
   "source": [
    "\n",
    "\n",
    "details_data_files = {\"train\": f\"https://huggingface.co/datasets/{dataset_url}/resolve/main/parquet_files/crew_df_clean.parquet\"}\n",
    "crew_dataset= load_dataset(\"parquet\", data_files=details_data_files, split='train')\n",
    "crew_df = pd.DataFrame(crew_dataset)"
   ]
  },
  {
   "cell_type": "code",
   "execution_count": 17,
   "metadata": {},
   "outputs": [],
   "source": [
    "details_data_files = {\"train\": f\"https://huggingface.co/datasets/{dataset_url}/resolve/main/parquet_files/recommendations_df_clean.parquet\"}\n",
    "recommendations_dataset= load_dataset(\"parquet\", data_files=details_data_files, split='train')\n",
    "recommendations_df = pd.DataFrame(recommendations_dataset)"
   ]
  },
  {
   "cell_type": "code",
   "execution_count": 18,
   "metadata": {},
   "outputs": [],
   "source": [
    "details_data_files = {\"train\": f\"https://huggingface.co/datasets/{dataset_url}/resolve/main/parquet_files/watch_providers_df_clean.parquet\"}\n",
    "watch_providers_dataset= load_dataset(\"parquet\", data_files=details_data_files, split='train')\n",
    "watch_providers_df= pd.DataFrame(watch_providers_dataset)"
   ]
  },
  {
   "cell_type": "code",
   "execution_count": 19,
   "metadata": {},
   "outputs": [],
   "source": [
    "dataframes=[details_df,cast_df,crew_df,recommendations_df,watch_providers_df]"
   ]
  },
  {
   "cell_type": "code",
   "execution_count": 20,
   "metadata": {},
   "outputs": [
    {
     "name": "stdout",
     "output_type": "stream",
     "text": [
      "(230586, 8)\n",
      "(2183780, 5)\n",
      "(2477256, 6)\n",
      "(2790336, 5)\n",
      "(412381, 4)\n"
     ]
    }
   ],
   "source": [
    "for i in dataframes:\n",
    "    print(i.shape)"
   ]
  },
  {
   "cell_type": "code",
   "execution_count": 21,
   "metadata": {},
   "outputs": [
    {
     "name": "stdout",
     "output_type": "stream",
     "text": [
      "DataFrame 1 Columns:\n",
      "Index(['movie_id', 'title', 'overview', 'release_date', 'runtime',\n",
      "       'original_language', 'popularity', 'genres_str'],\n",
      "      dtype='object')\n",
      "--------------------------------------------------\n",
      "DataFrame 2 Columns:\n",
      "Index(['movie_id', 'cast_id', 'name', 'character', 'credit_id'], dtype='object')\n",
      "--------------------------------------------------\n",
      "DataFrame 3 Columns:\n",
      "Index(['movie_id', 'crew_id', 'name', 'department', 'job', 'credit_id'], dtype='object')\n",
      "--------------------------------------------------\n",
      "DataFrame 4 Columns:\n",
      "Index(['movie_id', 'recommended_movie_id', 'recommended_title',\n",
      "       'recommended_popularity', 'recommended_genre_ids'],\n",
      "      dtype='object')\n",
      "--------------------------------------------------\n",
      "DataFrame 5 Columns:\n",
      "Index(['movie_id', 'provider_type', 'provider_name', 'link'], dtype='object')\n",
      "--------------------------------------------------\n"
     ]
    }
   ],
   "source": [
    "for i, df in enumerate(dataframes):\n",
    "    print(f\"DataFrame {i+1} Columns:\")\n",
    "    print(df.columns)\n",
    "    print(\"-\" * 50)\n"
   ]
  },
  {
   "cell_type": "markdown",
   "metadata": {},
   "source": [
    "### Embeddings Handling"
   ]
  },
  {
   "cell_type": "code",
   "execution_count": 22,
   "metadata": {},
   "outputs": [],
   "source": [
    "from sentence_transformers import SentenceTransformer\n",
    "import torch\n"
   ]
  },
  {
   "cell_type": "code",
   "execution_count": 23,
   "metadata": {},
   "outputs": [
    {
     "data": {
      "text/html": [
       "<div>\n",
       "<style scoped>\n",
       "    .dataframe tbody tr th:only-of-type {\n",
       "        vertical-align: middle;\n",
       "    }\n",
       "\n",
       "    .dataframe tbody tr th {\n",
       "        vertical-align: top;\n",
       "    }\n",
       "\n",
       "    .dataframe thead th {\n",
       "        text-align: right;\n",
       "    }\n",
       "</style>\n",
       "<table border=\"1\" class=\"dataframe\">\n",
       "  <thead>\n",
       "    <tr style=\"text-align: right;\">\n",
       "      <th></th>\n",
       "      <th>movie_id</th>\n",
       "      <th>title</th>\n",
       "      <th>overview</th>\n",
       "      <th>release_date</th>\n",
       "      <th>runtime</th>\n",
       "      <th>original_language</th>\n",
       "      <th>popularity</th>\n",
       "      <th>genres_str</th>\n",
       "    </tr>\n",
       "  </thead>\n",
       "  <tbody>\n",
       "    <tr>\n",
       "      <th>0</th>\n",
       "      <td>98.0</td>\n",
       "      <td>Gladiator</td>\n",
       "      <td>In the year 180, the death of Emperor Marcus A...</td>\n",
       "      <td>2000-05-04</td>\n",
       "      <td>155.0</td>\n",
       "      <td>en</td>\n",
       "      <td>497.649</td>\n",
       "      <td>['Action' 'Drama' 'Adventure']</td>\n",
       "    </tr>\n",
       "    <tr>\n",
       "      <th>1</th>\n",
       "      <td>8871.0</td>\n",
       "      <td>How the Grinch Stole Christmas</td>\n",
       "      <td>The Grinch decides to rob Whoville of Christma...</td>\n",
       "      <td>2000-11-17</td>\n",
       "      <td>104.0</td>\n",
       "      <td>en</td>\n",
       "      <td>177.539</td>\n",
       "      <td>['Family' 'Comedy' 'Fantasy']</td>\n",
       "    </tr>\n",
       "    <tr>\n",
       "      <th>2</th>\n",
       "      <td>7443.0</td>\n",
       "      <td>Chicken Run</td>\n",
       "      <td>The creators of Wallace &amp; Gromit bring you an ...</td>\n",
       "      <td>2000-06-23</td>\n",
       "      <td>84.0</td>\n",
       "      <td>en</td>\n",
       "      <td>62.638</td>\n",
       "      <td>['Animation' 'Comedy' 'Family']</td>\n",
       "    </tr>\n",
       "    <tr>\n",
       "      <th>3</th>\n",
       "      <td>9532.0</td>\n",
       "      <td>Final Destination</td>\n",
       "      <td>After a teenager has a terrifying vision of hi...</td>\n",
       "      <td>2000-03-17</td>\n",
       "      <td>98.0</td>\n",
       "      <td>en</td>\n",
       "      <td>54.097</td>\n",
       "      <td>['Horror']</td>\n",
       "    </tr>\n",
       "    <tr>\n",
       "      <th>4</th>\n",
       "      <td>77.0</td>\n",
       "      <td>Memento</td>\n",
       "      <td>Leonard Shelby is tracking down the man who ra...</td>\n",
       "      <td>2000-10-11</td>\n",
       "      <td>113.0</td>\n",
       "      <td>en</td>\n",
       "      <td>95.374</td>\n",
       "      <td>['Mystery' 'Thriller']</td>\n",
       "    </tr>\n",
       "  </tbody>\n",
       "</table>\n",
       "</div>"
      ],
      "text/plain": [
       "   movie_id                           title  \\\n",
       "0      98.0                       Gladiator   \n",
       "1    8871.0  How the Grinch Stole Christmas   \n",
       "2    7443.0                     Chicken Run   \n",
       "3    9532.0               Final Destination   \n",
       "4      77.0                         Memento   \n",
       "\n",
       "                                            overview release_date  runtime  \\\n",
       "0  In the year 180, the death of Emperor Marcus A...   2000-05-04    155.0   \n",
       "1  The Grinch decides to rob Whoville of Christma...   2000-11-17    104.0   \n",
       "2  The creators of Wallace & Gromit bring you an ...   2000-06-23     84.0   \n",
       "3  After a teenager has a terrifying vision of hi...   2000-03-17     98.0   \n",
       "4  Leonard Shelby is tracking down the man who ra...   2000-10-11    113.0   \n",
       "\n",
       "  original_language  popularity                       genres_str  \n",
       "0                en     497.649   ['Action' 'Drama' 'Adventure']  \n",
       "1                en     177.539    ['Family' 'Comedy' 'Fantasy']  \n",
       "2                en      62.638  ['Animation' 'Comedy' 'Family']  \n",
       "3                en      54.097                       ['Horror']  \n",
       "4                en      95.374           ['Mystery' 'Thriller']  "
      ]
     },
     "execution_count": 23,
     "metadata": {},
     "output_type": "execute_result"
    }
   ],
   "source": [
    "details_df.head()"
   ]
  },
  {
   "cell_type": "code",
   "execution_count": 24,
   "metadata": {},
   "outputs": [],
   "source": [
    "# Cell 3: If 'text_for_embedding' doesn't exist, create it from 'title' and 'overview'.\n",
    "# We will combine them as a fallback.\n",
    "\n",
    "if 'text_for_embedding' not in details_df.columns:\n",
    "    details_df['text_for_embedding'] = details_df['title'].fillna('') + ' ' + details_df['overview'].fillna('')\n",
    "\n",
    "# Now concatenate genres_str if available\n",
    "if 'genres_str' in details_df.columns:\n",
    "    details_df['final_text'] = details_df['text_for_embedding'] + ' ' + details_df['genres_str'].fillna('')\n",
    "else:\n",
    "    details_df['final_text'] = details_df['text_for_embedding']\n"
   ]
  },
  {
   "cell_type": "code",
   "execution_count": 25,
   "metadata": {},
   "outputs": [
    {
     "name": "stdout",
     "output_type": "stream",
     "text": [
      "True\n"
     ]
    }
   ],
   "source": [
    "# Cell 4: Initialize the embedding model\n",
    "import torch\n",
    "print(torch.backends.mps.is_available())\n",
    "device = \"mps\" if torch.backends.mps.is_available() else \"cpu\""
   ]
  },
  {
   "cell_type": "markdown",
   "metadata": {},
   "source": [
    "### Model Selection"
   ]
  },
  {
   "cell_type": "code",
   "execution_count": 26,
   "metadata": {},
   "outputs": [],
   "source": [
    "model = SentenceTransformer('sentence-transformers/all-MiniLM-L6-v2', device=device)"
   ]
  },
  {
   "cell_type": "code",
   "execution_count": 27,
   "metadata": {},
   "outputs": [
    {
     "data": {
      "text/plain": [
       "(230586,)"
      ]
     },
     "execution_count": 27,
     "metadata": {},
     "output_type": "execute_result"
    }
   ],
   "source": [
    "details_df['final_text'].shape"
   ]
  },
  {
   "cell_type": "code",
   "execution_count": 28,
   "metadata": {},
   "outputs": [
    {
     "data": {
      "text/html": [
       "<div>\n",
       "<style scoped>\n",
       "    .dataframe tbody tr th:only-of-type {\n",
       "        vertical-align: middle;\n",
       "    }\n",
       "\n",
       "    .dataframe tbody tr th {\n",
       "        vertical-align: top;\n",
       "    }\n",
       "\n",
       "    .dataframe thead th {\n",
       "        text-align: right;\n",
       "    }\n",
       "</style>\n",
       "<table border=\"1\" class=\"dataframe\">\n",
       "  <thead>\n",
       "    <tr style=\"text-align: right;\">\n",
       "      <th></th>\n",
       "      <th>movie_id</th>\n",
       "      <th>title</th>\n",
       "      <th>overview</th>\n",
       "      <th>release_date</th>\n",
       "      <th>runtime</th>\n",
       "      <th>original_language</th>\n",
       "      <th>popularity</th>\n",
       "      <th>genres_str</th>\n",
       "      <th>text_for_embedding</th>\n",
       "      <th>final_text</th>\n",
       "    </tr>\n",
       "  </thead>\n",
       "  <tbody>\n",
       "    <tr>\n",
       "      <th>0</th>\n",
       "      <td>98.0</td>\n",
       "      <td>Gladiator</td>\n",
       "      <td>In the year 180, the death of Emperor Marcus A...</td>\n",
       "      <td>2000-05-04</td>\n",
       "      <td>155.0</td>\n",
       "      <td>en</td>\n",
       "      <td>497.649</td>\n",
       "      <td>['Action' 'Drama' 'Adventure']</td>\n",
       "      <td>Gladiator In the year 180, the death of Empero...</td>\n",
       "      <td>Gladiator In the year 180, the death of Empero...</td>\n",
       "    </tr>\n",
       "    <tr>\n",
       "      <th>1</th>\n",
       "      <td>8871.0</td>\n",
       "      <td>How the Grinch Stole Christmas</td>\n",
       "      <td>The Grinch decides to rob Whoville of Christma...</td>\n",
       "      <td>2000-11-17</td>\n",
       "      <td>104.0</td>\n",
       "      <td>en</td>\n",
       "      <td>177.539</td>\n",
       "      <td>['Family' 'Comedy' 'Fantasy']</td>\n",
       "      <td>How the Grinch Stole Christmas The Grinch deci...</td>\n",
       "      <td>How the Grinch Stole Christmas The Grinch deci...</td>\n",
       "    </tr>\n",
       "    <tr>\n",
       "      <th>2</th>\n",
       "      <td>7443.0</td>\n",
       "      <td>Chicken Run</td>\n",
       "      <td>The creators of Wallace &amp; Gromit bring you an ...</td>\n",
       "      <td>2000-06-23</td>\n",
       "      <td>84.0</td>\n",
       "      <td>en</td>\n",
       "      <td>62.638</td>\n",
       "      <td>['Animation' 'Comedy' 'Family']</td>\n",
       "      <td>Chicken Run The creators of Wallace &amp; Gromit b...</td>\n",
       "      <td>Chicken Run The creators of Wallace &amp; Gromit b...</td>\n",
       "    </tr>\n",
       "    <tr>\n",
       "      <th>3</th>\n",
       "      <td>9532.0</td>\n",
       "      <td>Final Destination</td>\n",
       "      <td>After a teenager has a terrifying vision of hi...</td>\n",
       "      <td>2000-03-17</td>\n",
       "      <td>98.0</td>\n",
       "      <td>en</td>\n",
       "      <td>54.097</td>\n",
       "      <td>['Horror']</td>\n",
       "      <td>Final Destination After a teenager has a terri...</td>\n",
       "      <td>Final Destination After a teenager has a terri...</td>\n",
       "    </tr>\n",
       "    <tr>\n",
       "      <th>4</th>\n",
       "      <td>77.0</td>\n",
       "      <td>Memento</td>\n",
       "      <td>Leonard Shelby is tracking down the man who ra...</td>\n",
       "      <td>2000-10-11</td>\n",
       "      <td>113.0</td>\n",
       "      <td>en</td>\n",
       "      <td>95.374</td>\n",
       "      <td>['Mystery' 'Thriller']</td>\n",
       "      <td>Memento Leonard Shelby is tracking down the ma...</td>\n",
       "      <td>Memento Leonard Shelby is tracking down the ma...</td>\n",
       "    </tr>\n",
       "    <tr>\n",
       "      <th>...</th>\n",
       "      <td>...</td>\n",
       "      <td>...</td>\n",
       "      <td>...</td>\n",
       "      <td>...</td>\n",
       "      <td>...</td>\n",
       "      <td>...</td>\n",
       "      <td>...</td>\n",
       "      <td>...</td>\n",
       "      <td>...</td>\n",
       "      <td>...</td>\n",
       "    </tr>\n",
       "    <tr>\n",
       "      <th>230581</th>\n",
       "      <td>1183860.0</td>\n",
       "      <td>Precognito</td>\n",
       "      <td>A premonition inducing drug could cost a group...</td>\n",
       "      <td>2023-08-18</td>\n",
       "      <td>78.0</td>\n",
       "      <td>en</td>\n",
       "      <td>1.196</td>\n",
       "      <td>['Science Fiction']</td>\n",
       "      <td>Precognito A premonition inducing drug could c...</td>\n",
       "      <td>Precognito A premonition inducing drug could c...</td>\n",
       "    </tr>\n",
       "    <tr>\n",
       "      <th>230582</th>\n",
       "      <td>1141821.0</td>\n",
       "      <td>Giddh (The Scavenger)</td>\n",
       "      <td>An old man is compelled to choose an unlikely ...</td>\n",
       "      <td>2023-12-01</td>\n",
       "      <td>25.0</td>\n",
       "      <td>hi</td>\n",
       "      <td>1.196</td>\n",
       "      <td>['Drama']</td>\n",
       "      <td>Giddh (The Scavenger) An old man is compelled ...</td>\n",
       "      <td>Giddh (The Scavenger) An old man is compelled ...</td>\n",
       "    </tr>\n",
       "    <tr>\n",
       "      <th>230583</th>\n",
       "      <td>1138889.0</td>\n",
       "      <td>Gulaam Chor</td>\n",
       "      <td>Twelve people who gather to gamble at a house ...</td>\n",
       "      <td>2023-06-11</td>\n",
       "      <td>113.0</td>\n",
       "      <td>gu</td>\n",
       "      <td>1.196</td>\n",
       "      <td>['Drama']</td>\n",
       "      <td>Gulaam Chor Twelve people who gather to gamble...</td>\n",
       "      <td>Gulaam Chor Twelve people who gather to gamble...</td>\n",
       "    </tr>\n",
       "    <tr>\n",
       "      <th>230584</th>\n",
       "      <td>1211829.0</td>\n",
       "      <td>Due battiti</td>\n",
       "      <td></td>\n",
       "      <td>2023-11-29</td>\n",
       "      <td>0.0</td>\n",
       "      <td>it</td>\n",
       "      <td>1.196</td>\n",
       "      <td>['Animation']</td>\n",
       "      <td>Due battiti</td>\n",
       "      <td>Due battiti  ['Animation']</td>\n",
       "    </tr>\n",
       "    <tr>\n",
       "      <th>230585</th>\n",
       "      <td>1134543.0</td>\n",
       "      <td>Koromousso, Big Sister</td>\n",
       "      <td>With candor, humour and courage, a group of Af...</td>\n",
       "      <td>2023-06-05</td>\n",
       "      <td>75.0</td>\n",
       "      <td>fr</td>\n",
       "      <td>1.196</td>\n",
       "      <td>['Documentary']</td>\n",
       "      <td>Koromousso, Big Sister With candor, humour and...</td>\n",
       "      <td>Koromousso, Big Sister With candor, humour and...</td>\n",
       "    </tr>\n",
       "  </tbody>\n",
       "</table>\n",
       "<p>230586 rows × 10 columns</p>\n",
       "</div>"
      ],
      "text/plain": [
       "         movie_id                           title  \\\n",
       "0            98.0                       Gladiator   \n",
       "1          8871.0  How the Grinch Stole Christmas   \n",
       "2          7443.0                     Chicken Run   \n",
       "3          9532.0               Final Destination   \n",
       "4            77.0                         Memento   \n",
       "...           ...                             ...   \n",
       "230581  1183860.0                      Precognito   \n",
       "230582  1141821.0           Giddh (The Scavenger)   \n",
       "230583  1138889.0                     Gulaam Chor   \n",
       "230584  1211829.0                     Due battiti   \n",
       "230585  1134543.0          Koromousso, Big Sister   \n",
       "\n",
       "                                                 overview release_date  \\\n",
       "0       In the year 180, the death of Emperor Marcus A...   2000-05-04   \n",
       "1       The Grinch decides to rob Whoville of Christma...   2000-11-17   \n",
       "2       The creators of Wallace & Gromit bring you an ...   2000-06-23   \n",
       "3       After a teenager has a terrifying vision of hi...   2000-03-17   \n",
       "4       Leonard Shelby is tracking down the man who ra...   2000-10-11   \n",
       "...                                                   ...          ...   \n",
       "230581  A premonition inducing drug could cost a group...   2023-08-18   \n",
       "230582  An old man is compelled to choose an unlikely ...   2023-12-01   \n",
       "230583  Twelve people who gather to gamble at a house ...   2023-06-11   \n",
       "230584                                                      2023-11-29   \n",
       "230585  With candor, humour and courage, a group of Af...   2023-06-05   \n",
       "\n",
       "        runtime original_language  popularity  \\\n",
       "0         155.0                en     497.649   \n",
       "1         104.0                en     177.539   \n",
       "2          84.0                en      62.638   \n",
       "3          98.0                en      54.097   \n",
       "4         113.0                en      95.374   \n",
       "...         ...               ...         ...   \n",
       "230581     78.0                en       1.196   \n",
       "230582     25.0                hi       1.196   \n",
       "230583    113.0                gu       1.196   \n",
       "230584      0.0                it       1.196   \n",
       "230585     75.0                fr       1.196   \n",
       "\n",
       "                             genres_str  \\\n",
       "0        ['Action' 'Drama' 'Adventure']   \n",
       "1         ['Family' 'Comedy' 'Fantasy']   \n",
       "2       ['Animation' 'Comedy' 'Family']   \n",
       "3                            ['Horror']   \n",
       "4                ['Mystery' 'Thriller']   \n",
       "...                                 ...   \n",
       "230581              ['Science Fiction']   \n",
       "230582                        ['Drama']   \n",
       "230583                        ['Drama']   \n",
       "230584                    ['Animation']   \n",
       "230585                  ['Documentary']   \n",
       "\n",
       "                                       text_for_embedding  \\\n",
       "0       Gladiator In the year 180, the death of Empero...   \n",
       "1       How the Grinch Stole Christmas The Grinch deci...   \n",
       "2       Chicken Run The creators of Wallace & Gromit b...   \n",
       "3       Final Destination After a teenager has a terri...   \n",
       "4       Memento Leonard Shelby is tracking down the ma...   \n",
       "...                                                   ...   \n",
       "230581  Precognito A premonition inducing drug could c...   \n",
       "230582  Giddh (The Scavenger) An old man is compelled ...   \n",
       "230583  Gulaam Chor Twelve people who gather to gamble...   \n",
       "230584                                       Due battiti    \n",
       "230585  Koromousso, Big Sister With candor, humour and...   \n",
       "\n",
       "                                               final_text  \n",
       "0       Gladiator In the year 180, the death of Empero...  \n",
       "1       How the Grinch Stole Christmas The Grinch deci...  \n",
       "2       Chicken Run The creators of Wallace & Gromit b...  \n",
       "3       Final Destination After a teenager has a terri...  \n",
       "4       Memento Leonard Shelby is tracking down the ma...  \n",
       "...                                                   ...  \n",
       "230581  Precognito A premonition inducing drug could c...  \n",
       "230582  Giddh (The Scavenger) An old man is compelled ...  \n",
       "230583  Gulaam Chor Twelve people who gather to gamble...  \n",
       "230584                         Due battiti  ['Animation']  \n",
       "230585  Koromousso, Big Sister With candor, humour and...  \n",
       "\n",
       "[230586 rows x 10 columns]"
      ]
     },
     "execution_count": 28,
     "metadata": {},
     "output_type": "execute_result"
    }
   ],
   "source": [
    "details_df"
   ]
  },
  {
   "cell_type": "code",
   "execution_count": 38,
   "metadata": {},
   "outputs": [],
   "source": [
    "final_text_df = details_df[['final_text']]"
   ]
  },
  {
   "cell_type": "code",
   "execution_count": null,
   "metadata": {},
   "outputs": [],
   "source": [
    "final_text_df"
   ]
  },
  {
   "cell_type": "code",
   "execution_count": 29,
   "metadata": {},
   "outputs": [
    {
     "ename": "KeyboardInterrupt",
     "evalue": "",
     "output_type": "error",
     "traceback": [
      "\u001b[0;31m---------------------------------------------------------------------------\u001b[0m",
      "\u001b[0;31mKeyboardInterrupt\u001b[0m                         Traceback (most recent call last)",
      "Cell \u001b[0;32mIn[29], line 2\u001b[0m\n\u001b[1;32m      1\u001b[0m \u001b[38;5;66;03m# Cell 5: Comput embeddings\u001b[39;00m\n\u001b[0;32m----> 2\u001b[0m embeddings \u001b[38;5;241m=\u001b[39m \u001b[43mmodel\u001b[49m\u001b[38;5;241;43m.\u001b[39;49m\u001b[43mencode\u001b[49m\u001b[43m(\u001b[49m\u001b[43mdetails_df\u001b[49m\u001b[43m[\u001b[49m\u001b[38;5;124;43m'\u001b[39;49m\u001b[38;5;124;43mfinal_text\u001b[39;49m\u001b[38;5;124;43m'\u001b[39;49m\u001b[43m]\u001b[49m\u001b[38;5;241;43m.\u001b[39;49m\u001b[43mtolist\u001b[49m\u001b[43m(\u001b[49m\u001b[43m)\u001b[49m\u001b[43m,\u001b[49m\u001b[43m \u001b[49m\u001b[43mconvert_to_tensor\u001b[49m\u001b[38;5;241;43m=\u001b[39;49m\u001b[38;5;28;43;01mTrue\u001b[39;49;00m\u001b[43m)\u001b[49m\n",
      "File \u001b[0;32m~/miniconda3/envs/cineai_mps/lib/python3.10/site-packages/sentence_transformers/SentenceTransformer.py:619\u001b[0m, in \u001b[0;36mSentenceTransformer.encode\u001b[0;34m(self, sentences, prompt_name, prompt, batch_size, show_progress_bar, output_value, precision, convert_to_numpy, convert_to_tensor, device, normalize_embeddings, **kwargs)\u001b[0m\n\u001b[1;32m    610\u001b[0m         \u001b[38;5;28;01mif\u001b[39;00m \u001b[38;5;124m\"\u001b[39m\u001b[38;5;124mtoken_type_ids\u001b[39m\u001b[38;5;124m\"\u001b[39m \u001b[38;5;129;01min\u001b[39;00m features:\n\u001b[1;32m    611\u001b[0m             features[\u001b[38;5;124m\"\u001b[39m\u001b[38;5;124mtoken_type_ids\u001b[39m\u001b[38;5;124m\"\u001b[39m] \u001b[38;5;241m=\u001b[39m torch\u001b[38;5;241m.\u001b[39mcat(\n\u001b[1;32m    612\u001b[0m                 (\n\u001b[1;32m    613\u001b[0m                     features[\u001b[38;5;124m\"\u001b[39m\u001b[38;5;124mtoken_type_ids\u001b[39m\u001b[38;5;124m\"\u001b[39m],\n\u001b[0;32m   (...)\u001b[0m\n\u001b[1;32m    616\u001b[0m                 \u001b[38;5;241m-\u001b[39m\u001b[38;5;241m1\u001b[39m,\n\u001b[1;32m    617\u001b[0m             )\n\u001b[0;32m--> 619\u001b[0m features \u001b[38;5;241m=\u001b[39m \u001b[43mbatch_to_device\u001b[49m\u001b[43m(\u001b[49m\u001b[43mfeatures\u001b[49m\u001b[43m,\u001b[49m\u001b[43m \u001b[49m\u001b[43mdevice\u001b[49m\u001b[43m)\u001b[49m\n\u001b[1;32m    620\u001b[0m features\u001b[38;5;241m.\u001b[39mupdate(extra_features)\n\u001b[1;32m    622\u001b[0m \u001b[38;5;28;01mwith\u001b[39;00m torch\u001b[38;5;241m.\u001b[39mno_grad():\n",
      "File \u001b[0;32m~/miniconda3/envs/cineai_mps/lib/python3.10/site-packages/sentence_transformers/util.py:1067\u001b[0m, in \u001b[0;36mbatch_to_device\u001b[0;34m(batch, target_device)\u001b[0m\n\u001b[1;32m   1065\u001b[0m \u001b[38;5;28;01mfor\u001b[39;00m key \u001b[38;5;129;01min\u001b[39;00m batch:\n\u001b[1;32m   1066\u001b[0m     \u001b[38;5;28;01mif\u001b[39;00m \u001b[38;5;28misinstance\u001b[39m(batch[key], Tensor):\n\u001b[0;32m-> 1067\u001b[0m         batch[key] \u001b[38;5;241m=\u001b[39m \u001b[43mbatch\u001b[49m\u001b[43m[\u001b[49m\u001b[43mkey\u001b[49m\u001b[43m]\u001b[49m\u001b[38;5;241;43m.\u001b[39;49m\u001b[43mto\u001b[49m\u001b[43m(\u001b[49m\u001b[43mtarget_device\u001b[49m\u001b[43m)\u001b[49m\n\u001b[1;32m   1068\u001b[0m \u001b[38;5;28;01mreturn\u001b[39;00m batch\n",
      "\u001b[0;31mKeyboardInterrupt\u001b[0m: "
     ]
    }
   ],
   "source": []
  },
  {
   "cell_type": "code",
   "execution_count": null,
   "metadata": {},
   "outputs": [],
   "source": [
    "print(type(embeddings))"
   ]
  },
  {
   "cell_type": "markdown",
   "metadata": {},
   "source": [
    "### ChromaDB a Vector Database, to store the embeddgins"
   ]
  },
  {
   "cell_type": "code",
   "execution_count": 31,
   "metadata": {},
   "outputs": [],
   "source": [
    "import chromadb\n",
    "from chromadb.config import Settings"
   ]
  },
  {
   "cell_type": "code",
   "execution_count": 32,
   "metadata": {},
   "outputs": [],
   "source": [
    "client = chromadb.Client(Settings(\n",
    "    persist_directory=\"/Users/HVMS/Desktop/CineAI/CineAI/embeddings_db\"\n",
    "))"
   ]
  },
  {
   "cell_type": "code",
   "execution_count": 35,
   "metadata": {},
   "outputs": [],
   "source": [
    "collection = client.get_or_create_collection(name=\"movies\")"
   ]
  },
  {
   "cell_type": "code",
   "execution_count": 36,
   "metadata": {},
   "outputs": [],
   "source": [
    "# Chuking the Data\n",
    "def chunk_data(data, chunk_size):\n",
    "    for i in range(0, len(data), chunk_size):\n",
    "        yield data[i:i+chunk_size]\n"
   ]
  },
  {
   "cell_type": "code",
   "execution_count": null,
   "metadata": {},
   "outputs": [],
   "source": [
    "ids = details_df['movie_id'].astype(str).tolist()\n",
    "docs = details_df['text_for_embedding'].tolist()\n",
    "embs = embeddings.tolist()\n",
    "\n",
    "max_batch_size = 40000"
   ]
  },
  {
   "cell_type": "code",
   "execution_count": 37,
   "metadata": {},
   "outputs": [
    {
     "ename": "NameError",
     "evalue": "name 'ids' is not defined",
     "output_type": "error",
     "traceback": [
      "\u001b[0;31m---------------------------------------------------------------------------\u001b[0m",
      "\u001b[0;31mNameError\u001b[0m                                 Traceback (most recent call last)",
      "Cell \u001b[0;32mIn[37], line 2\u001b[0m\n\u001b[1;32m      1\u001b[0m \u001b[38;5;28;01mfor\u001b[39;00m id_chunk, doc_chunk, emb_chunk \u001b[38;5;129;01min\u001b[39;00m \u001b[38;5;28mzip\u001b[39m(\n\u001b[0;32m----> 2\u001b[0m     chunk_data(\u001b[43mids\u001b[49m, max_batch_size),\n\u001b[1;32m      3\u001b[0m     chunk_data(docs, max_batch_size),\n\u001b[1;32m      4\u001b[0m     chunk_data(embs, max_batch_size)\n\u001b[1;32m      5\u001b[0m ):\n\u001b[1;32m      6\u001b[0m     collection\u001b[38;5;241m.\u001b[39madd(\n\u001b[1;32m      7\u001b[0m         documents\u001b[38;5;241m=\u001b[39mdoc_chunk,\n\u001b[1;32m      8\u001b[0m         ids\u001b[38;5;241m=\u001b[39mid_chunk,\n\u001b[1;32m      9\u001b[0m         embeddings\u001b[38;5;241m=\u001b[39memb_chunk\n\u001b[1;32m     10\u001b[0m     )\n",
      "\u001b[0;31mNameError\u001b[0m: name 'ids' is not defined"
     ]
    }
   ],
   "source": [
    "for id_chunk, doc_chunk, emb_chunk in zip(\n",
    "    chunk_data(ids, max_batch_size),\n",
    "    chunk_data(docs, max_batch_size),\n",
    "    chunk_data(embs, max_batch_size)\n",
    "):\n",
    "    collection.add(\n",
    "        documents=doc_chunk,\n",
    "        ids=id_chunk,\n",
    "        embeddings=emb_chunk\n",
    "    )"
   ]
  },
  {
   "cell_type": "markdown",
   "metadata": {},
   "source": [
    "### Sample Testing, with random data , to verify logs and embedding storgare in paths"
   ]
  },
  {
   "cell_type": "code",
   "execution_count": 37,
   "metadata": {},
   "outputs": [],
   "source": [
    "import logging\n",
    "import os\n",
    "\n",
    "# Set up logging configuration\n",
    "logging.basicConfig(level=logging.DEBUG, format='%(asctime)s - %(levelname)s - %(message)s')\n"
   ]
  },
  {
   "cell_type": "code",
   "execution_count": null,
   "metadata": {},
   "outputs": [],
   "source": [
    "from chromadb import Client, Settings\n",
    "import os\n",
    "\n",
    "try:\n",
    "    # Adjust the directory name slightly to avoid conflict\n",
    "    client = Client(\n",
    "        Settings(\n",
    "            persist_directory=(\"/Users/HVMS/Desktop/CineAI/CineAI/src/embeddings\", \"sample_embeddings_new\")\n",
    "        )\n",
    "    )\n",
    "    logging.debug(\"Initialized new ChromaDB client with a new directory: %s\", os.path.join(os.getcwd(), \"sample_embeddings_new\"))\n",
    "except ValueError as e:\n",
    "    logging.error(\"Failed to initialize ChromaDB client: %s\", e)\n",
    "\n"
   ]
  }
 ],
 "metadata": {
  "kernelspec": {
   "display_name": "CineAI MPS Env",
   "language": "python",
   "name": "cineai_mps"
  },
  "language_info": {
   "codemirror_mode": {
    "name": "ipython",
    "version": 3
   },
   "file_extension": ".py",
   "mimetype": "text/x-python",
   "name": "python",
   "nbconvert_exporter": "python",
   "pygments_lexer": "ipython3",
   "version": "3.10.16"
  }
 },
 "nbformat": 4,
 "nbformat_minor": 2
}
