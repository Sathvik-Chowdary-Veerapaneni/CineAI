{
 "cells": [
  {
   "cell_type": "code",
   "execution_count": 10,
   "metadata": {},
   "outputs": [],
   "source": [
    "# !pip install huggingface_hub"
   ]
  },
  {
   "cell_type": "code",
   "execution_count": 15,
   "metadata": {},
   "outputs": [],
   "source": [
    "# !pip install datasets"
   ]
  },
  {
   "cell_type": "code",
   "execution_count": 3,
   "metadata": {},
   "outputs": [],
   "source": [
    "import os\n",
    "import pandas as pd\n",
    "from sentence_transformers import SentenceTransformer\n",
    "import torch\n",
    "import chromadb"
   ]
  },
  {
   "cell_type": "code",
   "execution_count": 12,
   "metadata": {},
   "outputs": [
    {
     "name": "stdout",
     "output_type": "stream",
     "text": [
      "Using device: mps\n"
     ]
    }
   ],
   "source": [
    "# Checking MPS availability for Apple Silicon GPU acceleration\n",
    "mps_available = torch.backends.mps.is_built() and torch.backends.mps.is_available()\n",
    "device = \"mps\" if mps_available else \"cpu\"\n",
    "print(\"Using device:\", device)"
   ]
  },
  {
   "cell_type": "code",
   "execution_count": 11,
   "metadata": {},
   "outputs": [
    {
     "name": "stdout",
     "output_type": "stream",
     "text": [
      "Files in the Hugging Face dataset 'SathvikVeerapaneni7/CineAI_Dataset':\n",
      ".gitattributes\n",
      "README.md\n",
      "parquet_files/cast_df_clean.parquet\n",
      "parquet_files/crew_df_clean.parquet\n",
      "parquet_files/details_df_clean.parquet\n",
      "parquet_files/recommendations_df_clean.parquet\n",
      "parquet_files/watch_providers_df_clean.parquet\n"
     ]
    }
   ],
   "source": [
    "from huggingface_hub import HfApi\n",
    "\n",
    "dataset_url = \"SathvikVeerapaneni7/CineAI_Dataset\"\n",
    "api = HfApi()\n",
    "\n",
    "# List files in the dataset repository\n",
    "files = api.list_repo_files(repo_id=dataset_url, repo_type=\"dataset\")\n",
    "print(f\"Files in the Hugging Face dataset '{dataset_url}':\")\n",
    "for f in files:\n",
    "    print(f)"
   ]
  },
  {
   "cell_type": "code",
   "execution_count": null,
   "metadata": {},
   "outputs": [
    {
     "data": {
      "application/vnd.jupyter.widget-view+json": {
       "model_id": "37f67ac278954f73abac8d97b1ac2473",
       "version_major": 2,
       "version_minor": 0
      },
      "text/plain": [
       "details_df_clean.parquet:   0%|          | 0.00/51.1M [00:00<?, ?B/s]"
      ]
     },
     "metadata": {},
     "output_type": "display_data"
    },
    {
     "data": {
      "application/vnd.jupyter.widget-view+json": {
       "model_id": "7991e97473bc4c0295d8d1b1f42c6f28",
       "version_major": 2,
       "version_minor": 0
      },
      "text/plain": [
       "Generating train split: 0 examples [00:00, ? examples/s]"
      ]
     },
     "metadata": {},
     "output_type": "display_data"
    },
    {
     "name": "stdout",
     "output_type": "stream",
     "text": [
      "Loaded details_df from HF: (230586, 8)\n"
     ]
    },
    {
     "data": {
      "text/html": [
       "<div>\n",
       "<style scoped>\n",
       "    .dataframe tbody tr th:only-of-type {\n",
       "        vertical-align: middle;\n",
       "    }\n",
       "\n",
       "    .dataframe tbody tr th {\n",
       "        vertical-align: top;\n",
       "    }\n",
       "\n",
       "    .dataframe thead th {\n",
       "        text-align: right;\n",
       "    }\n",
       "</style>\n",
       "<table border=\"1\" class=\"dataframe\">\n",
       "  <thead>\n",
       "    <tr style=\"text-align: right;\">\n",
       "      <th></th>\n",
       "      <th>movie_id</th>\n",
       "      <th>title</th>\n",
       "      <th>overview</th>\n",
       "      <th>release_date</th>\n",
       "      <th>runtime</th>\n",
       "      <th>original_language</th>\n",
       "      <th>popularity</th>\n",
       "      <th>genres_str</th>\n",
       "    </tr>\n",
       "  </thead>\n",
       "  <tbody>\n",
       "    <tr>\n",
       "      <th>0</th>\n",
       "      <td>98.0</td>\n",
       "      <td>Gladiator</td>\n",
       "      <td>In the year 180, the death of Emperor Marcus A...</td>\n",
       "      <td>2000-05-04</td>\n",
       "      <td>155.0</td>\n",
       "      <td>en</td>\n",
       "      <td>497.649</td>\n",
       "      <td>['Action' 'Drama' 'Adventure']</td>\n",
       "    </tr>\n",
       "    <tr>\n",
       "      <th>1</th>\n",
       "      <td>8871.0</td>\n",
       "      <td>How the Grinch Stole Christmas</td>\n",
       "      <td>The Grinch decides to rob Whoville of Christma...</td>\n",
       "      <td>2000-11-17</td>\n",
       "      <td>104.0</td>\n",
       "      <td>en</td>\n",
       "      <td>177.539</td>\n",
       "      <td>['Family' 'Comedy' 'Fantasy']</td>\n",
       "    </tr>\n",
       "    <tr>\n",
       "      <th>2</th>\n",
       "      <td>7443.0</td>\n",
       "      <td>Chicken Run</td>\n",
       "      <td>The creators of Wallace &amp; Gromit bring you an ...</td>\n",
       "      <td>2000-06-23</td>\n",
       "      <td>84.0</td>\n",
       "      <td>en</td>\n",
       "      <td>62.638</td>\n",
       "      <td>['Animation' 'Comedy' 'Family']</td>\n",
       "    </tr>\n",
       "    <tr>\n",
       "      <th>3</th>\n",
       "      <td>9532.0</td>\n",
       "      <td>Final Destination</td>\n",
       "      <td>After a teenager has a terrifying vision of hi...</td>\n",
       "      <td>2000-03-17</td>\n",
       "      <td>98.0</td>\n",
       "      <td>en</td>\n",
       "      <td>54.097</td>\n",
       "      <td>['Horror']</td>\n",
       "    </tr>\n",
       "    <tr>\n",
       "      <th>4</th>\n",
       "      <td>77.0</td>\n",
       "      <td>Memento</td>\n",
       "      <td>Leonard Shelby is tracking down the man who ra...</td>\n",
       "      <td>2000-10-11</td>\n",
       "      <td>113.0</td>\n",
       "      <td>en</td>\n",
       "      <td>95.374</td>\n",
       "      <td>['Mystery' 'Thriller']</td>\n",
       "    </tr>\n",
       "  </tbody>\n",
       "</table>\n",
       "</div>"
      ],
      "text/plain": [
       "   movie_id                           title  \\\n",
       "0      98.0                       Gladiator   \n",
       "1    8871.0  How the Grinch Stole Christmas   \n",
       "2    7443.0                     Chicken Run   \n",
       "3    9532.0               Final Destination   \n",
       "4      77.0                         Memento   \n",
       "\n",
       "                                            overview release_date  runtime  \\\n",
       "0  In the year 180, the death of Emperor Marcus A...   2000-05-04    155.0   \n",
       "1  The Grinch decides to rob Whoville of Christma...   2000-11-17    104.0   \n",
       "2  The creators of Wallace & Gromit bring you an ...   2000-06-23     84.0   \n",
       "3  After a teenager has a terrifying vision of hi...   2000-03-17     98.0   \n",
       "4  Leonard Shelby is tracking down the man who ra...   2000-10-11    113.0   \n",
       "\n",
       "  original_language  popularity                       genres_str  \n",
       "0                en     497.649   ['Action' 'Drama' 'Adventure']  \n",
       "1                en     177.539    ['Family' 'Comedy' 'Fantasy']  \n",
       "2                en      62.638  ['Animation' 'Comedy' 'Family']  \n",
       "3                en      54.097                       ['Horror']  \n",
       "4                en      95.374           ['Mystery' 'Thriller']  "
      ]
     },
     "execution_count": 16,
     "metadata": {},
     "output_type": "execute_result"
    }
   ],
   "source": [
    "from datasets import load_dataset\n",
    "\n",
    "# sample Loading a single Parquet file\n",
    "dataset = load_dataset(\n",
    "    \"parquet\",\n",
    "    data_files={\"train\": \"https://huggingface.co/datasets/SathvikVeerapaneni7/CineAI_Dataset/resolve/main/parquet_files/details_df_clean.parquet\"},\n",
    "    split=\"train\"\n",
    ")\n",
    "\n",
    "# Convert to DataFrame for processing if needed\n",
    "import pandas as pd\n",
    "details_df = pd.DataFrame(dataset)\n",
    "print(\"Loaded details_df from HF:\", details_df.shape)\n",
    "details_df.head()"
   ]
  },
  {
   "cell_type": "code",
   "execution_count": null,
   "metadata": {},
   "outputs": [],
   "source": []
  }
 ],
 "metadata": {
  "kernelspec": {
   "display_name": "CineAI MPS Env",
   "language": "python",
   "name": "cineai_mps"
  },
  "language_info": {
   "codemirror_mode": {
    "name": "ipython",
    "version": 3
   },
   "file_extension": ".py",
   "mimetype": "text/x-python",
   "name": "python",
   "nbconvert_exporter": "python",
   "pygments_lexer": "ipython3",
   "version": "3.10.16"
  }
 },
 "nbformat": 4,
 "nbformat_minor": 2
}
