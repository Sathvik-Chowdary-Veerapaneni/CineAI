{
 "cells": [
  {
   "cell_type": "code",
   "execution_count": 3,
   "metadata": {},
   "outputs": [],
   "source": [
    "# !pip install huggingface_hub"
   ]
  },
  {
   "cell_type": "code",
   "execution_count": 4,
   "metadata": {},
   "outputs": [],
   "source": [
    "# !pip install datasets"
   ]
  },
  {
   "cell_type": "code",
   "execution_count": 60,
   "metadata": {},
   "outputs": [],
   "source": [
    "import os\n",
    "import pandas as pd\n",
    "from sentence_transformers import SentenceTransformer\n",
    "import torch"
   ]
  },
  {
   "cell_type": "code",
   "execution_count": 6,
   "metadata": {},
   "outputs": [
    {
     "name": "stdout",
     "output_type": "stream",
     "text": [
      "Using device: mps\n"
     ]
    }
   ],
   "source": [
    "# Checking MPS availability for Apple Silicon GPU acceleration\n",
    "mps_available = torch.backends.mps.is_built() and torch.backends.mps.is_available()\n",
    "device = \"mps\" if mps_available else \"cpu\"\n",
    "print(\"Using device:\", device)"
   ]
  },
  {
   "cell_type": "code",
   "execution_count": 7,
   "metadata": {},
   "outputs": [],
   "source": [
    "from huggingface_hub import HfApi\n",
    "\n",
    "dataset_url = \"SathvikVeerapaneni7/CineAI_Dataset\"\n",
    "api = HfApi()"
   ]
  },
  {
   "cell_type": "code",
   "execution_count": 8,
   "metadata": {},
   "outputs": [
    {
     "name": "stdout",
     "output_type": "stream",
     "text": [
      "Files in the Hugging Face dataset 'SathvikVeerapaneni7/CineAI_Dataset':\n",
      ".gitattributes\n",
      "README.md\n",
      "parquet_files/cast_df_clean.parquet\n",
      "parquet_files/crew_df_clean.parquet\n",
      "parquet_files/details_df_clean.parquet\n",
      "parquet_files/recommendations_df_clean.parquet\n",
      "parquet_files/watch_providers_df_clean.parquet\n"
     ]
    }
   ],
   "source": [
    "# List files in the dataset repository\n",
    "files = api.list_repo_files(repo_id=dataset_url, repo_type=\"dataset\")\n",
    "print(f\"Files in the Hugging Face dataset '{dataset_url}':\")\n",
    "for f in files:\n",
    "    print(f)"
   ]
  },
  {
   "cell_type": "markdown",
   "metadata": {},
   "source": [
    "### Sample Loading of details_df from hugging face parquet files"
   ]
  },
  {
   "cell_type": "code",
   "execution_count": 9,
   "metadata": {},
   "outputs": [],
   "source": [
    "from datasets import load_dataset\n",
    "\n",
    "# sample Loading a single Parquet file\n",
    "dataset = load_dataset(\n",
    "    \"parquet\",\n",
    "    data_files={\"train\": \"https://huggingface.co/datasets/SathvikVeerapaneni7/CineAI_Dataset/resolve/main/parquet_files/details_df_clean.parquet\"},\n",
    "    split=\"train\"\n",
    ")"
   ]
  },
  {
   "cell_type": "code",
   "execution_count": 10,
   "metadata": {},
   "outputs": [
    {
     "name": "stdout",
     "output_type": "stream",
     "text": [
      "Loaded details_df from HF: (230586, 8)\n"
     ]
    },
    {
     "data": {
      "text/html": [
       "<div>\n",
       "<style scoped>\n",
       "    .dataframe tbody tr th:only-of-type {\n",
       "        vertical-align: middle;\n",
       "    }\n",
       "\n",
       "    .dataframe tbody tr th {\n",
       "        vertical-align: top;\n",
       "    }\n",
       "\n",
       "    .dataframe thead th {\n",
       "        text-align: right;\n",
       "    }\n",
       "</style>\n",
       "<table border=\"1\" class=\"dataframe\">\n",
       "  <thead>\n",
       "    <tr style=\"text-align: right;\">\n",
       "      <th></th>\n",
       "      <th>movie_id</th>\n",
       "      <th>title</th>\n",
       "      <th>overview</th>\n",
       "      <th>release_date</th>\n",
       "      <th>runtime</th>\n",
       "      <th>original_language</th>\n",
       "      <th>popularity</th>\n",
       "      <th>genres_str</th>\n",
       "    </tr>\n",
       "  </thead>\n",
       "  <tbody>\n",
       "    <tr>\n",
       "      <th>0</th>\n",
       "      <td>98.0</td>\n",
       "      <td>Gladiator</td>\n",
       "      <td>In the year 180, the death of Emperor Marcus A...</td>\n",
       "      <td>2000-05-04</td>\n",
       "      <td>155.0</td>\n",
       "      <td>en</td>\n",
       "      <td>497.649</td>\n",
       "      <td>['Action' 'Drama' 'Adventure']</td>\n",
       "    </tr>\n",
       "    <tr>\n",
       "      <th>1</th>\n",
       "      <td>8871.0</td>\n",
       "      <td>How the Grinch Stole Christmas</td>\n",
       "      <td>The Grinch decides to rob Whoville of Christma...</td>\n",
       "      <td>2000-11-17</td>\n",
       "      <td>104.0</td>\n",
       "      <td>en</td>\n",
       "      <td>177.539</td>\n",
       "      <td>['Family' 'Comedy' 'Fantasy']</td>\n",
       "    </tr>\n",
       "    <tr>\n",
       "      <th>2</th>\n",
       "      <td>7443.0</td>\n",
       "      <td>Chicken Run</td>\n",
       "      <td>The creators of Wallace &amp; Gromit bring you an ...</td>\n",
       "      <td>2000-06-23</td>\n",
       "      <td>84.0</td>\n",
       "      <td>en</td>\n",
       "      <td>62.638</td>\n",
       "      <td>['Animation' 'Comedy' 'Family']</td>\n",
       "    </tr>\n",
       "    <tr>\n",
       "      <th>3</th>\n",
       "      <td>9532.0</td>\n",
       "      <td>Final Destination</td>\n",
       "      <td>After a teenager has a terrifying vision of hi...</td>\n",
       "      <td>2000-03-17</td>\n",
       "      <td>98.0</td>\n",
       "      <td>en</td>\n",
       "      <td>54.097</td>\n",
       "      <td>['Horror']</td>\n",
       "    </tr>\n",
       "    <tr>\n",
       "      <th>4</th>\n",
       "      <td>77.0</td>\n",
       "      <td>Memento</td>\n",
       "      <td>Leonard Shelby is tracking down the man who ra...</td>\n",
       "      <td>2000-10-11</td>\n",
       "      <td>113.0</td>\n",
       "      <td>en</td>\n",
       "      <td>95.374</td>\n",
       "      <td>['Mystery' 'Thriller']</td>\n",
       "    </tr>\n",
       "  </tbody>\n",
       "</table>\n",
       "</div>"
      ],
      "text/plain": [
       "   movie_id                           title  \\\n",
       "0      98.0                       Gladiator   \n",
       "1    8871.0  How the Grinch Stole Christmas   \n",
       "2    7443.0                     Chicken Run   \n",
       "3    9532.0               Final Destination   \n",
       "4      77.0                         Memento   \n",
       "\n",
       "                                            overview release_date  runtime  \\\n",
       "0  In the year 180, the death of Emperor Marcus A...   2000-05-04    155.0   \n",
       "1  The Grinch decides to rob Whoville of Christma...   2000-11-17    104.0   \n",
       "2  The creators of Wallace & Gromit bring you an ...   2000-06-23     84.0   \n",
       "3  After a teenager has a terrifying vision of hi...   2000-03-17     98.0   \n",
       "4  Leonard Shelby is tracking down the man who ra...   2000-10-11    113.0   \n",
       "\n",
       "  original_language  popularity                       genres_str  \n",
       "0                en     497.649   ['Action' 'Drama' 'Adventure']  \n",
       "1                en     177.539    ['Family' 'Comedy' 'Fantasy']  \n",
       "2                en      62.638  ['Animation' 'Comedy' 'Family']  \n",
       "3                en      54.097                       ['Horror']  \n",
       "4                en      95.374           ['Mystery' 'Thriller']  "
      ]
     },
     "execution_count": 10,
     "metadata": {},
     "output_type": "execute_result"
    }
   ],
   "source": [
    "details_df = pd.DataFrame(dataset)\n",
    "print(\"Loaded details_df from HF:\", details_df.shape)\n",
    "details_df.head()"
   ]
  },
  {
   "cell_type": "code",
   "execution_count": 11,
   "metadata": {},
   "outputs": [
    {
     "data": {
      "text/plain": [
       "(230586, 8)"
      ]
     },
     "execution_count": 11,
     "metadata": {},
     "output_type": "execute_result"
    }
   ],
   "source": [
    "details_df.shape"
   ]
  },
  {
   "cell_type": "markdown",
   "metadata": {},
   "source": [
    "# Semantic Retrieval Pipeline Overview\n",
    "\n",
    "Our goal is to build a Retrieval-Augmented Generation (RAG) component that allows quick, semantic-level access to movie data.  \n",
    "We expect the outcome to be a system that, given a natural language query, retrieves relevant movie entries narrative similarity.  \n",
    "\n",
    "\n",
    "Embed textual fields like `title`, `overview`, and optionally `genres` because they contain rich narrative and thematic information.  \n",
    "\n",
    "Not embedding purely numeric fields like `runtime` or `popularity` since they do not add semantic context. \n",
    "\n",
    "The final outcome should be a searchable index enabling users to discover related movies by concept rather than keyword.  \n",
    "This improves upon keyword search by returning results semantically aligned with the user’s intent.  \n",
    "\n",
    "\n",
    "Limitations include potential model bias if overviews are sparse or genres are missing.  \n",
    "High-level concepts are captured, but rare details may be overlooked.  \n",
    "\n",
    "\n",
    "Future improvements can involve more diverse embeddings or integrating metadata filters.  \n",
    "\n",
    "\n",
    "Overall, this pipeline lays the foundation for robust semantic retrieval within the CineAI ecosystem."
   ]
  },
  {
   "cell_type": "markdown",
   "metadata": {},
   "source": [
    "### Loading all the files in respective dataframes, df"
   ]
  },
  {
   "cell_type": "code",
   "execution_count": 12,
   "metadata": {},
   "outputs": [],
   "source": [
    "details_data_files = {\"train\": f\"https://huggingface.co/datasets/{dataset_url}/resolve/main/parquet_files/details_df_clean.parquet\"}\n",
    "details_dataset = load_dataset(\"parquet\", data_files=details_data_files, split='train')\n",
    "details_df = pd.DataFrame(details_dataset)\n"
   ]
  },
  {
   "cell_type": "code",
   "execution_count": 13,
   "metadata": {},
   "outputs": [],
   "source": [
    "details_data_files = {\"train\": f\"https://huggingface.co/datasets/{dataset_url}/resolve/main/parquet_files/cast_df_clean.parquet\"}\n",
    "cast_df_dataset = load_dataset(\"parquet\", data_files=details_data_files, split='train')\n",
    "cast_df = pd.DataFrame(cast_df_dataset)"
   ]
  },
  {
   "cell_type": "code",
   "execution_count": 14,
   "metadata": {},
   "outputs": [],
   "source": [
    "\n",
    "\n",
    "details_data_files = {\"train\": f\"https://huggingface.co/datasets/{dataset_url}/resolve/main/parquet_files/crew_df_clean.parquet\"}\n",
    "crew_dataset= load_dataset(\"parquet\", data_files=details_data_files, split='train')\n",
    "crew_df = pd.DataFrame(crew_dataset)"
   ]
  },
  {
   "cell_type": "code",
   "execution_count": 15,
   "metadata": {},
   "outputs": [],
   "source": [
    "details_data_files = {\"train\": f\"https://huggingface.co/datasets/{dataset_url}/resolve/main/parquet_files/recommendations_df_clean.parquet\"}\n",
    "recommendations_dataset= load_dataset(\"parquet\", data_files=details_data_files, split='train')\n",
    "recommendations_df = pd.DataFrame(recommendations_dataset)"
   ]
  },
  {
   "cell_type": "code",
   "execution_count": 16,
   "metadata": {},
   "outputs": [],
   "source": [
    "details_data_files = {\"train\": f\"https://huggingface.co/datasets/{dataset_url}/resolve/main/parquet_files/watch_providers_df_clean.parquet\"}\n",
    "watch_providers_dataset= load_dataset(\"parquet\", data_files=details_data_files, split='train')\n",
    "watch_providers_df= pd.DataFrame(watch_providers_dataset)"
   ]
  },
  {
   "cell_type": "code",
   "execution_count": 17,
   "metadata": {},
   "outputs": [],
   "source": [
    "dataframes=[details_df,cast_df,crew_df,recommendations_df,watch_providers_df]"
   ]
  },
  {
   "cell_type": "code",
   "execution_count": 18,
   "metadata": {},
   "outputs": [
    {
     "name": "stdout",
     "output_type": "stream",
     "text": [
      "(230586, 8)\n",
      "(2183780, 5)\n",
      "(2477256, 6)\n",
      "(2790336, 5)\n",
      "(412381, 4)\n"
     ]
    }
   ],
   "source": [
    "for i in dataframes:\n",
    "    print(i.shape)"
   ]
  },
  {
   "cell_type": "code",
   "execution_count": 19,
   "metadata": {},
   "outputs": [
    {
     "name": "stdout",
     "output_type": "stream",
     "text": [
      "DataFrame 1 Columns:\n",
      "Index(['movie_id', 'title', 'overview', 'release_date', 'runtime',\n",
      "       'original_language', 'popularity', 'genres_str'],\n",
      "      dtype='object')\n",
      "--------------------------------------------------\n",
      "DataFrame 2 Columns:\n",
      "Index(['movie_id', 'cast_id', 'name', 'character', 'credit_id'], dtype='object')\n",
      "--------------------------------------------------\n",
      "DataFrame 3 Columns:\n",
      "Index(['movie_id', 'crew_id', 'name', 'department', 'job', 'credit_id'], dtype='object')\n",
      "--------------------------------------------------\n",
      "DataFrame 4 Columns:\n",
      "Index(['movie_id', 'recommended_movie_id', 'recommended_title',\n",
      "       'recommended_popularity', 'recommended_genre_ids'],\n",
      "      dtype='object')\n",
      "--------------------------------------------------\n",
      "DataFrame 5 Columns:\n",
      "Index(['movie_id', 'provider_type', 'provider_name', 'link'], dtype='object')\n",
      "--------------------------------------------------\n"
     ]
    }
   ],
   "source": [
    "for i, df in enumerate(dataframes):\n",
    "    print(f\"DataFrame {i+1} Columns:\")\n",
    "    print(df.columns)\n",
    "    print(\"-\" * 50)\n"
   ]
  },
  {
   "cell_type": "markdown",
   "metadata": {},
   "source": [
    "### Embeddings Handling"
   ]
  },
  {
   "cell_type": "code",
   "execution_count": 20,
   "metadata": {},
   "outputs": [],
   "source": [
    "from sentence_transformers import SentenceTransformer\n",
    "import torch\n"
   ]
  },
  {
   "cell_type": "code",
   "execution_count": 21,
   "metadata": {},
   "outputs": [
    {
     "data": {
      "text/html": [
       "<div>\n",
       "<style scoped>\n",
       "    .dataframe tbody tr th:only-of-type {\n",
       "        vertical-align: middle;\n",
       "    }\n",
       "\n",
       "    .dataframe tbody tr th {\n",
       "        vertical-align: top;\n",
       "    }\n",
       "\n",
       "    .dataframe thead th {\n",
       "        text-align: right;\n",
       "    }\n",
       "</style>\n",
       "<table border=\"1\" class=\"dataframe\">\n",
       "  <thead>\n",
       "    <tr style=\"text-align: right;\">\n",
       "      <th></th>\n",
       "      <th>movie_id</th>\n",
       "      <th>title</th>\n",
       "      <th>overview</th>\n",
       "      <th>release_date</th>\n",
       "      <th>runtime</th>\n",
       "      <th>original_language</th>\n",
       "      <th>popularity</th>\n",
       "      <th>genres_str</th>\n",
       "    </tr>\n",
       "  </thead>\n",
       "  <tbody>\n",
       "    <tr>\n",
       "      <th>0</th>\n",
       "      <td>98.0</td>\n",
       "      <td>Gladiator</td>\n",
       "      <td>In the year 180, the death of Emperor Marcus A...</td>\n",
       "      <td>2000-05-04</td>\n",
       "      <td>155.0</td>\n",
       "      <td>en</td>\n",
       "      <td>497.649</td>\n",
       "      <td>['Action' 'Drama' 'Adventure']</td>\n",
       "    </tr>\n",
       "    <tr>\n",
       "      <th>1</th>\n",
       "      <td>8871.0</td>\n",
       "      <td>How the Grinch Stole Christmas</td>\n",
       "      <td>The Grinch decides to rob Whoville of Christma...</td>\n",
       "      <td>2000-11-17</td>\n",
       "      <td>104.0</td>\n",
       "      <td>en</td>\n",
       "      <td>177.539</td>\n",
       "      <td>['Family' 'Comedy' 'Fantasy']</td>\n",
       "    </tr>\n",
       "    <tr>\n",
       "      <th>2</th>\n",
       "      <td>7443.0</td>\n",
       "      <td>Chicken Run</td>\n",
       "      <td>The creators of Wallace &amp; Gromit bring you an ...</td>\n",
       "      <td>2000-06-23</td>\n",
       "      <td>84.0</td>\n",
       "      <td>en</td>\n",
       "      <td>62.638</td>\n",
       "      <td>['Animation' 'Comedy' 'Family']</td>\n",
       "    </tr>\n",
       "    <tr>\n",
       "      <th>3</th>\n",
       "      <td>9532.0</td>\n",
       "      <td>Final Destination</td>\n",
       "      <td>After a teenager has a terrifying vision of hi...</td>\n",
       "      <td>2000-03-17</td>\n",
       "      <td>98.0</td>\n",
       "      <td>en</td>\n",
       "      <td>54.097</td>\n",
       "      <td>['Horror']</td>\n",
       "    </tr>\n",
       "    <tr>\n",
       "      <th>4</th>\n",
       "      <td>77.0</td>\n",
       "      <td>Memento</td>\n",
       "      <td>Leonard Shelby is tracking down the man who ra...</td>\n",
       "      <td>2000-10-11</td>\n",
       "      <td>113.0</td>\n",
       "      <td>en</td>\n",
       "      <td>95.374</td>\n",
       "      <td>['Mystery' 'Thriller']</td>\n",
       "    </tr>\n",
       "  </tbody>\n",
       "</table>\n",
       "</div>"
      ],
      "text/plain": [
       "   movie_id                           title  \\\n",
       "0      98.0                       Gladiator   \n",
       "1    8871.0  How the Grinch Stole Christmas   \n",
       "2    7443.0                     Chicken Run   \n",
       "3    9532.0               Final Destination   \n",
       "4      77.0                         Memento   \n",
       "\n",
       "                                            overview release_date  runtime  \\\n",
       "0  In the year 180, the death of Emperor Marcus A...   2000-05-04    155.0   \n",
       "1  The Grinch decides to rob Whoville of Christma...   2000-11-17    104.0   \n",
       "2  The creators of Wallace & Gromit bring you an ...   2000-06-23     84.0   \n",
       "3  After a teenager has a terrifying vision of hi...   2000-03-17     98.0   \n",
       "4  Leonard Shelby is tracking down the man who ra...   2000-10-11    113.0   \n",
       "\n",
       "  original_language  popularity                       genres_str  \n",
       "0                en     497.649   ['Action' 'Drama' 'Adventure']  \n",
       "1                en     177.539    ['Family' 'Comedy' 'Fantasy']  \n",
       "2                en      62.638  ['Animation' 'Comedy' 'Family']  \n",
       "3                en      54.097                       ['Horror']  \n",
       "4                en      95.374           ['Mystery' 'Thriller']  "
      ]
     },
     "execution_count": 21,
     "metadata": {},
     "output_type": "execute_result"
    }
   ],
   "source": [
    "details_df.head()"
   ]
  },
  {
   "cell_type": "code",
   "execution_count": 22,
   "metadata": {},
   "outputs": [],
   "source": [
    "# Cell 3: If 'text_for_embedding' doesn't exist, create it from 'title' and 'overview'.\n",
    "# We will combine them as a fallback.\n",
    "\n",
    "if 'text_for_embedding' not in details_df.columns:\n",
    "    details_df['text_for_embedding'] = details_df['title'].fillna('') + ' ' + details_df['overview'].fillna('')\n",
    "\n",
    "# Now concatenate genres_str if available\n",
    "if 'genres_str' in details_df.columns:\n",
    "    details_df['final_text'] = details_df['text_for_embedding'] + ' ' + details_df['genres_str'].fillna('')\n",
    "else:\n",
    "    details_df['final_text'] = details_df['text_for_embedding']\n"
   ]
  },
  {
   "cell_type": "code",
   "execution_count": 23,
   "metadata": {},
   "outputs": [
    {
     "name": "stdout",
     "output_type": "stream",
     "text": [
      "True\n"
     ]
    }
   ],
   "source": [
    "# Cell 4: Initialize the embedding model\n",
    "import torch\n",
    "print(torch.backends.mps.is_available())\n",
    "device = \"mps\" if torch.backends.mps.is_available() else \"cpu\""
   ]
  },
  {
   "cell_type": "markdown",
   "metadata": {},
   "source": [
    "### Model Selection"
   ]
  },
  {
   "cell_type": "code",
   "execution_count": 24,
   "metadata": {},
   "outputs": [],
   "source": [
    "model = SentenceTransformer('sentence-transformers/all-MiniLM-L6-v2', device=device)"
   ]
  },
  {
   "cell_type": "code",
   "execution_count": 25,
   "metadata": {},
   "outputs": [
    {
     "data": {
      "text/plain": [
       "(230586,)"
      ]
     },
     "execution_count": 25,
     "metadata": {},
     "output_type": "execute_result"
    }
   ],
   "source": [
    "details_df['final_text'].shape"
   ]
  },
  {
   "cell_type": "code",
   "execution_count": 26,
   "metadata": {},
   "outputs": [
    {
     "data": {
      "text/html": [
       "<div>\n",
       "<style scoped>\n",
       "    .dataframe tbody tr th:only-of-type {\n",
       "        vertical-align: middle;\n",
       "    }\n",
       "\n",
       "    .dataframe tbody tr th {\n",
       "        vertical-align: top;\n",
       "    }\n",
       "\n",
       "    .dataframe thead th {\n",
       "        text-align: right;\n",
       "    }\n",
       "</style>\n",
       "<table border=\"1\" class=\"dataframe\">\n",
       "  <thead>\n",
       "    <tr style=\"text-align: right;\">\n",
       "      <th></th>\n",
       "      <th>movie_id</th>\n",
       "      <th>title</th>\n",
       "      <th>overview</th>\n",
       "      <th>release_date</th>\n",
       "      <th>runtime</th>\n",
       "      <th>original_language</th>\n",
       "      <th>popularity</th>\n",
       "      <th>genres_str</th>\n",
       "      <th>text_for_embedding</th>\n",
       "      <th>final_text</th>\n",
       "    </tr>\n",
       "  </thead>\n",
       "  <tbody>\n",
       "    <tr>\n",
       "      <th>0</th>\n",
       "      <td>98.0</td>\n",
       "      <td>Gladiator</td>\n",
       "      <td>In the year 180, the death of Emperor Marcus A...</td>\n",
       "      <td>2000-05-04</td>\n",
       "      <td>155.0</td>\n",
       "      <td>en</td>\n",
       "      <td>497.649</td>\n",
       "      <td>['Action' 'Drama' 'Adventure']</td>\n",
       "      <td>Gladiator In the year 180, the death of Empero...</td>\n",
       "      <td>Gladiator In the year 180, the death of Empero...</td>\n",
       "    </tr>\n",
       "    <tr>\n",
       "      <th>1</th>\n",
       "      <td>8871.0</td>\n",
       "      <td>How the Grinch Stole Christmas</td>\n",
       "      <td>The Grinch decides to rob Whoville of Christma...</td>\n",
       "      <td>2000-11-17</td>\n",
       "      <td>104.0</td>\n",
       "      <td>en</td>\n",
       "      <td>177.539</td>\n",
       "      <td>['Family' 'Comedy' 'Fantasy']</td>\n",
       "      <td>How the Grinch Stole Christmas The Grinch deci...</td>\n",
       "      <td>How the Grinch Stole Christmas The Grinch deci...</td>\n",
       "    </tr>\n",
       "    <tr>\n",
       "      <th>2</th>\n",
       "      <td>7443.0</td>\n",
       "      <td>Chicken Run</td>\n",
       "      <td>The creators of Wallace &amp; Gromit bring you an ...</td>\n",
       "      <td>2000-06-23</td>\n",
       "      <td>84.0</td>\n",
       "      <td>en</td>\n",
       "      <td>62.638</td>\n",
       "      <td>['Animation' 'Comedy' 'Family']</td>\n",
       "      <td>Chicken Run The creators of Wallace &amp; Gromit b...</td>\n",
       "      <td>Chicken Run The creators of Wallace &amp; Gromit b...</td>\n",
       "    </tr>\n",
       "    <tr>\n",
       "      <th>3</th>\n",
       "      <td>9532.0</td>\n",
       "      <td>Final Destination</td>\n",
       "      <td>After a teenager has a terrifying vision of hi...</td>\n",
       "      <td>2000-03-17</td>\n",
       "      <td>98.0</td>\n",
       "      <td>en</td>\n",
       "      <td>54.097</td>\n",
       "      <td>['Horror']</td>\n",
       "      <td>Final Destination After a teenager has a terri...</td>\n",
       "      <td>Final Destination After a teenager has a terri...</td>\n",
       "    </tr>\n",
       "    <tr>\n",
       "      <th>4</th>\n",
       "      <td>77.0</td>\n",
       "      <td>Memento</td>\n",
       "      <td>Leonard Shelby is tracking down the man who ra...</td>\n",
       "      <td>2000-10-11</td>\n",
       "      <td>113.0</td>\n",
       "      <td>en</td>\n",
       "      <td>95.374</td>\n",
       "      <td>['Mystery' 'Thriller']</td>\n",
       "      <td>Memento Leonard Shelby is tracking down the ma...</td>\n",
       "      <td>Memento Leonard Shelby is tracking down the ma...</td>\n",
       "    </tr>\n",
       "    <tr>\n",
       "      <th>...</th>\n",
       "      <td>...</td>\n",
       "      <td>...</td>\n",
       "      <td>...</td>\n",
       "      <td>...</td>\n",
       "      <td>...</td>\n",
       "      <td>...</td>\n",
       "      <td>...</td>\n",
       "      <td>...</td>\n",
       "      <td>...</td>\n",
       "      <td>...</td>\n",
       "    </tr>\n",
       "    <tr>\n",
       "      <th>230581</th>\n",
       "      <td>1183860.0</td>\n",
       "      <td>Precognito</td>\n",
       "      <td>A premonition inducing drug could cost a group...</td>\n",
       "      <td>2023-08-18</td>\n",
       "      <td>78.0</td>\n",
       "      <td>en</td>\n",
       "      <td>1.196</td>\n",
       "      <td>['Science Fiction']</td>\n",
       "      <td>Precognito A premonition inducing drug could c...</td>\n",
       "      <td>Precognito A premonition inducing drug could c...</td>\n",
       "    </tr>\n",
       "    <tr>\n",
       "      <th>230582</th>\n",
       "      <td>1141821.0</td>\n",
       "      <td>Giddh (The Scavenger)</td>\n",
       "      <td>An old man is compelled to choose an unlikely ...</td>\n",
       "      <td>2023-12-01</td>\n",
       "      <td>25.0</td>\n",
       "      <td>hi</td>\n",
       "      <td>1.196</td>\n",
       "      <td>['Drama']</td>\n",
       "      <td>Giddh (The Scavenger) An old man is compelled ...</td>\n",
       "      <td>Giddh (The Scavenger) An old man is compelled ...</td>\n",
       "    </tr>\n",
       "    <tr>\n",
       "      <th>230583</th>\n",
       "      <td>1138889.0</td>\n",
       "      <td>Gulaam Chor</td>\n",
       "      <td>Twelve people who gather to gamble at a house ...</td>\n",
       "      <td>2023-06-11</td>\n",
       "      <td>113.0</td>\n",
       "      <td>gu</td>\n",
       "      <td>1.196</td>\n",
       "      <td>['Drama']</td>\n",
       "      <td>Gulaam Chor Twelve people who gather to gamble...</td>\n",
       "      <td>Gulaam Chor Twelve people who gather to gamble...</td>\n",
       "    </tr>\n",
       "    <tr>\n",
       "      <th>230584</th>\n",
       "      <td>1211829.0</td>\n",
       "      <td>Due battiti</td>\n",
       "      <td></td>\n",
       "      <td>2023-11-29</td>\n",
       "      <td>0.0</td>\n",
       "      <td>it</td>\n",
       "      <td>1.196</td>\n",
       "      <td>['Animation']</td>\n",
       "      <td>Due battiti</td>\n",
       "      <td>Due battiti  ['Animation']</td>\n",
       "    </tr>\n",
       "    <tr>\n",
       "      <th>230585</th>\n",
       "      <td>1134543.0</td>\n",
       "      <td>Koromousso, Big Sister</td>\n",
       "      <td>With candor, humour and courage, a group of Af...</td>\n",
       "      <td>2023-06-05</td>\n",
       "      <td>75.0</td>\n",
       "      <td>fr</td>\n",
       "      <td>1.196</td>\n",
       "      <td>['Documentary']</td>\n",
       "      <td>Koromousso, Big Sister With candor, humour and...</td>\n",
       "      <td>Koromousso, Big Sister With candor, humour and...</td>\n",
       "    </tr>\n",
       "  </tbody>\n",
       "</table>\n",
       "<p>230586 rows × 10 columns</p>\n",
       "</div>"
      ],
      "text/plain": [
       "         movie_id                           title  \\\n",
       "0            98.0                       Gladiator   \n",
       "1          8871.0  How the Grinch Stole Christmas   \n",
       "2          7443.0                     Chicken Run   \n",
       "3          9532.0               Final Destination   \n",
       "4            77.0                         Memento   \n",
       "...           ...                             ...   \n",
       "230581  1183860.0                      Precognito   \n",
       "230582  1141821.0           Giddh (The Scavenger)   \n",
       "230583  1138889.0                     Gulaam Chor   \n",
       "230584  1211829.0                     Due battiti   \n",
       "230585  1134543.0          Koromousso, Big Sister   \n",
       "\n",
       "                                                 overview release_date  \\\n",
       "0       In the year 180, the death of Emperor Marcus A...   2000-05-04   \n",
       "1       The Grinch decides to rob Whoville of Christma...   2000-11-17   \n",
       "2       The creators of Wallace & Gromit bring you an ...   2000-06-23   \n",
       "3       After a teenager has a terrifying vision of hi...   2000-03-17   \n",
       "4       Leonard Shelby is tracking down the man who ra...   2000-10-11   \n",
       "...                                                   ...          ...   \n",
       "230581  A premonition inducing drug could cost a group...   2023-08-18   \n",
       "230582  An old man is compelled to choose an unlikely ...   2023-12-01   \n",
       "230583  Twelve people who gather to gamble at a house ...   2023-06-11   \n",
       "230584                                                      2023-11-29   \n",
       "230585  With candor, humour and courage, a group of Af...   2023-06-05   \n",
       "\n",
       "        runtime original_language  popularity  \\\n",
       "0         155.0                en     497.649   \n",
       "1         104.0                en     177.539   \n",
       "2          84.0                en      62.638   \n",
       "3          98.0                en      54.097   \n",
       "4         113.0                en      95.374   \n",
       "...         ...               ...         ...   \n",
       "230581     78.0                en       1.196   \n",
       "230582     25.0                hi       1.196   \n",
       "230583    113.0                gu       1.196   \n",
       "230584      0.0                it       1.196   \n",
       "230585     75.0                fr       1.196   \n",
       "\n",
       "                             genres_str  \\\n",
       "0        ['Action' 'Drama' 'Adventure']   \n",
       "1         ['Family' 'Comedy' 'Fantasy']   \n",
       "2       ['Animation' 'Comedy' 'Family']   \n",
       "3                            ['Horror']   \n",
       "4                ['Mystery' 'Thriller']   \n",
       "...                                 ...   \n",
       "230581              ['Science Fiction']   \n",
       "230582                        ['Drama']   \n",
       "230583                        ['Drama']   \n",
       "230584                    ['Animation']   \n",
       "230585                  ['Documentary']   \n",
       "\n",
       "                                       text_for_embedding  \\\n",
       "0       Gladiator In the year 180, the death of Empero...   \n",
       "1       How the Grinch Stole Christmas The Grinch deci...   \n",
       "2       Chicken Run The creators of Wallace & Gromit b...   \n",
       "3       Final Destination After a teenager has a terri...   \n",
       "4       Memento Leonard Shelby is tracking down the ma...   \n",
       "...                                                   ...   \n",
       "230581  Precognito A premonition inducing drug could c...   \n",
       "230582  Giddh (The Scavenger) An old man is compelled ...   \n",
       "230583  Gulaam Chor Twelve people who gather to gamble...   \n",
       "230584                                       Due battiti    \n",
       "230585  Koromousso, Big Sister With candor, humour and...   \n",
       "\n",
       "                                               final_text  \n",
       "0       Gladiator In the year 180, the death of Empero...  \n",
       "1       How the Grinch Stole Christmas The Grinch deci...  \n",
       "2       Chicken Run The creators of Wallace & Gromit b...  \n",
       "3       Final Destination After a teenager has a terri...  \n",
       "4       Memento Leonard Shelby is tracking down the ma...  \n",
       "...                                                   ...  \n",
       "230581  Precognito A premonition inducing drug could c...  \n",
       "230582  Giddh (The Scavenger) An old man is compelled ...  \n",
       "230583  Gulaam Chor Twelve people who gather to gamble...  \n",
       "230584                         Due battiti  ['Animation']  \n",
       "230585  Koromousso, Big Sister With candor, humour and...  \n",
       "\n",
       "[230586 rows x 10 columns]"
      ]
     },
     "execution_count": 26,
     "metadata": {},
     "output_type": "execute_result"
    }
   ],
   "source": [
    "details_df"
   ]
  },
  {
   "cell_type": "code",
   "execution_count": 27,
   "metadata": {},
   "outputs": [],
   "source": [
    "final_text_df = details_df[['final_text']]"
   ]
  },
  {
   "cell_type": "code",
   "execution_count": 28,
   "metadata": {},
   "outputs": [
    {
     "data": {
      "text/plain": [
       "(230586, 1)"
      ]
     },
     "execution_count": 28,
     "metadata": {},
     "output_type": "execute_result"
    }
   ],
   "source": [
    "final_text_df.shape"
   ]
  },
  {
   "cell_type": "markdown",
   "metadata": {},
   "source": [
    "### Parllel Processing and Multithread for Creating Embeddgins"
   ]
  },
  {
   "cell_type": "markdown",
   "metadata": {},
   "source": [
    "### Installing Ray Framework"
   ]
  },
  {
   "cell_type": "code",
   "execution_count": 29,
   "metadata": {},
   "outputs": [],
   "source": [
    "\n",
    "# !pip install ray"
   ]
  },
  {
   "cell_type": "code",
   "execution_count": 30,
   "metadata": {},
   "outputs": [],
   "source": [
    "import os\n",
    "import ray\n",
    "import pandas as pd\n",
    "import torch\n",
    "import numpy as np\n",
    "from sentence_transformers import SentenceTransformer\n"
   ]
  },
  {
   "cell_type": "markdown",
   "metadata": {},
   "source": [
    "### Intaializing ray with dashboard for monitoring"
   ]
  },
  {
   "cell_type": "code",
   "execution_count": 31,
   "metadata": {},
   "outputs": [
    {
     "name": "stderr",
     "output_type": "stream",
     "text": [
      "2024-12-18 23:08:05,803\tINFO worker.py:1812 -- Started a local Ray instance. View the dashboard at \u001b[1m\u001b[32m127.0.0.1:8265 \u001b[39m\u001b[22m\n"
     ]
    },
    {
     "data": {
      "application/vnd.jupyter.widget-view+json": {
       "model_id": "1752b2f81c8247aabadd5b635375a801",
       "version_major": 2,
       "version_minor": 0
      },
      "text/html": [
       "<div class=\"lm-Widget p-Widget lm-Panel p-Panel jp-Cell-outputWrapper\">\n",
       "    <div style=\"margin-left: 50px;display: flex;flex-direction: row;align-items: center\">\n",
       "        <div class=\"jp-RenderedHTMLCommon\" style=\"display: flex; flex-direction: row;\">\n",
       "  <svg viewBox=\"0 0 567 224\" fill=\"none\" xmlns=\"http://www.w3.org/2000/svg\" style=\"height: 3em;\">\n",
       "    <g clip-path=\"url(#clip0_4338_178347)\">\n",
       "        <path d=\"M341.29 165.561H355.29L330.13 129.051C345.63 123.991 354.21 112.051 354.21 94.2307C354.21 71.3707 338.72 58.1807 311.88 58.1807H271V165.561H283.27V131.661H311.8C314.25 131.661 316.71 131.501 319.01 131.351L341.25 165.561H341.29ZM283.29 119.851V70.0007H311.82C331.3 70.0007 342.34 78.2907 342.34 94.5507C342.34 111.271 331.34 119.861 311.82 119.861L283.29 119.851ZM451.4 138.411L463.4 165.561H476.74L428.74 58.1807H416L367.83 165.561H380.83L392.83 138.411H451.4ZM446.19 126.601H398L422 72.1407L446.24 126.601H446.19ZM526.11 128.741L566.91 58.1807H554.35L519.99 114.181L485.17 58.1807H472.44L514.01 129.181V165.541H526.13V128.741H526.11Z\" fill=\"var(--jp-ui-font-color0)\"/>\n",
       "        <path d=\"M82.35 104.44C84.0187 97.8827 87.8248 92.0678 93.1671 87.9146C98.5094 83.7614 105.083 81.5067 111.85 81.5067C118.617 81.5067 125.191 83.7614 130.533 87.9146C135.875 92.0678 139.681 97.8827 141.35 104.44H163.75C164.476 101.562 165.622 98.8057 167.15 96.2605L127.45 56.5605C121.071 60.3522 113.526 61.6823 106.235 60.3005C98.9443 58.9187 92.4094 54.9203 87.8602 49.0574C83.3109 43.1946 81.0609 35.8714 81.5332 28.4656C82.0056 21.0599 85.1679 14.0819 90.4252 8.8446C95.6824 3.60726 102.672 0.471508 110.08 0.0272655C117.487 -0.416977 124.802 1.86091 130.647 6.4324C136.493 11.0039 140.467 17.5539 141.821 24.8501C143.175 32.1463 141.816 39.6859 138 46.0505L177.69 85.7505C182.31 82.9877 187.58 81.4995 192.962 81.4375C198.345 81.3755 203.648 82.742 208.33 85.3976C213.012 88.0532 216.907 91.9029 219.616 96.5544C222.326 101.206 223.753 106.492 223.753 111.875C223.753 117.258 222.326 122.545 219.616 127.197C216.907 131.848 213.012 135.698 208.33 138.353C203.648 141.009 198.345 142.375 192.962 142.313C187.58 142.251 182.31 140.763 177.69 138L138 177.7C141.808 184.071 143.155 191.614 141.79 198.91C140.424 206.205 136.44 212.75 130.585 217.313C124.731 221.875 117.412 224.141 110.004 223.683C102.596 223.226 95.6103 220.077 90.3621 214.828C85.1139 209.58 81.9647 202.595 81.5072 195.187C81.0497 187.779 83.3154 180.459 87.878 174.605C92.4405 168.751 98.9853 164.766 106.281 163.401C113.576 162.035 121.119 163.383 127.49 167.19L167.19 127.49C165.664 124.941 164.518 122.182 163.79 119.3H141.39C139.721 125.858 135.915 131.673 130.573 135.826C125.231 139.98 118.657 142.234 111.89 142.234C105.123 142.234 98.5494 139.98 93.2071 135.826C87.8648 131.673 84.0587 125.858 82.39 119.3H60C58.1878 126.495 53.8086 132.78 47.6863 136.971C41.5641 141.163 34.1211 142.972 26.7579 142.059C19.3947 141.146 12.6191 137.574 7.70605 132.014C2.79302 126.454 0.0813599 119.29 0.0813599 111.87C0.0813599 104.451 2.79302 97.2871 7.70605 91.7272C12.6191 86.1673 19.3947 82.5947 26.7579 81.6817C34.1211 80.7686 41.5641 82.5781 47.6863 86.7696C53.8086 90.9611 58.1878 97.2456 60 104.44H82.35ZM100.86 204.32C103.407 206.868 106.759 208.453 110.345 208.806C113.93 209.159 117.527 208.258 120.522 206.256C123.517 204.254 125.725 201.276 126.771 197.828C127.816 194.38 127.633 190.677 126.253 187.349C124.874 184.021 122.383 181.274 119.205 179.577C116.027 177.88 112.359 177.337 108.826 178.042C105.293 178.746 102.113 180.654 99.8291 183.44C97.5451 186.226 96.2979 189.718 96.3 193.32C96.2985 195.364 96.7006 197.388 97.4831 199.275C98.2656 201.163 99.4132 202.877 100.86 204.32ZM204.32 122.88C206.868 120.333 208.453 116.981 208.806 113.396C209.159 109.811 208.258 106.214 206.256 103.219C204.254 100.223 201.275 98.0151 197.827 96.97C194.38 95.9249 190.676 96.1077 187.348 97.4873C184.02 98.8669 181.274 101.358 179.577 104.536C177.879 107.714 177.337 111.382 178.041 114.915C178.746 118.448 180.653 121.627 183.439 123.911C186.226 126.195 189.717 127.443 193.32 127.44C195.364 127.443 197.388 127.042 199.275 126.259C201.163 125.476 202.878 124.328 204.32 122.88ZM122.88 19.4205C120.333 16.8729 116.981 15.2876 113.395 14.9347C109.81 14.5817 106.213 15.483 103.218 17.4849C100.223 19.4868 98.0146 22.4654 96.9696 25.9131C95.9245 29.3608 96.1073 33.0642 97.4869 36.3922C98.8665 39.7202 101.358 42.4668 104.535 44.1639C107.713 45.861 111.381 46.4036 114.914 45.6992C118.447 44.9949 121.627 43.0871 123.911 40.301C126.195 37.515 127.442 34.0231 127.44 30.4205C127.44 28.3772 127.038 26.3539 126.255 24.4664C125.473 22.5788 124.326 20.8642 122.88 19.4205ZM19.42 100.86C16.8725 103.408 15.2872 106.76 14.9342 110.345C14.5813 113.93 15.4826 117.527 17.4844 120.522C19.4863 123.518 22.4649 125.726 25.9127 126.771C29.3604 127.816 33.0638 127.633 36.3918 126.254C39.7198 124.874 42.4664 122.383 44.1635 119.205C45.8606 116.027 46.4032 112.359 45.6988 108.826C44.9944 105.293 43.0866 102.114 40.3006 99.8296C37.5145 97.5455 34.0227 96.2983 30.42 96.3005C26.2938 96.3018 22.337 97.9421 19.42 100.86ZM100.86 100.86C98.3125 103.408 96.7272 106.76 96.3742 110.345C96.0213 113.93 96.9226 117.527 98.9244 120.522C100.926 123.518 103.905 125.726 107.353 126.771C110.8 127.816 114.504 127.633 117.832 126.254C121.16 124.874 123.906 122.383 125.604 119.205C127.301 116.027 127.843 112.359 127.139 108.826C126.434 105.293 124.527 102.114 121.741 99.8296C118.955 97.5455 115.463 96.2983 111.86 96.3005C109.817 96.299 107.793 96.701 105.905 97.4835C104.018 98.2661 102.303 99.4136 100.86 100.86Z\" fill=\"#00AEEF\"/>\n",
       "    </g>\n",
       "    <defs>\n",
       "        <clipPath id=\"clip0_4338_178347\">\n",
       "            <rect width=\"566.93\" height=\"223.75\" fill=\"white\"/>\n",
       "        </clipPath>\n",
       "    </defs>\n",
       "  </svg>\n",
       "</div>\n",
       "\n",
       "        <table class=\"jp-RenderedHTMLCommon\" style=\"border-collapse: collapse;color: var(--jp-ui-font-color1);font-size: var(--jp-ui-font-size1);\">\n",
       "    <tr>\n",
       "        <td style=\"text-align: left\"><b>Python version:</b></td>\n",
       "        <td style=\"text-align: left\"><b>3.10.16</b></td>\n",
       "    </tr>\n",
       "    <tr>\n",
       "        <td style=\"text-align: left\"><b>Ray version:</b></td>\n",
       "        <td style=\"text-align: left\"><b>2.40.0</b></td>\n",
       "    </tr>\n",
       "    <tr>\n",
       "    <td style=\"text-align: left\"><b>Dashboard:</b></td>\n",
       "    <td style=\"text-align: left\"><b><a href=\"http://127.0.0.1:8265\" target=\"_blank\">http://127.0.0.1:8265</a></b></td>\n",
       "</tr>\n",
       "\n",
       "</table>\n",
       "\n",
       "    </div>\n",
       "</div>\n"
      ],
      "text/plain": [
       "RayContext(dashboard_url='127.0.0.1:8265', python_version='3.10.16', ray_version='2.40.0', ray_commit='22541c38dbef25286cd6d19f1c151bf4fd62f2ed')"
      ]
     },
     "execution_count": 31,
     "metadata": {},
     "output_type": "execute_result"
    }
   ],
   "source": [
    "# Start Ray. If you want the dashboard and have ray[default] installed:\n",
    "ray.shutdown()\n",
    "ray.init(include_dashboard=True)  # If you face issues with dashboard, use: ray.init()\n"
   ]
  },
  {
   "cell_type": "code",
   "execution_count": 32,
   "metadata": {},
   "outputs": [
    {
     "name": "stdout",
     "output_type": "stream",
     "text": [
      "Number of texts: 230586\n"
     ]
    }
   ],
   "source": [
    "# Assuming final_text_df is already created and has 'final_text' column.\n",
    "# Example:\n",
    "# final_text_df = pd.DataFrame([...], columns=['final_text'])\n",
    "\n",
    "# Convert the column to a list for embedding\n",
    "final_texts = final_text_df['final_text'].tolist()\n",
    "\n",
    "print(\"Number of texts:\", len(final_texts))\n"
   ]
  },
  {
   "cell_type": "code",
   "execution_count": 33,
   "metadata": {},
   "outputs": [
    {
     "name": "stdout",
     "output_type": "stream",
     "text": [
      "Number of batches: 47\n"
     ]
    }
   ],
   "source": [
    "def chunk_data(data, chunk_size):\n",
    "    for i in range(0, len(data), chunk_size):\n",
    "        yield data[i:i+chunk_size]\n",
    "\n",
    "# Adjust chunk size based on memory and performance tests\n",
    "batch_size = 5000\n",
    "batches = list(chunk_data(final_texts, batch_size))\n",
    "print(\"Number of batches:\", len(batches))"
   ]
  },
  {
   "cell_type": "code",
   "execution_count": 34,
   "metadata": {},
   "outputs": [],
   "source": [
    "@ray.remote\n",
    "class EmbedActor:\n",
    "    def __init__(self, model_name='sentence-transformers/all-MiniLM-L6-v2'):\n",
    "        device = \"mps\" if torch.backends.mps.is_available() else \"cpu\"\n",
    "        self.model = SentenceTransformer(model_name, device=device)\n",
    "\n",
    "    def embed_texts(self, texts):\n",
    "        # texts is a list of strings\n",
    "        # Return a numpy array of embeddings\n",
    "        return self.model.encode(texts, convert_to_tensor=True).cpu().numpy()"
   ]
  },
  {
   "cell_type": "code",
   "execution_count": 35,
   "metadata": {},
   "outputs": [
    {
     "name": "stdout",
     "output_type": "stream",
     "text": [
      "Embeddings shape: (230586, 384)\n"
     ]
    }
   ],
   "source": [
    "# Create an instance of the actor\n",
    "embed_actor = EmbedActor.remote()\n",
    "\n",
    "# Submit all batches for processing\n",
    "futures = [embed_actor.embed_texts.remote(batch) for batch in batches]\n",
    "\n",
    "# Retrieve results\n",
    "results = ray.get(futures)\n",
    "\n",
    "# Combine all embeddings into a single matrix\n",
    "embeddings = np.vstack(results)\n",
    "print(\"Embeddings shape:\", embeddings.shape)\n"
   ]
  },
  {
   "cell_type": "code",
   "execution_count": 36,
   "metadata": {},
   "outputs": [],
   "source": [
    "# !pip install tensorboard"
   ]
  },
  {
   "cell_type": "code",
   "execution_count": 50,
   "metadata": {},
   "outputs": [],
   "source": [
    "import numpy as np\n",
    "import os\n",
    "\n",
    "# 1. Ensure the embeddings are in a variable `embeddings`\n",
    "# embeddings shape: (230586, 384)\n",
    "# Example: you already have `embeddings` from previous steps\n",
    "\n",
    "# 2. (Optional) If you have a list of movie titles or IDs to label each embedding:\n",
    "# Suppose you have a DataFrame `details_df` with 'title' and the same number of rows as embeddings\n",
    "titles = details_df['title'].fillna('Unknown').tolist()\n",
    "\n",
    "# 3. Create a logs directory for TensorBoard if it doesn't exist\n",
    "log_dir = \"embeddings_logs\"\n",
    "os.makedirs(log_dir, exist_ok=True)\n",
    "\n",
    "# 4. Save embeddings to a TSV file (tab-separated values)\n",
    "embeddings_file = os.path.join(log_dir, \"embeddings.tsv\")\n",
    "np.savetxt(embeddings_file, embeddings, delimiter=\"\\t\")\n",
    "\n",
    "# 5. Save metadata (labels) to a TSV file\n",
    "metadata_file = os.path.join(log_dir, \"metadata.tsv\")\n",
    "with open(metadata_file, \"w\", encoding=\"utf-8\") as f:\n",
    "    for title in titles:\n",
    "        f.write(f\"{title}\\n\")\n",
    "\n",
    "# 6. Create the projector_config.pbtxt file\n",
    "config_file = os.path.join(log_dir, \"projector_config.pbtxt\")\n",
    "with open(config_file, \"w\") as f:\n",
    "    f.write(\"\"\"embeddings {\n",
    "  tensor_name: \"movie_embeddings\"\n",
    "  tensor_path: \"embeddings.tsv\"\n",
    "  metadata_path: \"metadata.tsv\"\n",
    "}\"\"\")"
   ]
  },
  {
   "cell_type": "code",
   "execution_count": 54,
   "metadata": {},
   "outputs": [
    {
     "data": {
      "text/plain": [
       "' tensorboard --logdir=/Users/HVMS/Desktop/CineAI/CineAI/src/embeddings/embeddings_logs --port=6006 '"
      ]
     },
     "execution_count": 54,
     "metadata": {},
     "output_type": "execute_result"
    }
   ],
   "source": [
    "\" tensorboard --logdir=/Users/HVMS/Desktop/CineAI/CineAI/src/embeddings/embeddings_logs --port=6006 \"\n",
    "\n",
    "#Run this command in the active terminal"
   ]
  },
  {
   "cell_type": "markdown",
   "metadata": {},
   "source": [
    "You won’t see embeddings on the main page. At the top of the page, look for a \"Projector\" tab. Click it. You should see a dropdown labeled \"movie_embeddings\" and be able to explore your embeddings interactively."
   ]
  }
 ],
 "metadata": {
  "kernelspec": {
   "display_name": "CineAI MPS Env",
   "language": "python",
   "name": "cineai_mps"
  },
  "language_info": {
   "codemirror_mode": {
    "name": "ipython",
    "version": 3
   },
   "file_extension": ".py",
   "mimetype": "text/x-python",
   "name": "python",
   "nbconvert_exporter": "python",
   "pygments_lexer": "ipython3",
   "version": "3.10.16"
  }
 },
 "nbformat": 4,
 "nbformat_minor": 2
}
