{
 "cells": [
  {
   "cell_type": "code",
   "execution_count": 1,
   "metadata": {},
   "outputs": [
    {
     "name": "stdout",
     "output_type": "stream",
     "text": [
      "ID: 454726499563764644, Distance: 0.9999997615814209\n",
      "ID: 454726499563769244, Distance: 0.9999997615814209\n",
      "ID: 454726499563860497, Distance: 0.9999997615814209\n",
      "ID: 454726499563880433, Distance: 0.9999997615814209\n",
      "ID: 454726499563888282, Distance: 0.9999997615814209\n"
     ]
    }
   ],
   "source": [
    "from pymilvus import connections, Collection\n",
    "\n",
    "# Connect to the Milvus server\n",
    "connections.connect(\"default\", host=\"localhost\", port=\"19530\")\n",
    "\n",
    "# Load the collection (if not loaded already)\n",
    "collection = Collection(\"embeddings_collection\")\n",
    "collection.load()\n",
    "\n",
    "# Example: search for the top-5 similar vectors to a given query vector\n",
    "# Assuming 'query_vector' is a 1D list or array of length 384\n",
    "query_vector = [0.0] * 384  # Replace with your actual query vector\n",
    "\n",
    "results = collection.search(\n",
    "    data=[query_vector],\n",
    "    anns_field=\"embeddings\",\n",
    "    param={\"metric_type\": \"L2\", \"params\": {\"nprobe\": 10}},\n",
    "    limit=5\n",
    ")\n",
    "\n",
    "# Print search results\n",
    "for hit in results[0]:\n",
    "    print(f\"ID: {hit.id}, Distance: {hit.distance}\")"
   ]
  }
 ],
 "metadata": {
  "kernelspec": {
   "display_name": "CineAI MPS Env",
   "language": "python",
   "name": "cineai_mps"
  },
  "language_info": {
   "codemirror_mode": {
    "name": "ipython",
    "version": 3
   },
   "file_extension": ".py",
   "mimetype": "text/x-python",
   "name": "python",
   "nbconvert_exporter": "python",
   "pygments_lexer": "ipython3",
   "version": "3.10.16"
  }
 },
 "nbformat": 4,
 "nbformat_minor": 2
}
