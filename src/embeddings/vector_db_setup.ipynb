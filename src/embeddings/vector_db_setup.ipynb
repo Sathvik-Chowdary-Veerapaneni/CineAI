{
 "cells": [
  {
   "cell_type": "code",
   "execution_count": null,
   "id": "b69b6b3e-d4e9-4b27-bd49-1f77fa5fca18",
   "metadata": {},
   "outputs": [
    {
     "name": "stdout",
     "output_type": "stream",
     "text": [
      "Collection 'semantic_collection' is ready for semantic retrieval!\n"
     ]
    },
    {
     "name": "stderr",
     "output_type": "stream",
     "text": [
      "/var/folders/pd/38jn5w_51k92jyv8dvk65ggm0000gn/T/ipykernel_17695/462840314.py:9: DeprecationWarning: `recreate_collection` method is deprecated and will be removed in the future. Use `collection_exists` to check collection existence and `create_collection` instead.\n",
      "  client.recreate_collection(\n"
     ]
    }
   ],
   "source": [
    "from qdrant_client import QdrantClient\n",
    "\n",
    "# Connect to Qdrant\n",
    "client = QdrantClient(host=\"localhost\", port=6333)\n",
    "\n",
    "# Create or recreate a collection for semantic retrieval\n",
    "collection_name = \"semantic_collection\"\n",
    "\n",
    "client.recreate_collection(\n",
    "    collection_name=collection_name,\n",
    "    vectors_config={\n",
    "        \"size\": 768,        # Embedding dimension (example)\n",
    "        \"distance\": \"Cosine\"\n",
    "    }\n",
    ")\n",
    "\n",
    "print(f\"Collection '{collection_name}' is ready for semantic retrieval!\")\n"
   ]
  },
  {
   "cell_type": "code",
   "execution_count": null,
   "metadata": {},
   "outputs": [],
   "source": []
  }
 ],
 "metadata": {
  "kernelspec": {
   "display_name": "CineAI MPS Kernel",
   "language": "python",
   "name": "cineai_mps"
  },
  "language_info": {
   "codemirror_mode": {
    "name": "ipython",
    "version": 3
   },
   "file_extension": ".py",
   "mimetype": "text/x-python",
   "name": "python",
   "nbconvert_exporter": "python",
   "pygments_lexer": "ipython3",
   "version": "3.10.4"
  }
 },
 "nbformat": 4,
 "nbformat_minor": 5
}
