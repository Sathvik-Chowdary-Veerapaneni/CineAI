{
 "cells": [
  {
   "cell_type": "markdown",
   "metadata": {},
   "source": [
    "### Data Cleaning"
   ]
  },
  {
   "cell_type": "code",
   "execution_count": 1,
   "metadata": {},
   "outputs": [],
   "source": [
    "import os\n",
    "import pandas as pd\n",
    "import numpy as np"
   ]
  },
  {
   "cell_type": "code",
   "execution_count": 2,
   "metadata": {},
   "outputs": [],
   "source": [
    "# Define the directory where your Parquet files are stored\n",
    "data_dir = \"/Users/HVMS/Desktop/GitHub/CineAI/src/data_preprocessing/Data_Storage/Unstructered Data/parquet\""
   ]
  },
  {
   "cell_type": "code",
   "execution_count": 3,
   "metadata": {},
   "outputs": [],
   "source": [
    "# Load the Parquet files into DataFrames\n",
    "details_df = pd.read_parquet(os.path.join(data_dir, \"details_df.parquet\"))\n",
    "cast_df = pd.read_parquet(os.path.join(data_dir, \"cast_df.parquet\"))\n",
    "crew_df = pd.read_parquet(os.path.join(data_dir, \"crew_df.parquet\"))\n",
    "recommendations_df = pd.read_parquet(os.path.join(data_dir, \"recommendations_df.parquet\"))\n",
    "watch_providers_df = pd.read_parquet(os.path.join(data_dir, \"watch_providers_df.parquet\"))"
   ]
  },
  {
   "cell_type": "markdown",
   "metadata": {},
   "source": [
    "### Inspecting the data"
   ]
  },
  {
   "cell_type": "code",
   "execution_count": 8,
   "metadata": {},
   "outputs": [
    {
     "name": "stdout",
     "output_type": "stream",
     "text": [
      "Details DF:\n",
      "<class 'pandas.core.frame.DataFrame'>\n",
      "Index: 234851 entries, 0 to 234851\n",
      "Data columns (total 7 columns):\n",
      " #   Column             Non-Null Count   Dtype         \n",
      "---  ------             --------------   -----         \n",
      " 0   movie_id           234851 non-null  float64       \n",
      " 1   title              234850 non-null  object        \n",
      " 2   overview           234850 non-null  object        \n",
      " 3   release_date       234845 non-null  datetime64[ns]\n",
      " 4   runtime            234850 non-null  float64       \n",
      " 5   original_language  234850 non-null  object        \n",
      " 6   popularity         234850 non-null  float64       \n",
      "dtypes: datetime64[ns](1), float64(3), object(3)\n",
      "memory usage: 14.3+ MB\n",
      "None\n",
      "   movie_id                           title  \\\n",
      "0      98.0                       Gladiator   \n",
      "1    8871.0  How the Grinch Stole Christmas   \n",
      "2    7443.0                     Chicken Run   \n",
      "3    9532.0               Final Destination   \n",
      "4      77.0                         Memento   \n",
      "\n",
      "                                            overview release_date  runtime  \\\n",
      "0  In the year 180, the death of Emperor Marcus A...   2000-05-04    155.0   \n",
      "1  The Grinch decides to rob Whoville of Christma...   2000-11-17    104.0   \n",
      "2  The creators of Wallace & Gromit bring you an ...   2000-06-23     84.0   \n",
      "3  After a teenager has a terrifying vision of hi...   2000-03-17     98.0   \n",
      "4  Leonard Shelby is tracking down the man who ra...   2000-10-11    113.0   \n",
      "\n",
      "  original_language  popularity  \n",
      "0                en     497.649  \n",
      "1                en     177.539  \n",
      "2                en      62.638  \n",
      "3                en      54.097  \n",
      "4                en      95.374  \n",
      "\n",
      "Cast DF:\n",
      "<class 'pandas.core.frame.DataFrame'>\n",
      "RangeIndex: 2236572 entries, 0 to 2236571\n",
      "Data columns (total 5 columns):\n",
      " #   Column     Dtype \n",
      "---  ------     ----- \n",
      " 0   movie_id   int32 \n",
      " 1   cast_id    int32 \n",
      " 2   name       object\n",
      " 3   character  object\n",
      " 4   credit_id  object\n",
      "dtypes: int32(2), object(3)\n",
      "memory usage: 68.3+ MB\n",
      "None\n",
      "   movie_id  cast_id             name        character  \\\n",
      "0        98      934    Russell Crowe          Maximus   \n",
      "1        98    73421  Joaquin Phoenix         Commodus   \n",
      "2        98      935   Connie Nielsen          Lucilla   \n",
      "3        98      936      Oliver Reed          Proximo   \n",
      "4        98      194   Richard Harris  Marcus Aurelius   \n",
      "\n",
      "                  credit_id  \n",
      "0  52fe4217c3a36847f8003435  \n",
      "1  52fe4217c3a36847f8003439  \n",
      "2  52fe4217c3a36847f800343d  \n",
      "3  52fe4217c3a36847f8003441  \n",
      "4  52fe4217c3a36847f8003445  \n",
      "\n",
      "Crew DF:\n",
      "<class 'pandas.core.frame.DataFrame'>\n",
      "RangeIndex: 2549376 entries, 0 to 2549375\n",
      "Data columns (total 6 columns):\n",
      " #   Column      Dtype \n",
      "---  ------      ----- \n",
      " 0   movie_id    int32 \n",
      " 1   crew_id     int32 \n",
      " 2   name        object\n",
      " 3   department  object\n",
      " 4   job         object\n",
      " 5   credit_id   object\n",
      "dtypes: int32(2), object(4)\n",
      "memory usage: 97.3+ MB\n",
      "None\n",
      "   movie_id  crew_id            name  department         job  \\\n",
      "0        98      578    Ridley Scott   Directing    Director   \n",
      "1        98      929  David Franzoni  Production    Producer   \n",
      "2        98      930   Branko Lustig  Production    Producer   \n",
      "3        98      931    Douglas Wick  Production    Producer   \n",
      "4        98      929  David Franzoni     Writing  Screenplay   \n",
      "\n",
      "                  credit_id  \n",
      "0  52fe4217c3a36847f800340d  \n",
      "1  52fe4217c3a36847f8003413  \n",
      "2  52fe4217c3a36847f8003419  \n",
      "3  52fe4217c3a36847f800341f  \n",
      "4  52fe4217c3a36847f8003425  \n",
      "\n",
      "Recommendations DF:\n",
      "<class 'pandas.core.frame.DataFrame'>\n",
      "RangeIndex: 2851376 entries, 0 to 2851375\n",
      "Data columns (total 5 columns):\n",
      " #   Column                  Dtype  \n",
      "---  ------                  -----  \n",
      " 0   movie_id                int32  \n",
      " 1   recommended_movie_id    int32  \n",
      " 2   recommended_title       object \n",
      " 3   recommended_popularity  float64\n",
      " 4   recommended_genre_ids   object \n",
      "dtypes: float64(1), int32(2), object(2)\n",
      "memory usage: 87.0+ MB\n",
      "None\n",
      "   movie_id  recommended_movie_id  \\\n",
      "0        98                   603   \n",
      "1        98                   857   \n",
      "2        98                   197   \n",
      "3        98                 12444   \n",
      "4        98                   453   \n",
      "\n",
      "                              recommended_title  recommended_popularity  \\\n",
      "0                                    The Matrix                 125.688   \n",
      "1                           Saving Private Ryan                  68.294   \n",
      "2                                    Braveheart                  67.762   \n",
      "3  Harry Potter and the Deathly Hallows: Part 1                 127.948   \n",
      "4                              A Beautiful Mind                  50.215   \n",
      "\n",
      "  recommended_genre_ids  \n",
      "0             [28, 878]  \n",
      "1       [18, 36, 10752]  \n",
      "2   [28, 18, 36, 10752]  \n",
      "3              [12, 14]  \n",
      "4           [18, 10749]  \n",
      "\n",
      "Watch Providers DF:\n",
      "<class 'pandas.core.frame.DataFrame'>\n",
      "RangeIndex: 424090 entries, 0 to 424089\n",
      "Data columns (total 4 columns):\n",
      " #   Column         Non-Null Count   Dtype \n",
      "---  ------         --------------   ----- \n",
      " 0   movie_id       424090 non-null  int32 \n",
      " 1   provider_type  424090 non-null  object\n",
      " 2   provider_name  424090 non-null  object\n",
      " 3   link           424090 non-null  object\n",
      "dtypes: int32(1), object(3)\n",
      "memory usage: 11.3+ MB\n",
      "None\n",
      "   movie_id provider_type       provider_name  \\\n",
      "0        98          rent            Apple TV   \n",
      "1        98          rent        Amazon Video   \n",
      "2        98          rent  Google Play Movies   \n",
      "3        98          rent             YouTube   \n",
      "4        98          rent    Fandango At Home   \n",
      "\n",
      "                                                link  \n",
      "0  https://www.themoviedb.org/movie/98-gladiator/...  \n",
      "1  https://www.themoviedb.org/movie/98-gladiator/...  \n",
      "2  https://www.themoviedb.org/movie/98-gladiator/...  \n",
      "3  https://www.themoviedb.org/movie/98-gladiator/...  \n",
      "4  https://www.themoviedb.org/movie/98-gladiator/...  \n"
     ]
    }
   ],
   "source": [
    "print(\"Details DF:\")\n",
    "print(details_df.info())\n",
    "print(details_df.head())\n",
    "\n",
    "print(\"\\nCast DF:\")\n",
    "print(cast_df.info())\n",
    "print(cast_df.head())\n",
    "\n",
    "print(\"\\nCrew DF:\")\n",
    "print(crew_df.info())\n",
    "print(crew_df.head())\n",
    "\n",
    "print(\"\\nRecommendations DF:\")\n",
    "print(recommendations_df.info())\n",
    "print(recommendations_df.head())\n",
    "\n",
    "print(\"\\nWatch Providers DF:\")\n",
    "print(watch_providers_df.info())\n",
    "print(watch_providers_df.head())\n"
   ]
  },
  {
   "cell_type": "markdown",
   "metadata": {},
   "source": [
    "### Handling data types"
   ]
  },
  {
   "cell_type": "code",
   "execution_count": 9,
   "metadata": {},
   "outputs": [],
   "source": [
    "# Convert release_date to datetime in details_df if not already\n",
    "if 'release_date' in details_df.columns:\n",
    "    details_df['release_date'] = pd.to_datetime(details_df['release_date'], errors='coerce')\n",
    "\n",
    "# Convert IDs to integer type where applicable (handle errors gracefully)\n",
    "# For example, in details_df movie_id should be int\n",
    "if 'movie_id' in details_df.columns:\n",
    "    details_df['movie_id'] = pd.to_numeric(details_df['movie_id'], errors='coerce', downcast='integer')\n",
    "\n",
    "if 'movie_id' in cast_df.columns:\n",
    "    cast_df['movie_id'] = pd.to_numeric(cast_df['movie_id'], errors='coerce', downcast='integer')\n",
    "\n",
    "if 'movie_id' in crew_df.columns:\n",
    "    crew_df['movie_id'] = pd.to_numeric(crew_df['movie_id'], errors='coerce', downcast='integer')\n",
    "\n",
    "if 'movie_id' in recommendations_df.columns:\n",
    "    recommendations_df['movie_id'] = pd.to_numeric(recommendations_df['movie_id'], errors='coerce', downcast='integer')\n",
    "    # Also convert recommended_movie_id\n",
    "    recommendations_df['recommended_movie_id'] = pd.to_numeric(recommendations_df['recommended_movie_id'], errors='coerce', downcast='integer')\n",
    "\n",
    "if 'movie_id' in watch_providers_df.columns:\n",
    "    watch_providers_df['movie_id'] = pd.to_numeric(watch_providers_df['movie_id'], errors='coerce', downcast='integer')\n",
    "\n",
    "# Similarly, cast_id, crew_id might need conversion\n",
    "if 'cast_id' in cast_df.columns:\n",
    "    cast_df['cast_id'] = pd.to_numeric(cast_df['cast_id'], errors='coerce', downcast='integer')\n",
    "\n",
    "if 'crew_id' in crew_df.columns:\n",
    "    crew_df['crew_id'] = pd.to_numeric(crew_df['crew_id'], errors='coerce', downcast='integer')"
   ]
  },
  {
   "cell_type": "markdown",
   "metadata": {},
   "source": [
    "### Handling Missing Values"
   ]
  },
  {
   "cell_type": "code",
   "execution_count": 10,
   "metadata": {},
   "outputs": [
    {
     "name": "stdout",
     "output_type": "stream",
     "text": [
      "\n",
      "Missing values in details_df:\n",
      " movie_id             0\n",
      "title                1\n",
      "overview             1\n",
      "release_date         6\n",
      "runtime              1\n",
      "original_language    1\n",
      "popularity           1\n",
      "dtype: int64\n",
      "\n",
      "Missing values in cast_df:\n",
      " movie_id     0\n",
      "cast_id      0\n",
      "name         0\n",
      "character    0\n",
      "credit_id    0\n",
      "dtype: int64\n",
      "\n",
      "Missing values in crew_df:\n",
      " movie_id      0\n",
      "crew_id       0\n",
      "name          0\n",
      "department    0\n",
      "job           0\n",
      "credit_id     0\n",
      "dtype: int64\n",
      "\n",
      "Missing values in recommendations_df:\n",
      " movie_id                   0\n",
      "recommended_movie_id       0\n",
      "recommended_title          0\n",
      "recommended_popularity    47\n",
      "recommended_genre_ids     47\n",
      "dtype: int64\n",
      "\n",
      "Missing values in watch_providers_df:\n",
      " movie_id         0\n",
      "provider_type    0\n",
      "provider_name    0\n",
      "link             0\n",
      "dtype: int64\n"
     ]
    }
   ],
   "source": [
    "# Check missing values\n",
    "print(\"\\nMissing values in details_df:\\n\", details_df.isnull().sum())\n",
    "print(\"\\nMissing values in cast_df:\\n\", cast_df.isnull().sum())\n",
    "print(\"\\nMissing values in crew_df:\\n\", crew_df.isnull().sum())\n",
    "print(\"\\nMissing values in recommendations_df:\\n\", recommendations_df.isnull().sum())\n",
    "print(\"\\nMissing values in watch_providers_df:\\n\", watch_providers_df.isnull().sum())\n",
    "\n",
    "# Decide how to handle missing values:\n",
    "# For now, we might just leave them as-is or handle critical fields only.\n",
    "# Example: If overview is missing, we can leave it since not all movies need overviews.\n",
    "# If IDs are missing, consider dropping those rows.\n",
    "details_df = details_df.dropna(subset=['movie_id'])  # Ensure no movie without ID"
   ]
  },
  {
   "cell_type": "code",
   "execution_count": 13,
   "metadata": {},
   "outputs": [
    {
     "name": "stdout",
     "output_type": "stream",
     "text": [
      "Duplicates in recommendations_df: 61040\n"
     ]
    }
   ],
   "source": [
    "# Convert recommended_genre_ids from list/array to tuple\n",
    "recommendations_df['recommended_genre_ids'] = recommendations_df['recommended_genre_ids'].apply(\n",
    "    lambda x: tuple(x) if isinstance(x, (list, np.ndarray)) else x\n",
    ")\n",
    "\n",
    "# Now try checking duplicates again\n",
    "print(\"Duplicates in recommendations_df:\", recommendations_df.duplicated().sum())"
   ]
  },
  {
   "cell_type": "markdown",
   "metadata": {},
   "source": [
    "### Handling Duplicates"
   ]
  },
  {
   "cell_type": "code",
   "execution_count": null,
   "metadata": {},
   "outputs": [
    {
     "name": "stdout",
     "output_type": "stream",
     "text": [
      "\n",
      "Duplicates in details_df: 4265\n",
      "Duplicates in cast_df: 52792\n",
      "Duplicates in crew_df: 72120\n",
      "Duplicates in recommendations_df: 61040\n",
      "Duplicates in watch_providers_df: 11709\n"
     ]
    }
   ],
   "source": [
    "# Checking for duplicates\n",
    "print(\"\\nDuplicates in details_df:\", details_df.duplicated().sum())\n",
    "print(\"Duplicates in cast_df:\", cast_df.duplicated().sum())\n",
    "print(\"Duplicates in crew_df:\", crew_df.duplicated().sum())\n",
    "print(\"Duplicates in recommendations_df:\", recommendations_df.duplicated().sum())\n",
    "print(\"Duplicates in watch_providers_df:\", watch_providers_df.duplicated().sum())"
   ]
  },
  {
   "cell_type": "code",
   "execution_count": null,
   "metadata": {},
   "outputs": [],
   "source": [
    "# Removing Duplicates if had\n",
    "details_df.drop_duplicates(inplace=True)\n",
    "cast_df.drop_duplicates(inplace=True)\n",
    "crew_df.drop_duplicates(inplace=True)\n",
    "recommendations_df.drop_duplicates(inplace=True)\n",
    "watch_providers_df.drop_duplicates(inplace=True)"
   ]
  },
  {
   "cell_type": "code",
   "execution_count": 16,
   "metadata": {},
   "outputs": [
    {
     "name": "stdout",
     "output_type": "stream",
     "text": [
      "\n",
      "Duplicates in details_df: 0\n",
      "Duplicates in cast_df: 0\n",
      "Duplicates in crew_df: 0\n",
      "Duplicates in recommendations_df: 0\n",
      "Duplicates in watch_providers_df: 0\n"
     ]
    }
   ],
   "source": [
    "# Checking again for duplicates\n",
    "print(\"\\nDuplicates in details_df:\", details_df.duplicated().sum())\n",
    "print(\"Duplicates in cast_df:\", cast_df.duplicated().sum())\n",
    "print(\"Duplicates in crew_df:\", crew_df.duplicated().sum())\n",
    "print(\"Duplicates in recommendations_df:\", recommendations_df.duplicated().sum())\n",
    "print(\"Duplicates in watch_providers_df:\", watch_providers_df.duplicated().sum())"
   ]
  },
  {
   "cell_type": "markdown",
   "metadata": {},
   "source": [
    "### Normalization and Merging"
   ]
  },
  {
   "cell_type": "code",
   "execution_count": 17,
   "metadata": {},
   "outputs": [
    {
     "name": "stdout",
     "output_type": "stream",
     "text": [
      "\n",
      "Data cleaning and normalization completed. Cleaned files saved to: /Users/HVMS/Desktop/GitHub/CineAI/src/data_preprocessing/Data_Storage/Structured Data/parquet\n"
     ]
    }
   ],
   "source": [
    "clean_data_dir = \"/Users/HVMS/Desktop/GitHub/CineAI/src/data_preprocessing/Data_Storage/Structured Data/parquet\"\n",
    "os.makedirs(clean_data_dir, exist_ok=True)\n",
    "\n",
    "details_df.to_parquet(os.path.join(clean_data_dir, \"details_df_clean.parquet\"), index=False)\n",
    "cast_df.to_parquet(os.path.join(clean_data_dir, \"cast_df_clean.parquet\"), index=False)\n",
    "crew_df.to_parquet(os.path.join(clean_data_dir, \"crew_df_clean.parquet\"), index=False)\n",
    "recommendations_df.to_parquet(os.path.join(clean_data_dir, \"recommendations_df_clean.parquet\"), index=False)\n",
    "watch_providers_df.to_parquet(os.path.join(clean_data_dir, \"watch_providers_df_clean.parquet\"), index=False)\n",
    "\n",
    "print(\"\\nData cleaning and normalization completed. Cleaned files saved to:\", clean_data_dir)"
   ]
  }
 ],
 "metadata": {
  "kernelspec": {
   "display_name": "Python 3.9 (CineAI_Kernel)",
   "language": "python",
   "name": "cineai_kernel"
  },
  "language_info": {
   "codemirror_mode": {
    "name": "ipython",
    "version": 3
   },
   "file_extension": ".py",
   "mimetype": "text/x-python",
   "name": "python",
   "nbconvert_exporter": "python",
   "pygments_lexer": "ipython3",
   "version": "3.9.0"
  }
 },
 "nbformat": 4,
 "nbformat_minor": 2
}
