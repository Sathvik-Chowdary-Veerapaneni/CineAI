{
 "cells": [
  {
   "cell_type": "markdown",
   "metadata": {},
   "source": [
    "Goal of Aanlysis, to bring most valuble featuers/attributes from the batches 1,2 of json data\n",
    "1. Analyze json data of batches 1,2\n",
    "2. Finding out most required information for the CineAI training\n",
    "3. Updating the endpoits, to aquire important information"
   ]
  },
  {
   "cell_type": "code",
   "execution_count": 98,
   "metadata": {},
   "outputs": [],
   "source": [
    "#Importing libraries required for Data Analysis\n",
    "\n",
    "import pandas as pd\n",
    "import json\n",
    "import os"
   ]
  },
  {
   "cell_type": "code",
   "execution_count": 99,
   "metadata": {},
   "outputs": [],
   "source": [
    "# Loading the json data \n",
    "data_batch_dir='/Users/HVMS/Desktop/GitHub/CineAI/Data_Collector/movie_data'"
   ]
  },
  {
   "cell_type": "code",
   "execution_count": null,
   "metadata": {},
   "outputs": [
    {
     "ename": "NameError",
     "evalue": "name 'os' is not defined",
     "output_type": "error",
     "traceback": [
      "\u001b[0;31m---------------------------------------------------------------------------\u001b[0m",
      "\u001b[0;31mNameError\u001b[0m                                 Traceback (most recent call last)",
      "Cell \u001b[0;32mIn[1], line 2\u001b[0m\n\u001b[1;32m      1\u001b[0m \u001b[38;5;66;03m#sub directories\u001b[39;00m\n\u001b[0;32m----> 2\u001b[0m \u001b[38;5;28;01mfor\u001b[39;00m sub_dir \u001b[38;5;129;01min\u001b[39;00m \u001b[43mos\u001b[49m\u001b[38;5;241m.\u001b[39mlistdir(\u001b[38;5;28msorted\u001b[39m(data_batch_dir)):\n\u001b[1;32m      3\u001b[0m     \u001b[38;5;28mprint\u001b[39m(sub_dir)\n",
      "\u001b[0;31mNameError\u001b[0m: name 'os' is not defined"
     ]
    }
   ],
   "source": [
    "#sub directories\n",
    "for sub_dir in os.listdir((data_batch_dir)):\n",
    "    print(sub_dir)"
   ]
  },
  {
   "cell_type": "code",
   "execution_count": 101,
   "metadata": {},
   "outputs": [
    {
     "name": "stdout",
     "output_type": "stream",
     "text": [
      "batch_002.json\n",
      "batch_001.json\n"
     ]
    }
   ],
   "source": [
    "#sub directories\n",
    "for sub_dir in os.listdir(data_batch_dir+ '/2023/'):\n",
    "    print(sub_dir)"
   ]
  },
  {
   "cell_type": "code",
   "execution_count": 102,
   "metadata": {},
   "outputs": [],
   "source": [
    "batch_001_path = data_batch_dir +'/2023/batch_001.json'\n",
    "\n",
    "with open(batch_001_path, 'r') as file_1:\n",
    "    data_1 = json.load(file_1)"
   ]
  },
  {
   "cell_type": "code",
   "execution_count": null,
   "metadata": {},
   "outputs": [
    {
     "data": {
      "text/plain": [
       "5"
      ]
     },
     "execution_count": 103,
     "metadata": {},
     "output_type": "execute_result"
    }
   ],
   "source": [
    "#Json data is now loaded into data_1 for batch 1, 5 movies info in batch in nested key, pair structure\n",
    "len(data_1)"
   ]
  },
  {
   "cell_type": "code",
   "execution_count": 104,
   "metadata": {},
   "outputs": [
    {
     "name": "stdout",
     "output_type": "stream",
     "text": [
      "269509\n",
      "603692\n",
      "1010581\n",
      "1144962\n",
      "940551\n"
     ]
    }
   ],
   "source": [
    "#To get movie ID\n",
    "for movie_id in data_1:\n",
    "    for keys,values in movie_id.items():\n",
    "        print(keys)"
   ]
  },
  {
   "cell_type": "code",
   "execution_count": 105,
   "metadata": {},
   "outputs": [
    {
     "data": {
      "text/plain": [
       "['269509', '603692', '1010581', '1144962', '940551']"
      ]
     },
     "execution_count": 105,
     "metadata": {},
     "output_type": "execute_result"
    }
   ],
   "source": [
    "#storing movie id's in a list\n",
    "movie_id_list=[]\n",
    "for i in data_1:\n",
    "    for keys, values in i.items():\n",
    "        movie_id_list.append(keys)\n",
    "\n",
    "movie_id_list"
   ]
  },
  {
   "cell_type": "code",
   "execution_count": 106,
   "metadata": {},
   "outputs": [
    {
     "data": {
      "text/plain": [
       "str"
      ]
     },
     "execution_count": 106,
     "metadata": {},
     "output_type": "execute_result"
    }
   ],
   "source": [
    "type(movie_id_list[0]) #key in string format"
   ]
  },
  {
   "cell_type": "code",
   "execution_count": 124,
   "metadata": {},
   "outputs": [
    {
     "name": "stdout",
     "output_type": "stream",
     "text": [
      "Endpoints for movie ID 603692:\n",
      "- details\n",
      "- credits\n",
      "- keywords\n",
      "- reviews\n",
      "- similar\n",
      "- recommendations\n",
      "- videos\n",
      "- images\n",
      "- watch_providers\n",
      "- release_dates\n",
      "- translations\n",
      "- alternative_titles\n",
      "- lists\n",
      "- external_ids\n",
      "- changes\n"
     ]
    }
   ],
   "source": [
    "# To get movie individual keys columns such as(endpoints) - expecting 15 endpoints\n",
    "\n",
    "first_movie = data_1[1]\n",
    "movie_id = list(first_movie.keys())[0]\n",
    "endpoints = first_movie[movie_id].keys()\n",
    "\n",
    "print(f\"Endpoints for movie ID {movie_id}:\")\n",
    "for endpoint in endpoints:\n",
    "    print(f\"- {endpoint}\")"
   ]
  },
  {
   "cell_type": "code",
   "execution_count": 125,
   "metadata": {},
   "outputs": [
    {
     "name": "stdout",
     "output_type": "stream",
     "text": [
      "\n",
      "Keys in 'details' for movie 269509:\n",
      "- adult\n",
      "- backdrop_path\n",
      "- belongs_to_collection\n",
      "- budget\n",
      "- genres\n",
      "- homepage\n",
      "- id\n",
      "- imdb_id\n",
      "- origin_country\n",
      "- original_language\n",
      "- original_title\n",
      "- overview\n",
      "- popularity\n",
      "- poster_path\n",
      "- production_companies\n",
      "- production_countries\n",
      "- release_date\n",
      "- revenue\n",
      "- runtime\n",
      "- spoken_languages\n",
      "- status\n",
      "- tagline\n",
      "- title\n",
      "- video\n",
      "- vote_average\n",
      "- vote_count\n"
     ]
    }
   ],
   "source": [
    "# Getting keys from 'details' endpoint for first movie\n",
    "first_movie = data_1[0]  # Get first movie\n",
    "movie_id = list(first_movie.keys())[0]  # Get movie ID\n",
    "details_keys = first_movie[movie_id]['details'].keys()  # Get details keys\n",
    "\n",
    "print(f\"\\nKeys in 'details' for movie {movie_id}:\")\n",
    "for key in sorted(details_keys):\n",
    "    print(f\"- {key}\")"
   ]
  },
  {
   "cell_type": "code",
   "execution_count": null,
   "metadata": {},
   "outputs": [
    {
     "name": "stdout",
     "output_type": "stream",
     "text": [
      "\n",
      "All endpoint keys for movie ID 269509:\n",
      "\n",
      "ALTERNATIVE_TITLES keys:\n",
      "- id\n",
      "- titles\n",
      "\n",
      "CHANGES keys:\n",
      "- changes\n",
      "\n",
      "CREDITS keys:\n",
      "- cast\n",
      "- crew\n",
      "- id\n",
      "\n",
      "DETAILS keys:\n",
      "- adult\n",
      "- backdrop_path\n",
      "- belongs_to_collection\n",
      "- budget\n",
      "- genres\n",
      "- homepage\n",
      "- id\n",
      "- imdb_id\n",
      "- origin_country\n",
      "- original_language\n",
      "- original_title\n",
      "- overview\n",
      "- popularity\n",
      "- poster_path\n",
      "- production_companies\n",
      "- production_countries\n",
      "- release_date\n",
      "- revenue\n",
      "- runtime\n",
      "- spoken_languages\n",
      "- status\n",
      "- tagline\n",
      "- title\n",
      "- video\n",
      "- vote_average\n",
      "- vote_count\n",
      "\n",
      "EXTERNAL_IDS keys:\n",
      "- facebook_id\n",
      "- id\n",
      "- imdb_id\n",
      "- instagram_id\n",
      "- twitter_id\n",
      "- wikidata_id\n",
      "\n",
      "IMAGES keys:\n",
      "- backdrops\n",
      "- id\n",
      "- logos\n",
      "- posters\n",
      "\n",
      "KEYWORDS keys:\n",
      "- id\n",
      "- keywords\n",
      "\n",
      "LISTS keys:\n",
      "- id\n",
      "- page\n",
      "- results\n",
      "- total_pages\n",
      "- total_results\n",
      "\n",
      "RECOMMENDATIONS keys:\n",
      "- page\n",
      "- results\n",
      "- total_pages\n",
      "- total_results\n",
      "\n",
      "RELEASE_DATES keys:\n",
      "- id\n",
      "- results\n",
      "\n",
      "REVIEWS keys:\n",
      "- id\n",
      "- page\n",
      "- results\n",
      "- total_pages\n",
      "- total_results\n",
      "\n",
      "SIMILAR keys:\n",
      "- page\n",
      "- results\n",
      "- total_pages\n",
      "- total_results\n",
      "\n",
      "TRANSLATIONS keys:\n",
      "- id\n",
      "- translations\n",
      "\n",
      "VIDEOS keys:\n",
      "- id\n",
      "- results\n",
      "\n",
      "WATCH_PROVIDERS keys:\n",
      "- id\n",
      "- results\n"
     ]
    }
   ],
   "source": [
    "# Getting the first movie and its ID\n",
    "movie = data_1[0]\n",
    "movie_id = list(movie.keys())[0]\n",
    "movie_data = movie[movie_id]\n",
    "\n",
    "# Print all endpoint keys\n",
    "print(f\"\\nAll endpoint keys for movie ID {movie_id}:\")\n",
    "for endpoint in sorted(movie_data.keys()):\n",
    "    print(f\"\\n{endpoint.upper()} keys:\")\n",
    "    try:\n",
    "        keys = movie_data[endpoint].keys()\n",
    "        for key in sorted(keys):\n",
    "            print(f\"- {key}\")\n",
    "    except AttributeError:\n",
    "        print(\"(No nested keys)\")"
   ]
  },
  {
   "cell_type": "code",
   "execution_count": null,
   "metadata": {},
   "outputs": [
    {
     "name": "stdout",
     "output_type": "stream",
     "text": [
      "\n",
      "Key counts for movie ID 940551:\n",
      "alternative_titles: 2 keys\n",
      "changes: 1 keys\n",
      "credits: 3 keys\n",
      "details: 26 keys\n",
      "external_ids: 6 keys\n",
      "images: 4 keys\n",
      "keywords: 2 keys\n",
      "lists: 5 keys\n",
      "recommendations: 4 keys\n",
      "release_dates: 2 keys\n",
      "reviews: 5 keys\n",
      "similar: 4 keys\n",
      "translations: 2 keys\n",
      "videos: 2 keys\n",
      "watch_providers: 2 keys\n",
      "\n",
      "Total number of keys across all endpoints: 70\n"
     ]
    }
   ],
   "source": [
    "movie = data_1[4]\n",
    "movie_id = list(movie.keys())[0]\n",
    "movie_data = movie[movie_id]\n",
    "\n",
    "# Initializing counter\n",
    "total_keys = 0\n",
    "\n",
    "# To Count and print keys for each endpoint\n",
    "print(f\"\\nKey counts for movie ID {movie_id}:\")\n",
    "for endpoint in sorted(movie_data.keys()):\n",
    "    try:\n",
    "        keys = movie_data[endpoint].keys()\n",
    "        num_keys = len(keys)\n",
    "        total_keys += num_keys\n",
    "        print(f\"{endpoint}: {num_keys} keys\")\n",
    "    except AttributeError:\n",
    "        print(f\"{endpoint}: No nested keys\")\n",
    "\n",
    "print(f\"\\nTotal number of keys across all endpoints: {total_keys}\")"
   ]
  },
  {
   "cell_type": "code",
   "execution_count": null,
   "metadata": {},
   "outputs": [],
   "source": []
  }
 ],
 "metadata": {
  "kernelspec": {
   "display_name": "gpu",
   "language": "python",
   "name": "python3"
  },
  "language_info": {
   "codemirror_mode": {
    "name": "ipython",
    "version": 3
   },
   "file_extension": ".py",
   "mimetype": "text/x-python",
   "name": "python",
   "nbconvert_exporter": "python",
   "pygments_lexer": "ipython3",
   "version": "3.9.0"
  }
 },
 "nbformat": 4,
 "nbformat_minor": 2
}
