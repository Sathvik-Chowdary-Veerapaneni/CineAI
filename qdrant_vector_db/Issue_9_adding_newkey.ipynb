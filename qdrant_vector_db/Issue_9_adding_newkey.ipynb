{
 "cells": [
  {
   "cell_type": "code",
   "execution_count": 1,
   "metadata": {},
   "outputs": [
    {
     "data": {
      "text/html": [
       "<div>\n",
       "<style scoped>\n",
       "    .dataframe tbody tr th:only-of-type {\n",
       "        vertical-align: middle;\n",
       "    }\n",
       "\n",
       "    .dataframe tbody tr th {\n",
       "        vertical-align: top;\n",
       "    }\n",
       "\n",
       "    .dataframe thead th {\n",
       "        text-align: right;\n",
       "    }\n",
       "</style>\n",
       "<table border=\"1\" class=\"dataframe\">\n",
       "  <thead>\n",
       "    <tr style=\"text-align: right;\">\n",
       "      <th></th>\n",
       "      <th>movie_id</th>\n",
       "      <th>title</th>\n",
       "      <th>overview</th>\n",
       "      <th>release_date</th>\n",
       "      <th>runtime</th>\n",
       "      <th>original_language</th>\n",
       "      <th>popularity</th>\n",
       "      <th>genres_str</th>\n",
       "    </tr>\n",
       "  </thead>\n",
       "  <tbody>\n",
       "    <tr>\n",
       "      <th>0</th>\n",
       "      <td>98.0</td>\n",
       "      <td>Gladiator</td>\n",
       "      <td>In the year 180, the death of Emperor Marcus A...</td>\n",
       "      <td>2000-05-04</td>\n",
       "      <td>155.0</td>\n",
       "      <td>en</td>\n",
       "      <td>497.649</td>\n",
       "      <td>['Action' 'Drama' 'Adventure']</td>\n",
       "    </tr>\n",
       "    <tr>\n",
       "      <th>1</th>\n",
       "      <td>8871.0</td>\n",
       "      <td>How the Grinch Stole Christmas</td>\n",
       "      <td>The Grinch decides to rob Whoville of Christma...</td>\n",
       "      <td>2000-11-17</td>\n",
       "      <td>104.0</td>\n",
       "      <td>en</td>\n",
       "      <td>177.539</td>\n",
       "      <td>['Family' 'Comedy' 'Fantasy']</td>\n",
       "    </tr>\n",
       "    <tr>\n",
       "      <th>2</th>\n",
       "      <td>7443.0</td>\n",
       "      <td>Chicken Run</td>\n",
       "      <td>The creators of Wallace &amp; Gromit bring you an ...</td>\n",
       "      <td>2000-06-23</td>\n",
       "      <td>84.0</td>\n",
       "      <td>en</td>\n",
       "      <td>62.638</td>\n",
       "      <td>['Animation' 'Comedy' 'Family']</td>\n",
       "    </tr>\n",
       "    <tr>\n",
       "      <th>3</th>\n",
       "      <td>9532.0</td>\n",
       "      <td>Final Destination</td>\n",
       "      <td>After a teenager has a terrifying vision of hi...</td>\n",
       "      <td>2000-03-17</td>\n",
       "      <td>98.0</td>\n",
       "      <td>en</td>\n",
       "      <td>54.097</td>\n",
       "      <td>['Horror']</td>\n",
       "    </tr>\n",
       "    <tr>\n",
       "      <th>4</th>\n",
       "      <td>77.0</td>\n",
       "      <td>Memento</td>\n",
       "      <td>Leonard Shelby is tracking down the man who ra...</td>\n",
       "      <td>2000-10-11</td>\n",
       "      <td>113.0</td>\n",
       "      <td>en</td>\n",
       "      <td>95.374</td>\n",
       "      <td>['Mystery' 'Thriller']</td>\n",
       "    </tr>\n",
       "  </tbody>\n",
       "</table>\n",
       "</div>"
      ],
      "text/plain": [
       "   movie_id                           title  \\\n",
       "0      98.0                       Gladiator   \n",
       "1    8871.0  How the Grinch Stole Christmas   \n",
       "2    7443.0                     Chicken Run   \n",
       "3    9532.0               Final Destination   \n",
       "4      77.0                         Memento   \n",
       "\n",
       "                                            overview release_date  runtime  \\\n",
       "0  In the year 180, the death of Emperor Marcus A...   2000-05-04    155.0   \n",
       "1  The Grinch decides to rob Whoville of Christma...   2000-11-17    104.0   \n",
       "2  The creators of Wallace & Gromit bring you an ...   2000-06-23     84.0   \n",
       "3  After a teenager has a terrifying vision of hi...   2000-03-17     98.0   \n",
       "4  Leonard Shelby is tracking down the man who ra...   2000-10-11    113.0   \n",
       "\n",
       "  original_language  popularity                       genres_str  \n",
       "0                en     497.649   ['Action' 'Drama' 'Adventure']  \n",
       "1                en     177.539    ['Family' 'Comedy' 'Fantasy']  \n",
       "2                en      62.638  ['Animation' 'Comedy' 'Family']  \n",
       "3                en      54.097                       ['Horror']  \n",
       "4                en      95.374           ['Mystery' 'Thriller']  "
      ]
     },
     "execution_count": 1,
     "metadata": {},
     "output_type": "execute_result"
    }
   ],
   "source": [
    "from datasets import load_dataset\n",
    "\n",
    "# Load the Parquet file from Hugging Face\n",
    "dataset = load_dataset(\n",
    "    \"parquet\",\n",
    "    data_files={\n",
    "        \"train\": \"https://huggingface.co/datasets/SathvikVeerapaneni7/CineAI_Dataset/resolve/main/parquet_files/details_df_clean.parquet\"\n",
    "    },\n",
    "    split=\"train\"\n",
    ")\n",
    "\n",
    "# Convert to a Pandas DataFrame\n",
    "df_details = dataset.to_pandas()\n",
    "df_details.head()\n"
   ]
  },
  {
   "cell_type": "code",
   "execution_count": 12,
   "metadata": {},
   "outputs": [
    {
     "name": "stdout",
     "output_type": "stream",
     "text": [
      "       movie_id title overview release_date  runtime original_language  \\\n",
      "65873  679782.0  None     None          NaT      NaN              None   \n",
      "\n",
      "       popularity genres_str  \n",
      "65873         NaN         []  \n"
     ]
    }
   ],
   "source": [
    "# Display rows where the 'title' column is null\n",
    "null_rows = df_details[df_details['title'].isnull()]\n",
    "print(null_rows)\n"
   ]
  },
  {
   "cell_type": "code",
   "execution_count": 103,
   "metadata": {},
   "outputs": [
    {
     "data": {
      "text/plain": [
       "0                              Gladiator\n",
       "1         How the Grinch Stole Christmas\n",
       "2                            Chicken Run\n",
       "3                      Final Destination\n",
       "4                                Memento\n",
       "                       ...              \n",
       "230581                        Precognito\n",
       "230582             Giddh (The Scavenger)\n",
       "230583                       Gulaam Chor\n",
       "230584                       Due battiti\n",
       "230585            Koromousso, Big Sister\n",
       "Name: title, Length: 230585, dtype: object"
      ]
     },
     "execution_count": 103,
     "metadata": {},
     "output_type": "execute_result"
    }
   ],
   "source": [
    "df_details['title']"
   ]
  },
  {
   "cell_type": "code",
   "execution_count": 17,
   "metadata": {},
   "outputs": [
    {
     "name": "stdout",
     "output_type": "stream",
     "text": [
      "        movie_id       title  \\\n",
      "65873   679782.0        None   \n",
      "186796  679782.0  Foster Boy   \n",
      "\n",
      "                                                 overview release_date  \\\n",
      "65873                                                None          NaT   \n",
      "186796  A lawyer finds himself at the center of a tria...   2019-10-03   \n",
      "\n",
      "        runtime original_language  popularity                      genres_str  \n",
      "65873       NaN              None         NaN                              []  \n",
      "186796    109.0                en       3.507  ['Drama' 'Mystery' 'Thriller']  \n"
     ]
    }
   ],
   "source": [
    "# Find duplicate 'movie_id' including both first and last occurrences\n",
    "duplicates = df_details[df_details.duplicated('movie_id', keep=False)]\n",
    "print(duplicates)\n"
   ]
  },
  {
   "cell_type": "code",
   "execution_count": 18,
   "metadata": {},
   "outputs": [],
   "source": [
    "# Remove rows where the 'title' is None and 'movie_id' is 679782.0\n",
    "df_details = df_details[~((df_details['movie_id'] == 679782.0) & (df_details['title'].isnull()))]"
   ]
  },
  {
   "cell_type": "code",
   "execution_count": 19,
   "metadata": {},
   "outputs": [
    {
     "name": "stdout",
     "output_type": "stream",
     "text": [
      "        movie_id       title  \\\n",
      "186796  679782.0  Foster Boy   \n",
      "\n",
      "                                                 overview release_date  \\\n",
      "186796  A lawyer finds himself at the center of a tria...   2019-10-03   \n",
      "\n",
      "        runtime original_language  popularity                      genres_str  \n",
      "186796    109.0                en       3.507  ['Drama' 'Mystery' 'Thriller']  \n"
     ]
    }
   ],
   "source": [
    "# Verify the result\n",
    "print(df_details[df_details['movie_id'] == 679782.0])"
   ]
  },
  {
   "cell_type": "code",
   "execution_count": 21,
   "metadata": {},
   "outputs": [
    {
     "name": "stdout",
     "output_type": "stream",
     "text": [
      "Empty DataFrame\n",
      "Columns: [movie_id, title, overview, release_date, runtime, original_language, popularity, genres_str]\n",
      "Index: []\n"
     ]
    }
   ],
   "source": [
    "# No nulls\n",
    "\n",
    "null_rows = df_details[df_details['title'].isnull()]\n",
    "print(null_rows)\n"
   ]
  },
  {
   "cell_type": "code",
   "execution_count": 94,
   "metadata": {},
   "outputs": [
    {
     "name": "stdout",
     "output_type": "stream",
     "text": [
      "id='00000fb9-5bf1-44d5-a1ed-c844f01de307' payload={'movie_id': 112774.0, 'runtime': 0.0, 'release_date': '2003-01-21', 'combined_text': 'Movie name is Black Listed. Its description is Alan Chambers (Townsend) is a lawyer and sick of his job. He corrals his friends into forming a vigilante group. Everyone goes along with it at first, until it turns sour and innocent people start dying, and Alan is the only one left standing.. Movie genres are Action, Thriller, Drama', 'movie_id_1': 112774, 'runtime_1': 0} vector=None shard_key=None order_value=None\n"
     ]
    }
   ],
   "source": [
    "from qdrant_client import QdrantClient\n",
    "\n",
    "client = QdrantClient(host=\"localhost\", port=6333)\n",
    "points, _ = client.scroll(\n",
    "    collection_name=\"movie_collection_test_sample_1\",\n",
    "    limit=1,\n",
    "    with_payload=True\n",
    ")\n",
    "\n",
    "for point in points:\n",
    "    print(point)\n"
   ]
  },
  {
   "cell_type": "code",
   "execution_count": 100,
   "metadata": {},
   "outputs": [
    {
     "name": "stdout",
     "output_type": "stream",
     "text": [
      "id: str\n",
      "movie_id: float\n",
      "runtime: float\n",
      "release_date: str\n",
      "combined_text: str\n",
      "movie_id_1: int\n",
      "runtime: int\n",
      "---------------------\n"
     ]
    }
   ],
   "source": [
    "for point in points:\n",
    "    print(\"id:\", type(point.id).__name__)\n",
    "    print(\"movie_id:\", type(point.payload[\"movie_id\"]).__name__)\n",
    "    print(\"runtime:\", type(point.payload[\"runtime\"]).__name__)\n",
    "    print(\"release_date:\", type(point.payload[\"release_date\"]).__name__)\n",
    "    print(\"combined_text:\", type(point.payload[\"combined_text\"]).__name__)\n",
    "    print(\"movie_id_1:\", type(point.payload[\"movie_id_1\"]).__name__)\n",
    "    print(\"runtime:\", type(point.payload[\"runtime_1\"]).__name__)\n",
    "    print(\"---------------------\")\n"
   ]
  },
  {
   "cell_type": "code",
   "execution_count": 101,
   "metadata": {},
   "outputs": [
    {
     "name": "stdout",
     "output_type": "stream",
     "text": [
      "id='00000fb9-5bf1-44d5-a1ed-c844f01de307' payload={'movie_id': 112774.0, 'runtime': 0.0, 'release_date': '2003-01-21', 'combined_text': 'Movie name is Black Listed. Its description is Alan Chambers (Townsend) is a lawyer and sick of his job. He corrals his friends into forming a vigilante group. Everyone goes along with it at first, until it turns sour and innocent people start dying, and Alan is the only one left standing.. Movie genres are Action, Thriller, Drama', 'movie_id_1': 112774, 'runtime_1': 0} vector=None shard_key=None order_value=None\n"
     ]
    }
   ],
   "source": [
    "for i in points:\n",
    "    print(i)"
   ]
  },
  {
   "cell_type": "markdown",
   "metadata": {},
   "source": [
    "Searching Movie Id with 98, qdrant wont work with float, so we need to convert it to int."
   ]
  },
  {
   "cell_type": "code",
   "execution_count": 61,
   "metadata": {},
   "outputs": [],
   "source": [
    "# from qdrant_client import QdrantClient\n",
    "# from qdrant_client.http import models\n",
    "\n",
    "# client = QdrantClient(host=\"localhost\", port=6333)\n",
    "\n",
    "# scroll_filter = models.Filter(\n",
    "#     must=[\n",
    "#         models.FieldCondition(\n",
    "#             key=\"movie_id\",\n",
    "#             match=models.MatchValue(value=112774.0),  # Filtering by 112774.0\n",
    "#         )\n",
    "#     ]\n",
    "# )\n",
    "\n",
    "# points, _ = client.scroll(\n",
    "#     collection_name=\"movie_collection_test_sample_1\",\n",
    "#     limit=100,\n",
    "#     with_payload=True,\n",
    "#     scroll_filter=scroll_filter\n",
    "# )\n",
    "\n",
    "# for point in points:\n",
    "#     print(point)\n"
   ]
  },
  {
   "cell_type": "markdown",
   "metadata": {},
   "source": [
    "10 Movies Updated, float and int"
   ]
  },
  {
   "cell_type": "code",
   "execution_count": null,
   "metadata": {},
   "outputs": [],
   "source": [
    "from qdrant_client import QdrantClient\n",
    "from qdrant_client.http import models\n",
    "\n",
    "client = QdrantClient(host=\"localhost\", port=6333)\n",
    "\n",
    "source_collection = \"movie_collection_test_sample_1\"\n",
    "target_collection = \"movie_collection_test_sample_1\"\n",
    "\n",
    "points, next_page = client.scroll(\n",
    "    collection_name=source_collection,\n",
    "    limit=1000,\n",
    "    with_payload=True,\n",
    "    with_vectors=True,  # Retrieve vectors to avoid validation error\n",
    ")\n",
    "\n",
    "updated_points = []\n",
    "for point in points:\n",
    "    new_payload = dict(point.payload)\n",
    "\n",
    "    if \"movie_id\" in new_payload:\n",
    "        new_payload[\"movie_id_1\"] = int(new_payload[\"movie_id\"])\n",
    "    if \"runtime\" in new_payload:\n",
    "        new_payload[\"runtime_1\"] = int(new_payload[\"runtime\"])\n",
    "\n",
    "    updated_points.append(\n",
    "        models.PointStruct(\n",
    "            id=point.id,\n",
    "            vector=point.vector,  # Include the original vector\n",
    "            payload=new_payload,\n",
    "        )\n",
    "    )\n",
    "\n",
    "client.upsert(\n",
    "    collection_name=target_collection,\n",
    "    points=updated_points,\n",
    ")\n",
    "\n",
    "for up_point in updated_points:\n",
    "    print(up_point)\n"
   ]
  },
  {
   "cell_type": "code",
   "execution_count": 92,
   "metadata": {},
   "outputs": [],
   "source": [
    "# for i in updated_points:\n",
    "#     # print(i.payload[\"movie_id\"])\n",
    "#     print(i.payload[\"runtime_1\"])"
   ]
  },
  {
   "cell_type": "code",
   "execution_count": 89,
   "metadata": {},
   "outputs": [],
   "source": [
    "from qdrant_client import QdrantClient\n",
    "from qdrant_client.http import models\n",
    "\n",
    "client = QdrantClient(host=\"localhost\", port=6333)\n",
    "\n",
    "source_collection = \"movie_collection_test_sample_1\"\n",
    "target_collection = \"movie_collection_test_sample_1\"\n",
    "\n",
    "limit = 1000\n",
    "offset = 0\n",
    "\n",
    "while True:\n",
    "    points, next_page_offset = client.scroll(\n",
    "        collection_name=source_collection,\n",
    "        limit=limit,\n",
    "        with_payload=True,\n",
    "        with_vectors=True,\n",
    "        offset=offset\n",
    "    )\n",
    "\n",
    "    if not points:\n",
    "        break\n",
    "\n",
    "    updated_points = []\n",
    "    for point in points:\n",
    "        new_payload = dict(point.payload)\n",
    "\n",
    "        # Convert movie_id if it's not None\n",
    "        if \"movie_id\" in new_payload and new_payload[\"movie_id\"] is not None:\n",
    "            new_payload[\"movie_id_1\"] = int(new_payload[\"movie_id\"])\n",
    "\n",
    "        # Convert runtime if it's not None\n",
    "        if \"runtime\" in new_payload and new_payload[\"runtime\"] is not None:\n",
    "            new_payload[\"runtime_1\"] = int(new_payload[\"runtime\"])\n",
    "\n",
    "        updated_points.append(\n",
    "            models.PointStruct(\n",
    "                id=point.id,\n",
    "                vector=point.vector,\n",
    "                payload=new_payload,\n",
    "            )\n",
    "        )\n",
    "\n",
    "    if updated_points:\n",
    "        client.upsert(\n",
    "            collection_name=target_collection,\n",
    "            points=updated_points,\n",
    "        )\n",
    "\n",
    "    if next_page_offset is None:\n",
    "        break\n",
    "\n",
    "    offset = next_page_offset\n"
   ]
  },
  {
   "cell_type": "markdown",
   "metadata": {},
   "source": [
    "Full movies_id is updated with movies_id_1 in, int"
   ]
  },
  {
   "cell_type": "code",
   "execution_count": 90,
   "metadata": {},
   "outputs": [
    {
     "name": "stdout",
     "output_type": "stream",
     "text": [
      "Points with movie_id_1: 230586\n",
      "Points with runtime_1: 230585\n"
     ]
    }
   ],
   "source": [
    "from qdrant_client import QdrantClient\n",
    "\n",
    "client = QdrantClient(host=\"localhost\", port=6333)\n",
    "collection_name = \"movie_collection_test_sample_1\"\n",
    "\n",
    "limit = 1000\n",
    "offset = 0\n",
    "count_with_movie_id_1 = 0\n",
    "count_with_runtime_1 = 0\n",
    "\n",
    "while True:\n",
    "    points, next_offset = client.scroll(\n",
    "        collection_name=collection_name,\n",
    "        limit=limit,\n",
    "        with_payload=True,\n",
    "        with_vectors=False,\n",
    "        offset=offset\n",
    "    )\n",
    "\n",
    "    if not points:\n",
    "        break\n",
    "\n",
    "    for point in points:\n",
    "        payload = point.payload\n",
    "        if \"movie_id_1\" in payload:\n",
    "            count_with_movie_id_1 += 1\n",
    "        if \"runtime_1\" in payload:\n",
    "            count_with_runtime_1 += 1\n",
    "\n",
    "    if next_offset is None:\n",
    "        break\n",
    "\n",
    "    offset = next_offset\n",
    "\n",
    "print(\"Points with movie_id_1:\", count_with_movie_id_1)\n",
    "print(\"Points with runtime_1:\", count_with_runtime_1)\n"
   ]
  },
  {
   "cell_type": "markdown",
   "metadata": {},
   "source": [
    "## Adding movie_title, in collection"
   ]
  },
  {
   "cell_type": "code",
   "execution_count": 112,
   "metadata": {},
   "outputs": [
    {
     "name": "stdout",
     "output_type": "stream",
     "text": [
      "Done adding DataFrame columns into Qdrant payload.\n"
     ]
    }
   ],
   "source": [
    "import pandas as pd\n",
    "from collections import defaultdict\n",
    "from qdrant_client import QdrantClient\n",
    "from qdrant_client.http import models\n",
    "\n",
    "client = QdrantClient(host=\"localhost\", port=6333)\n",
    "collection_name = \"movie_collection_test_sample_1\"\n",
    "\n",
    "\n",
    "points_by_movie_id = defaultdict(list)\n",
    "limit = 10_000\n",
    "offset = 0\n",
    "\n",
    "while True:\n",
    "    points, next_offset = client.scroll(\n",
    "        collection_name=collection_name,\n",
    "        limit=limit,\n",
    "        with_payload=True,\n",
    "        with_vectors=True,\n",
    "        offset=offset\n",
    "    )\n",
    "    if not points:\n",
    "        break\n",
    "\n",
    "    for p in points:\n",
    "        movie_id_1 = p.payload.get(\"movie_id_1\")\n",
    "        if movie_id_1 is not None:\n",
    "            points_by_movie_id[movie_id_1].append(p)\n",
    "\n",
    "    if next_offset is None:\n",
    "        break\n",
    "    offset = next_offset\n",
    "\n",
    "# 2) For each row in df_details, update payload with new keys\n",
    "updated_points = []\n",
    "batch_size = 1000\n",
    "\n",
    "for _, row in df_details.iterrows():\n",
    "    # Skip if row has no valid movie_id\n",
    "    if pd.isna(row[\"movie_id\"]):\n",
    "        continue\n",
    "\n",
    "    movie_id_int = int(row[\"movie_id\"])\n",
    "\n",
    "    # Prepare new fields from the DataFrame\n",
    "    # (adjust the names if you want different key names in Qdrant)\n",
    "    movie_title = row.get(\"title\", \"\")\n",
    "    movie_overview_1 = row.get(\"overview\", \"\")\n",
    "    # movie_release_date = row.get(\"release_date\", \"\")\n",
    "    # movie_runtime = row.get(\"runtime\", \"\")\n",
    "    movie_original_language = row.get(\"original_language\", \"\")\n",
    "    # movie_popularity = row.get(\"popularity\", \"\")\n",
    "    # movie_genres_str = row.get(\"genres_str\", \"\")\n",
    "\n",
    "    # If we have points matching this movie_id_1, update them\n",
    "    if movie_id_int in points_by_movie_id:\n",
    "        for p in points_by_movie_id[movie_id_int]:\n",
    "            p.payload[\"movie_title\"] = movie_title\n",
    "            p.payload[\"movie_overview\"] = movie_overview_1\n",
    "            # p.payload[\"movie_release_date\"] = movie_release_date\n",
    "            # p.payload[\"movie_runtime\"] = movie_runtime\n",
    "            p.payload[\"movie_original_language\"] = movie_original_language\n",
    "            # p.payload[\"movie_popularity\"] = movie_popularity\n",
    "            # p.payload[\"movie_genres_str\"] = movie_genres_str\n",
    "\n",
    "            updated_points.append(\n",
    "                models.PointStruct(\n",
    "                    id=p.id,\n",
    "                    vector=p.vector,\n",
    "                    payload=p.payload\n",
    "                )\n",
    "            )\n",
    "\n",
    "            # Upsert in batches\n",
    "            if len(updated_points) >= batch_size:\n",
    "                client.upsert(collection_name, updated_points)\n",
    "                updated_points.clear()\n",
    "\n",
    "# Final upsert if any remain\n",
    "if updated_points:\n",
    "    client.upsert(collection_name, updated_points)\n",
    "    updated_points.clear()\n",
    "\n",
    "print(\"Done adding DataFrame columns into Qdrant payload.\")\n"
   ]
  },
  {
   "cell_type": "markdown",
   "metadata": {},
   "source": [
    "Code block to check how many left"
   ]
  },
  {
   "cell_type": "code",
   "execution_count": 105,
   "metadata": {},
   "outputs": [
    {
     "name": "stdout",
     "output_type": "stream",
     "text": [
      "Total points in collection: 230586\n"
     ]
    }
   ],
   "source": [
    "from qdrant_client import QdrantClient\n",
    "\n",
    "client = QdrantClient(host=\"localhost\", port=6333)\n",
    "collection_name = \"movie_collection_test_sample_1\"\n",
    "\n",
    "info = client.get_collection(collection_name=collection_name)\n",
    "total_points = info.points_count\n",
    "\n",
    "print(\"Total points in collection:\", total_points)\n"
   ]
  },
  {
   "cell_type": "code",
   "execution_count": 107,
   "metadata": {},
   "outputs": [
    {
     "name": "stdout",
     "output_type": "stream",
     "text": [
      "Points with movie_id_1: 230586\n",
      "Points with runtime_1: 230585\n"
     ]
    }
   ],
   "source": [
    "from qdrant_client import QdrantClient\n",
    "\n",
    "client = QdrantClient(host=\"localhost\", port=6333)\n",
    "collection_name = \"movie_collection_test_sample_1\"\n",
    "\n",
    "limit = 1000\n",
    "offset = 0\n",
    "has_movie_id_1 = 0\n",
    "has_runtime_1 = 0\n",
    "\n",
    "while True:\n",
    "    points, next_offset = client.scroll(\n",
    "        collection_name=collection_name,\n",
    "        limit=limit,\n",
    "        with_payload=True,\n",
    "        with_vectors=False,\n",
    "        offset=offset\n",
    "    )\n",
    "\n",
    "    if not points:\n",
    "        break\n",
    "\n",
    "    for point in points:\n",
    "        payload = point.payload\n",
    "        if \"movie_id_1\" in payload:\n",
    "            has_movie_id_1 += 1\n",
    "        if \"runtime_1\" in payload:\n",
    "            has_runtime_1 += 1\n",
    "\n",
    "    if next_offset is None:\n",
    "        break\n",
    "\n",
    "    offset = next_offset\n",
    "\n",
    "print(\"Points with movie_id_1:\", has_movie_id_1)\n",
    "print(\"Points with runtime_1:\", has_runtime_1)\n"
   ]
  },
  {
   "cell_type": "code",
   "execution_count": 108,
   "metadata": {},
   "outputs": [
    {
     "name": "stdout",
     "output_type": "stream",
     "text": [
      "Points with a non-null movie_id_1: 230586\n",
      "Points with a non-null runtime_1: 230585\n"
     ]
    }
   ],
   "source": [
    "from qdrant_client import QdrantClient\n",
    "\n",
    "client = QdrantClient(host=\"localhost\", port=6333)\n",
    "collection_name = \"movie_collection_test_sample_1\"\n",
    "\n",
    "limit = 1000\n",
    "offset = 0\n",
    "\n",
    "count_movie_id_1_value = 0\n",
    "count_runtime_1_value = 0\n",
    "\n",
    "while True:\n",
    "    points, next_offset = client.scroll(\n",
    "        collection_name=collection_name,\n",
    "        limit=limit,\n",
    "        with_payload=True,\n",
    "        with_vectors=False,\n",
    "        offset=offset\n",
    "    )\n",
    "\n",
    "    if not points:\n",
    "        break\n",
    "\n",
    "    for point in points:\n",
    "        payload = point.payload\n",
    "\n",
    "        # Check if movie_id_1 exists and is not None\n",
    "        if \"movie_id_1\" in payload and payload[\"movie_id_1\"] is not None:\n",
    "            count_movie_id_1_value += 1\n",
    "\n",
    "        # Check if runtime_1 exists and is not None\n",
    "        if \"runtime_1\" in payload and payload[\"runtime_1\"] is not None:\n",
    "            count_runtime_1_value += 1\n",
    "\n",
    "    if next_offset is None:\n",
    "        break\n",
    "\n",
    "    offset = next_offset\n",
    "\n",
    "print(\"Points with a non-null movie_id_1:\", count_movie_id_1_value)\n",
    "print(\"Points with a non-null runtime_1:\", count_runtime_1_value)\n"
   ]
  },
  {
   "cell_type": "code",
   "execution_count": 109,
   "metadata": {},
   "outputs": [
    {
     "name": "stdout",
     "output_type": "stream",
     "text": [
      "Total points compared (movie_id): 230586\n",
      "Mismatches (movie_id): 0\n",
      "Total points compared (runtime): 230585\n",
      "Mismatches (runtime): 0\n"
     ]
    }
   ],
   "source": [
    "from qdrant_client import QdrantClient\n",
    "\n",
    "client = QdrantClient(host=\"localhost\", port=6333)\n",
    "collection_name = \"movie_collection_test_sample_1\"\n",
    "\n",
    "limit = 1000\n",
    "offset = 0\n",
    "\n",
    "mismatch_count_movie = 0\n",
    "mismatch_count_runtime = 0\n",
    "total_compared_movie = 0\n",
    "total_compared_runtime = 0\n",
    "\n",
    "while True:\n",
    "    points, next_offset = client.scroll(\n",
    "        collection_name=collection_name,\n",
    "        limit=limit,\n",
    "        with_payload=True,\n",
    "        with_vectors=False,\n",
    "        offset=offset\n",
    "    )\n",
    "\n",
    "    if not points:\n",
    "        break\n",
    "\n",
    "    for point in points:\n",
    "        payload = point.payload\n",
    "\n",
    "        # Check both original movie_id (float) and new movie_id_1 (int)\n",
    "        if \"movie_id\" in payload and \"movie_id_1\" in payload:\n",
    "            if payload[\"movie_id\"] is not None and payload[\"movie_id_1\"] is not None:\n",
    "                total_compared_movie += 1\n",
    "                if int(payload[\"movie_id\"]) != payload[\"movie_id_1\"]:\n",
    "                    mismatch_count_movie += 1\n",
    "\n",
    "        # Check both original runtime (float) and new runtime_1 (int)\n",
    "        if \"runtime\" in payload and \"runtime_1\" in payload:\n",
    "            if payload[\"runtime\"] is not None and payload[\"runtime_1\"] is not None:\n",
    "                total_compared_runtime += 1\n",
    "                if int(payload[\"runtime\"]) != payload[\"runtime_1\"]:\n",
    "                    mismatch_count_runtime += 1\n",
    "\n",
    "    if next_offset is None:\n",
    "        break\n",
    "    offset = next_offset\n",
    "\n",
    "print(f\"Total points compared (movie_id): {total_compared_movie}\")\n",
    "print(f\"Mismatches (movie_id): {mismatch_count_movie}\")\n",
    "print(f\"Total points compared (runtime): {total_compared_runtime}\")\n",
    "print(f\"Mismatches (runtime): {mismatch_count_runtime}\")\n"
   ]
  },
  {
   "cell_type": "code",
   "execution_count": null,
   "metadata": {},
   "outputs": [],
   "source": []
  }
 ],
 "metadata": {
  "kernelspec": {
   "display_name": "CineAI MPS Kernel",
   "language": "python",
   "name": "cineai_mps"
  },
  "language_info": {
   "codemirror_mode": {
    "name": "ipython",
    "version": 3
   },
   "file_extension": ".py",
   "mimetype": "text/x-python",
   "name": "python",
   "nbconvert_exporter": "python",
   "pygments_lexer": "ipython3",
   "version": "3.10.4"
  }
 },
 "nbformat": 4,
 "nbformat_minor": 2
}
